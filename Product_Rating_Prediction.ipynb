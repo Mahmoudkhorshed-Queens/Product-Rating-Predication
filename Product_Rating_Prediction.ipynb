{
  "cells": [
    {
      "cell_type": "markdown",
      "metadata": {
        "id": "MFA1tqsgupZp"
      },
      "source": [
        "#   1- Business requirement/understanding."
      ]
    },
    {
      "cell_type": "markdown",
      "metadata": {
        "id": "gpAcqd7nh3zd"
      },
      "source": [
        "# **Problem Formulation** \n",
        "We want to find and predict the **product ratings** given the other features known for a product on Wish.com.\n"
      ]
    },
    {
      "cell_type": "markdown",
      "metadata": {
        "id": "Nu-5Ys_0i77d"
      },
      "source": [
        "\n",
        "\n",
        "*   **Input** :- Features collected from merchants and products.\n",
        "*   **Output** :- Predected rating for product.\n",
        "\n",
        "\n",
        "*   **Data Mining Function** :- Manipulating ,analyzing , preprocessing the data. \n",
        "*   **Challenges** ▶ : \n",
        "    1.   Nan cells.\n",
        "    2.   Unused and unimportnat column.\n",
        "    3.   Convert the dtype.\n",
        "    4.   convert strings by One Hot encoding.\n",
        "*   **Impact** ▶ : Predicting the rating of products and study what the market wants.\n",
        "\n",
        "\n",
        "\n",
        "\n"
      ]
    },
    {
      "cell_type": "markdown",
      "metadata": {
        "id": "ca_NdYY5pwRb"
      },
      "source": [
        "Copyrights 2022 Master of science - Queens University - by/Mahmoud Khorshed"
      ]
    },
    {
      "cell_type": "markdown",
      "metadata": {
        "id": "20ee0d9a"
      },
      "source": [
        "# 1- import libraries and Data"
      ]
    },
    {
      "cell_type": "code",
      "execution_count": 65,
      "metadata": {
        "id": "1AIj4g54zTG1"
      },
      "outputs": [],
      "source": [
        "import numpy as np # linear algebra\n",
        "import pandas as pd # data processing, CSV file I/O (e.g. pd.read_csv)\n",
        "import seaborn as sns # statistical data visualization\n",
        "sns.set()\n",
        "import matplotlib.pyplot as plt # data visualization\n",
        "%matplotlib inline\n",
        "\n",
        "from time import time\n",
        "from sklearn.pipeline import make_pipeline\n",
        "from sklearn.model_selection import KFold,train_test_split,cross_val_score,cross_val_predict\n",
        "from sklearn.metrics import classification_report,f1_score\n",
        "\n",
        "#Grid Search\n",
        "from sklearn.preprocessing import StandardScaler\n",
        "from sklearn.model_selection import GridSearchCV\n",
        "from sklearn.experimental import enable_halving_search_cv  # noqa\n",
        "from sklearn.model_selection import HalvingGridSearchCV\n",
        "\n",
        "\n",
        "\n",
        "#Models \n",
        "from sklearn.svm import SVC\n",
        "from sklearn.svm import LinearSVC\n",
        "from sklearn.tree import DecisionTreeClassifier \n",
        "from sklearn import tree\n",
        "from sklearn.naive_bayes import GaussianNB\n",
        "from sklearn.neighbors import KNeighborsClassifier \n",
        "from sklearn.ensemble import RandomForestClassifier\n",
        "from sklearn.ensemble import AdaBoostClassifier\n",
        "from sklearn.ensemble import GradientBoostingClassifier\n",
        "\n"
      ]
    },
    {
      "cell_type": "markdown",
      "metadata": {
        "id": "b415026b"
      },
      "source": [
        "## 1.2 - load Data"
      ]
    },
    {
      "cell_type": "markdown",
      "metadata": {
        "id": "SSdC6PZ9qmtC"
      },
      "source": [
        "### install kaggle and get token Kaggle "
      ]
    },
    {
      "cell_type": "code",
      "execution_count": 66,
      "metadata": {
        "id": "liw9fCdFd83L"
      },
      "outputs": [],
      "source": [
        "# !pip install -q kaggle\n",
        "# !mkdir ~/.kaggle\n",
        "# from google.colab import files\n",
        "# !cp kaggle.json ~/.kaggle/\n",
        "# !chmod 600 ~/.kaggle/kaggle.json"
      ]
    },
    {
      "cell_type": "code",
      "execution_count": 67,
      "metadata": {
        "id": "2wL9cyw8eFs6"
      },
      "outputs": [],
      "source": [
        "# !kaggle competitions download -c cisc-873-dm-f22-a1   #Download data of competition \"Product\""
      ]
    },
    {
      "cell_type": "markdown",
      "metadata": {
        "id": "pKCPk0UnrtNN"
      },
      "source": [
        " **read data from the *path***"
      ]
    },
    {
      "cell_type": "markdown",
      "metadata": {
        "id": "7tfcwrtxR58r"
      },
      "source": [
        "I have an **idea** for not copying the **preprocessing** way :-\n",
        "* I could merge the train and test data . \n",
        "* make same preprocssing .\n",
        "* split them before **OHE**  .\n",
        "\n",
        "I know that this is unlogical way because in industry , We don't know the test data , but to make the preprocessing easier.   "
      ]
    },
    {
      "cell_type": "code",
      "execution_count": 68,
      "metadata": {
        "id": "3oeEeAZ-0x9a",
        "colab": {
          "base_uri": "https://localhost:8080/",
          "height": 0
        },
        "outputId": "7b09af59-db6a-45aa-e168-b77180ea0510"
      },
      "outputs": [
        {
          "output_type": "execute_result",
          "data": {
            "text/html": [
              "\n",
              "  <div id=\"df-7a71873a-0ae7-4955-ab22-e45af625dd6b\">\n",
              "    <div class=\"colab-df-container\">\n",
              "      <div>\n",
              "<style scoped>\n",
              "    .dataframe tbody tr th:only-of-type {\n",
              "        vertical-align: middle;\n",
              "    }\n",
              "\n",
              "    .dataframe tbody tr th {\n",
              "        vertical-align: top;\n",
              "    }\n",
              "\n",
              "    .dataframe thead th {\n",
              "        text-align: right;\n",
              "    }\n",
              "</style>\n",
              "<table border=\"1\" class=\"dataframe\">\n",
              "  <thead>\n",
              "    <tr style=\"text-align: right;\">\n",
              "      <th></th>\n",
              "      <th>price</th>\n",
              "      <th>retail_price</th>\n",
              "      <th>currency_buyer</th>\n",
              "      <th>units_sold</th>\n",
              "      <th>uses_ad_boosts</th>\n",
              "      <th>rating</th>\n",
              "      <th>rating_count</th>\n",
              "      <th>badges_count</th>\n",
              "      <th>badge_local_product</th>\n",
              "      <th>badge_product_quality</th>\n",
              "      <th>badge_fast_shipping</th>\n",
              "      <th>tags</th>\n",
              "      <th>product_color</th>\n",
              "      <th>product_variation_size_id</th>\n",
              "      <th>product_variation_inventory</th>\n",
              "      <th>shipping_option_name</th>\n",
              "      <th>shipping_option_price</th>\n",
              "      <th>shipping_is_express</th>\n",
              "      <th>countries_shipped_to</th>\n",
              "      <th>inventory_total</th>\n",
              "      <th>has_urgency_banner</th>\n",
              "      <th>urgency_text</th>\n",
              "      <th>origin_country</th>\n",
              "      <th>merchant_title</th>\n",
              "      <th>merchant_name</th>\n",
              "      <th>merchant_info_subtitle</th>\n",
              "      <th>merchant_rating_count</th>\n",
              "      <th>merchant_rating</th>\n",
              "      <th>merchant_id</th>\n",
              "      <th>merchant_has_profile_picture</th>\n",
              "      <th>merchant_profile_picture</th>\n",
              "      <th>theme</th>\n",
              "      <th>crawl_month</th>\n",
              "    </tr>\n",
              "    <tr>\n",
              "      <th>id</th>\n",
              "      <th></th>\n",
              "      <th></th>\n",
              "      <th></th>\n",
              "      <th></th>\n",
              "      <th></th>\n",
              "      <th></th>\n",
              "      <th></th>\n",
              "      <th></th>\n",
              "      <th></th>\n",
              "      <th></th>\n",
              "      <th></th>\n",
              "      <th></th>\n",
              "      <th></th>\n",
              "      <th></th>\n",
              "      <th></th>\n",
              "      <th></th>\n",
              "      <th></th>\n",
              "      <th></th>\n",
              "      <th></th>\n",
              "      <th></th>\n",
              "      <th></th>\n",
              "      <th></th>\n",
              "      <th></th>\n",
              "      <th></th>\n",
              "      <th></th>\n",
              "      <th></th>\n",
              "      <th></th>\n",
              "      <th></th>\n",
              "      <th></th>\n",
              "      <th></th>\n",
              "      <th></th>\n",
              "      <th></th>\n",
              "      <th></th>\n",
              "    </tr>\n",
              "  </thead>\n",
              "  <tbody>\n",
              "    <tr>\n",
              "      <th>272</th>\n",
              "      <td>8.0</td>\n",
              "      <td>7</td>\n",
              "      <td>EUR</td>\n",
              "      <td>10000</td>\n",
              "      <td>1</td>\n",
              "      <td>4.0</td>\n",
              "      <td>1670</td>\n",
              "      <td>0</td>\n",
              "      <td>0</td>\n",
              "      <td>0</td>\n",
              "      <td>0</td>\n",
              "      <td>Summer,soildcolor,Plus Size,Tank,camisole,Tops,Loose,tank top,Women's Fashion,Fashion,sleeveless tops,sleeveless,Women,Lace,Casual,summerampspring</td>\n",
              "      <td>yellow</td>\n",
              "      <td>M</td>\n",
              "      <td>50</td>\n",
              "      <td>Livraison standard</td>\n",
              "      <td>3</td>\n",
              "      <td>0</td>\n",
              "      <td>30</td>\n",
              "      <td>50</td>\n",
              "      <td>NaN</td>\n",
              "      <td>NaN</td>\n",
              "      <td>CN</td>\n",
              "      <td>keepahorse</td>\n",
              "      <td>keepahorse</td>\n",
              "      <td>88 % avis positifs (66,644 notes)</td>\n",
              "      <td>66644</td>\n",
              "      <td>4.137582</td>\n",
              "      <td>577fb2b368116418674befd9</td>\n",
              "      <td>1</td>\n",
              "      <td>https://s3-us-west-1.amazonaws.com/sweeper-production-merchantimage/dp_577fb2b368116418674befd9.jpg</td>\n",
              "      <td>summer</td>\n",
              "      <td>2020-08</td>\n",
              "    </tr>\n",
              "    <tr>\n",
              "      <th>1515</th>\n",
              "      <td>8.0</td>\n",
              "      <td>7</td>\n",
              "      <td>EUR</td>\n",
              "      <td>1000</td>\n",
              "      <td>0</td>\n",
              "      <td>4.0</td>\n",
              "      <td>843</td>\n",
              "      <td>1</td>\n",
              "      <td>1</td>\n",
              "      <td>0</td>\n",
              "      <td>0</td>\n",
              "      <td>bathing suit,Plus Size,bikini set,sexy swimsuit,sexy bikini,paddedfringetasselbikinibeachswimwear,Swimwear,padded,Women's Fashion,Fashion,sexy,fashiondesign,high waist,Tassels,Waist,beach wear,Swimsuit,Bikini,splitswimsuit,Women,Monokini Swimsuits,Swimming</td>\n",
              "      <td>black</td>\n",
              "      <td>L</td>\n",
              "      <td>50</td>\n",
              "      <td>Livraison standard</td>\n",
              "      <td>3</td>\n",
              "      <td>0</td>\n",
              "      <td>37</td>\n",
              "      <td>50</td>\n",
              "      <td>NaN</td>\n",
              "      <td>NaN</td>\n",
              "      <td>CN</td>\n",
              "      <td>shanghaimingqidianqikejiyouxiangongsi</td>\n",
              "      <td>上海铭启电气科技有限公司</td>\n",
              "      <td>91 % avis positifs (25,752 notes)</td>\n",
              "      <td>25752</td>\n",
              "      <td>4.256873</td>\n",
              "      <td>566a3ef17233ff2686443082</td>\n",
              "      <td>0</td>\n",
              "      <td>NaN</td>\n",
              "      <td>summer</td>\n",
              "      <td>2020-08</td>\n",
              "    </tr>\n",
              "  </tbody>\n",
              "</table>\n",
              "</div>\n",
              "      <button class=\"colab-df-convert\" onclick=\"convertToInteractive('df-7a71873a-0ae7-4955-ab22-e45af625dd6b')\"\n",
              "              title=\"Convert this dataframe to an interactive table.\"\n",
              "              style=\"display:none;\">\n",
              "        \n",
              "  <svg xmlns=\"http://www.w3.org/2000/svg\" height=\"24px\"viewBox=\"0 0 24 24\"\n",
              "       width=\"24px\">\n",
              "    <path d=\"M0 0h24v24H0V0z\" fill=\"none\"/>\n",
              "    <path d=\"M18.56 5.44l.94 2.06.94-2.06 2.06-.94-2.06-.94-.94-2.06-.94 2.06-2.06.94zm-11 1L8.5 8.5l.94-2.06 2.06-.94-2.06-.94L8.5 2.5l-.94 2.06-2.06.94zm10 10l.94 2.06.94-2.06 2.06-.94-2.06-.94-.94-2.06-.94 2.06-2.06.94z\"/><path d=\"M17.41 7.96l-1.37-1.37c-.4-.4-.92-.59-1.43-.59-.52 0-1.04.2-1.43.59L10.3 9.45l-7.72 7.72c-.78.78-.78 2.05 0 2.83L4 21.41c.39.39.9.59 1.41.59.51 0 1.02-.2 1.41-.59l7.78-7.78 2.81-2.81c.8-.78.8-2.07 0-2.86zM5.41 20L4 18.59l7.72-7.72 1.47 1.35L5.41 20z\"/>\n",
              "  </svg>\n",
              "      </button>\n",
              "      \n",
              "  <style>\n",
              "    .colab-df-container {\n",
              "      display:flex;\n",
              "      flex-wrap:wrap;\n",
              "      gap: 12px;\n",
              "    }\n",
              "\n",
              "    .colab-df-convert {\n",
              "      background-color: #E8F0FE;\n",
              "      border: none;\n",
              "      border-radius: 50%;\n",
              "      cursor: pointer;\n",
              "      display: none;\n",
              "      fill: #1967D2;\n",
              "      height: 32px;\n",
              "      padding: 0 0 0 0;\n",
              "      width: 32px;\n",
              "    }\n",
              "\n",
              "    .colab-df-convert:hover {\n",
              "      background-color: #E2EBFA;\n",
              "      box-shadow: 0px 1px 2px rgba(60, 64, 67, 0.3), 0px 1px 3px 1px rgba(60, 64, 67, 0.15);\n",
              "      fill: #174EA6;\n",
              "    }\n",
              "\n",
              "    [theme=dark] .colab-df-convert {\n",
              "      background-color: #3B4455;\n",
              "      fill: #D2E3FC;\n",
              "    }\n",
              "\n",
              "    [theme=dark] .colab-df-convert:hover {\n",
              "      background-color: #434B5C;\n",
              "      box-shadow: 0px 1px 3px 1px rgba(0, 0, 0, 0.15);\n",
              "      filter: drop-shadow(0px 1px 2px rgba(0, 0, 0, 0.3));\n",
              "      fill: #FFFFFF;\n",
              "    }\n",
              "  </style>\n",
              "\n",
              "      <script>\n",
              "        const buttonEl =\n",
              "          document.querySelector('#df-7a71873a-0ae7-4955-ab22-e45af625dd6b button.colab-df-convert');\n",
              "        buttonEl.style.display =\n",
              "          google.colab.kernel.accessAllowed ? 'block' : 'none';\n",
              "\n",
              "        async function convertToInteractive(key) {\n",
              "          const element = document.querySelector('#df-7a71873a-0ae7-4955-ab22-e45af625dd6b');\n",
              "          const dataTable =\n",
              "            await google.colab.kernel.invokeFunction('convertToInteractive',\n",
              "                                                     [key], {});\n",
              "          if (!dataTable) return;\n",
              "\n",
              "          const docLinkHtml = 'Like what you see? Visit the ' +\n",
              "            '<a target=\"_blank\" href=https://colab.research.google.com/notebooks/data_table.ipynb>data table notebook</a>'\n",
              "            + ' to learn more about interactive tables.';\n",
              "          element.innerHTML = '';\n",
              "          dataTable['output_type'] = 'display_data';\n",
              "          await google.colab.output.renderOutput(dataTable, element);\n",
              "          const docLink = document.createElement('div');\n",
              "          docLink.innerHTML = docLinkHtml;\n",
              "          element.appendChild(docLink);\n",
              "        }\n",
              "      </script>\n",
              "    </div>\n",
              "  </div>\n",
              "  "
            ],
            "text/plain": [
              "      price  retail_price  ...   theme  crawl_month\n",
              "id                         ...                     \n",
              "272     8.0             7  ...  summer      2020-08\n",
              "1515    8.0             7  ...  summer      2020-08\n",
              "\n",
              "[2 rows x 33 columns]"
            ]
          },
          "metadata": {},
          "execution_count": 68
        }
      ],
      "source": [
        "pd.set_option('display.max_colwidth', None)  #to display all row with its data\n",
        "pd.options.display.max_rows = 1500\n",
        "#Load Data\n",
        "train_new=pd.read_csv('/content/train_new.csv',index_col='id')  #(1094, 34)\n",
        "        \n",
        "test_new=pd.read_csv('/content/test_new.csv',index_col='id')   #(479, 33)  without rating\n",
        "test_new[\"rating\"] = pd.NaT   #add rating column  with empty values\n",
        "\n",
        "frames = [train_new,test_new]    \n",
        "data = pd.concat(frames)    #(1094+479= 1573, 34)    \n",
        "\n",
        "data.head(2)  #TO check"
      ]
    },
    {
      "cell_type": "markdown",
      "metadata": {
        "id": "3D7vqUMp42UR"
      },
      "source": [
        "# 2- Exploratory *Data*"
      ]
    },
    {
      "cell_type": "markdown",
      "source": [
        "EDA explained using sample Data set:\n",
        "To share my understanding of the concept and techniques I know,I’ll take an example of Data of product rating data set which is available on Iwish.com Machine Learning Repository and try to catch hold of as many insights from the data set using EDA.\n",
        "To starts with,I imported necessary libraries (for this example pandas, numpy,matplotlib and seaborn) and loaded the data set. "
      ],
      "metadata": {
        "id": "3vYjlwgzz303"
      }
    },
    {
      "cell_type": "code",
      "execution_count": 69,
      "metadata": {
        "colab": {
          "base_uri": "https://localhost:8080/",
          "height": 0
        },
        "id": "N1tri_61WLyI",
        "outputId": "859aace9-a16c-4b4b-aae0-691dbd318d70"
      },
      "outputs": [
        {
          "output_type": "execute_result",
          "data": {
            "text/html": [
              "\n",
              "  <div id=\"df-3794fc44-6efa-4416-990c-b7069bab72dc\">\n",
              "    <div class=\"colab-df-container\">\n",
              "      <div>\n",
              "<style scoped>\n",
              "    .dataframe tbody tr th:only-of-type {\n",
              "        vertical-align: middle;\n",
              "    }\n",
              "\n",
              "    .dataframe tbody tr th {\n",
              "        vertical-align: top;\n",
              "    }\n",
              "\n",
              "    .dataframe thead th {\n",
              "        text-align: right;\n",
              "    }\n",
              "</style>\n",
              "<table border=\"1\" class=\"dataframe\">\n",
              "  <thead>\n",
              "    <tr style=\"text-align: right;\">\n",
              "      <th></th>\n",
              "      <th>price</th>\n",
              "      <th>retail_price</th>\n",
              "      <th>currency_buyer</th>\n",
              "      <th>units_sold</th>\n",
              "      <th>uses_ad_boosts</th>\n",
              "      <th>rating</th>\n",
              "      <th>rating_count</th>\n",
              "      <th>badges_count</th>\n",
              "      <th>badge_local_product</th>\n",
              "      <th>badge_product_quality</th>\n",
              "      <th>badge_fast_shipping</th>\n",
              "      <th>tags</th>\n",
              "      <th>product_color</th>\n",
              "      <th>product_variation_size_id</th>\n",
              "      <th>product_variation_inventory</th>\n",
              "      <th>shipping_option_name</th>\n",
              "      <th>shipping_option_price</th>\n",
              "      <th>shipping_is_express</th>\n",
              "      <th>countries_shipped_to</th>\n",
              "      <th>inventory_total</th>\n",
              "      <th>has_urgency_banner</th>\n",
              "      <th>urgency_text</th>\n",
              "      <th>origin_country</th>\n",
              "      <th>merchant_title</th>\n",
              "      <th>merchant_name</th>\n",
              "      <th>merchant_info_subtitle</th>\n",
              "      <th>merchant_rating_count</th>\n",
              "      <th>merchant_rating</th>\n",
              "      <th>merchant_id</th>\n",
              "      <th>merchant_has_profile_picture</th>\n",
              "      <th>merchant_profile_picture</th>\n",
              "      <th>theme</th>\n",
              "      <th>crawl_month</th>\n",
              "    </tr>\n",
              "    <tr>\n",
              "      <th>id</th>\n",
              "      <th></th>\n",
              "      <th></th>\n",
              "      <th></th>\n",
              "      <th></th>\n",
              "      <th></th>\n",
              "      <th></th>\n",
              "      <th></th>\n",
              "      <th></th>\n",
              "      <th></th>\n",
              "      <th></th>\n",
              "      <th></th>\n",
              "      <th></th>\n",
              "      <th></th>\n",
              "      <th></th>\n",
              "      <th></th>\n",
              "      <th></th>\n",
              "      <th></th>\n",
              "      <th></th>\n",
              "      <th></th>\n",
              "      <th></th>\n",
              "      <th></th>\n",
              "      <th></th>\n",
              "      <th></th>\n",
              "      <th></th>\n",
              "      <th></th>\n",
              "      <th></th>\n",
              "      <th></th>\n",
              "      <th></th>\n",
              "      <th></th>\n",
              "      <th></th>\n",
              "      <th></th>\n",
              "      <th></th>\n",
              "      <th></th>\n",
              "    </tr>\n",
              "  </thead>\n",
              "  <tbody>\n",
              "    <tr>\n",
              "      <th>626</th>\n",
              "      <td>3.0</td>\n",
              "      <td>3</td>\n",
              "      <td>EUR</td>\n",
              "      <td>100</td>\n",
              "      <td>1</td>\n",
              "      <td>NaT</td>\n",
              "      <td>8</td>\n",
              "      <td>0</td>\n",
              "      <td>0</td>\n",
              "      <td>0</td>\n",
              "      <td>0</td>\n",
              "      <td>Summer,slideslipper,Sandals,fur,Indoor,Fox,Indoor Slippers,outdoorslipper,Slippers,Women's Fashion,Outdoor,slippers women,furryslipper,Beach slippers,furslide,furslipperswomen,Women</td>\n",
              "      <td>black</td>\n",
              "      <td>34</td>\n",
              "      <td>3</td>\n",
              "      <td>Livraison standard</td>\n",
              "      <td>1</td>\n",
              "      <td>0</td>\n",
              "      <td>26</td>\n",
              "      <td>50</td>\n",
              "      <td>1.0</td>\n",
              "      <td>Quantité limitée !</td>\n",
              "      <td>CN</td>\n",
              "      <td>lkwelyly</td>\n",
              "      <td>hey1827</td>\n",
              "      <td>87 % avis positifs (1,086 notes)</td>\n",
              "      <td>1086</td>\n",
              "      <td>4.056169</td>\n",
              "      <td>5c6d6c28619caa1d94891d06</td>\n",
              "      <td>0</td>\n",
              "      <td>NaN</td>\n",
              "      <td>summer</td>\n",
              "      <td>2020-08</td>\n",
              "    </tr>\n",
              "    <tr>\n",
              "      <th>196</th>\n",
              "      <td>13.0</td>\n",
              "      <td>11</td>\n",
              "      <td>EUR</td>\n",
              "      <td>100</td>\n",
              "      <td>1</td>\n",
              "      <td>NaT</td>\n",
              "      <td>4</td>\n",
              "      <td>0</td>\n",
              "      <td>0</td>\n",
              "      <td>0</td>\n",
              "      <td>0</td>\n",
              "      <td>Summer,Plus Size,2pieceset,Women,slim,T Shirts,Shorts,tshirtandtop,Women's Fashion,twopieceoutfit,printed,Tie Dye,Dyes,sexy,shortsforwomen,Outfits,Fashion,Women Fashion,Slim Fit</td>\n",
              "      <td>yellow</td>\n",
              "      <td>S</td>\n",
              "      <td>29</td>\n",
              "      <td>Expediere Standard</td>\n",
              "      <td>3</td>\n",
              "      <td>0</td>\n",
              "      <td>42</td>\n",
              "      <td>50</td>\n",
              "      <td>1.0</td>\n",
              "      <td>Quantité limitée !</td>\n",
              "      <td>CN</td>\n",
              "      <td>rtgh</td>\n",
              "      <td>rtgh710402e4b24511e6b69106d0c1a90220</td>\n",
              "      <td>86% Feedback pozitiv (45,151 rating)</td>\n",
              "      <td>45151</td>\n",
              "      <td>4.032956</td>\n",
              "      <td>5836e38728f25753fe6af6a8</td>\n",
              "      <td>0</td>\n",
              "      <td>NaN</td>\n",
              "      <td>summer</td>\n",
              "      <td>2020-08</td>\n",
              "    </tr>\n",
              "  </tbody>\n",
              "</table>\n",
              "</div>\n",
              "      <button class=\"colab-df-convert\" onclick=\"convertToInteractive('df-3794fc44-6efa-4416-990c-b7069bab72dc')\"\n",
              "              title=\"Convert this dataframe to an interactive table.\"\n",
              "              style=\"display:none;\">\n",
              "        \n",
              "  <svg xmlns=\"http://www.w3.org/2000/svg\" height=\"24px\"viewBox=\"0 0 24 24\"\n",
              "       width=\"24px\">\n",
              "    <path d=\"M0 0h24v24H0V0z\" fill=\"none\"/>\n",
              "    <path d=\"M18.56 5.44l.94 2.06.94-2.06 2.06-.94-2.06-.94-.94-2.06-.94 2.06-2.06.94zm-11 1L8.5 8.5l.94-2.06 2.06-.94-2.06-.94L8.5 2.5l-.94 2.06-2.06.94zm10 10l.94 2.06.94-2.06 2.06-.94-2.06-.94-.94-2.06-.94 2.06-2.06.94z\"/><path d=\"M17.41 7.96l-1.37-1.37c-.4-.4-.92-.59-1.43-.59-.52 0-1.04.2-1.43.59L10.3 9.45l-7.72 7.72c-.78.78-.78 2.05 0 2.83L4 21.41c.39.39.9.59 1.41.59.51 0 1.02-.2 1.41-.59l7.78-7.78 2.81-2.81c.8-.78.8-2.07 0-2.86zM5.41 20L4 18.59l7.72-7.72 1.47 1.35L5.41 20z\"/>\n",
              "  </svg>\n",
              "      </button>\n",
              "      \n",
              "  <style>\n",
              "    .colab-df-container {\n",
              "      display:flex;\n",
              "      flex-wrap:wrap;\n",
              "      gap: 12px;\n",
              "    }\n",
              "\n",
              "    .colab-df-convert {\n",
              "      background-color: #E8F0FE;\n",
              "      border: none;\n",
              "      border-radius: 50%;\n",
              "      cursor: pointer;\n",
              "      display: none;\n",
              "      fill: #1967D2;\n",
              "      height: 32px;\n",
              "      padding: 0 0 0 0;\n",
              "      width: 32px;\n",
              "    }\n",
              "\n",
              "    .colab-df-convert:hover {\n",
              "      background-color: #E2EBFA;\n",
              "      box-shadow: 0px 1px 2px rgba(60, 64, 67, 0.3), 0px 1px 3px 1px rgba(60, 64, 67, 0.15);\n",
              "      fill: #174EA6;\n",
              "    }\n",
              "\n",
              "    [theme=dark] .colab-df-convert {\n",
              "      background-color: #3B4455;\n",
              "      fill: #D2E3FC;\n",
              "    }\n",
              "\n",
              "    [theme=dark] .colab-df-convert:hover {\n",
              "      background-color: #434B5C;\n",
              "      box-shadow: 0px 1px 3px 1px rgba(0, 0, 0, 0.15);\n",
              "      filter: drop-shadow(0px 1px 2px rgba(0, 0, 0, 0.3));\n",
              "      fill: #FFFFFF;\n",
              "    }\n",
              "  </style>\n",
              "\n",
              "      <script>\n",
              "        const buttonEl =\n",
              "          document.querySelector('#df-3794fc44-6efa-4416-990c-b7069bab72dc button.colab-df-convert');\n",
              "        buttonEl.style.display =\n",
              "          google.colab.kernel.accessAllowed ? 'block' : 'none';\n",
              "\n",
              "        async function convertToInteractive(key) {\n",
              "          const element = document.querySelector('#df-3794fc44-6efa-4416-990c-b7069bab72dc');\n",
              "          const dataTable =\n",
              "            await google.colab.kernel.invokeFunction('convertToInteractive',\n",
              "                                                     [key], {});\n",
              "          if (!dataTable) return;\n",
              "\n",
              "          const docLinkHtml = 'Like what you see? Visit the ' +\n",
              "            '<a target=\"_blank\" href=https://colab.research.google.com/notebooks/data_table.ipynb>data table notebook</a>'\n",
              "            + ' to learn more about interactive tables.';\n",
              "          element.innerHTML = '';\n",
              "          dataTable['output_type'] = 'display_data';\n",
              "          await google.colab.output.renderOutput(dataTable, element);\n",
              "          const docLink = document.createElement('div');\n",
              "          docLink.innerHTML = docLinkHtml;\n",
              "          element.appendChild(docLink);\n",
              "        }\n",
              "      </script>\n",
              "    </div>\n",
              "  </div>\n",
              "  "
            ],
            "text/plain": [
              "     price  retail_price  ...   theme  crawl_month\n",
              "id                        ...                     \n",
              "626    3.0             3  ...  summer      2020-08\n",
              "196   13.0            11  ...  summer      2020-08\n",
              "\n",
              "[2 rows x 33 columns]"
            ]
          },
          "metadata": {},
          "execution_count": 69
        }
      ],
      "source": [
        "# print first and last few rows of the dataset\n",
        "data.tail(2)\n",
        "\n"
      ]
    },
    {
      "cell_type": "markdown",
      "metadata": {
        "id": "txZ08p5nfNyt"
      },
      "source": [
        "**Get the shape of data**"
      ]
    },
    {
      "cell_type": "code",
      "source": [
        "data.shape # print the shape of Data"
      ],
      "metadata": {
        "colab": {
          "base_uri": "https://localhost:8080/"
        },
        "id": "M8SFFtxjzpo3",
        "outputId": "2d9f8ac0-a434-477d-e5de-b2c304b23377"
      },
      "execution_count": 70,
      "outputs": [
        {
          "output_type": "execute_result",
          "data": {
            "text/plain": [
              "(1573, 33)"
            ]
          },
          "metadata": {},
          "execution_count": 70
        }
      ]
    },
    {
      "cell_type": "markdown",
      "source": [
        "* Dataset comprises of 1573 observations and 13 Features .\n",
        "\n",
        "\n",
        "\n"
      ],
      "metadata": {
        "id": "Eey2hcXZ0XYw"
      }
    },
    {
      "cell_type": "code",
      "source": [
        "data.info()"
      ],
      "metadata": {
        "colab": {
          "base_uri": "https://localhost:8080/"
        },
        "id": "DACZTQYp0vgT",
        "outputId": "8f9c6208-2fb6-4e9f-f3ae-55d1a18dfeb6"
      },
      "execution_count": 71,
      "outputs": [
        {
          "output_type": "stream",
          "name": "stdout",
          "text": [
            "<class 'pandas.core.frame.DataFrame'>\n",
            "Int64Index: 1573 entries, 272 to 196\n",
            "Data columns (total 33 columns):\n",
            " #   Column                        Non-Null Count  Dtype  \n",
            "---  ------                        --------------  -----  \n",
            " 0   price                         1573 non-null   float64\n",
            " 1   retail_price                  1573 non-null   int64  \n",
            " 2   currency_buyer                1573 non-null   object \n",
            " 3   units_sold                    1573 non-null   int64  \n",
            " 4   uses_ad_boosts                1573 non-null   int64  \n",
            " 5   rating                        1094 non-null   object \n",
            " 6   rating_count                  1573 non-null   int64  \n",
            " 7   badges_count                  1573 non-null   int64  \n",
            " 8   badge_local_product           1573 non-null   int64  \n",
            " 9   badge_product_quality         1573 non-null   int64  \n",
            " 10  badge_fast_shipping           1573 non-null   int64  \n",
            " 11  tags                          1573 non-null   object \n",
            " 12  product_color                 1532 non-null   object \n",
            " 13  product_variation_size_id     1559 non-null   object \n",
            " 14  product_variation_inventory   1573 non-null   int64  \n",
            " 15  shipping_option_name          1573 non-null   object \n",
            " 16  shipping_option_price         1573 non-null   int64  \n",
            " 17  shipping_is_express           1573 non-null   int64  \n",
            " 18  countries_shipped_to          1573 non-null   int64  \n",
            " 19  inventory_total               1573 non-null   int64  \n",
            " 20  has_urgency_banner            473 non-null    float64\n",
            " 21  urgency_text                  473 non-null    object \n",
            " 22  origin_country                1556 non-null   object \n",
            " 23  merchant_title                1573 non-null   object \n",
            " 24  merchant_name                 1569 non-null   object \n",
            " 25  merchant_info_subtitle        1572 non-null   object \n",
            " 26  merchant_rating_count         1573 non-null   int64  \n",
            " 27  merchant_rating               1573 non-null   float64\n",
            " 28  merchant_id                   1573 non-null   object \n",
            " 29  merchant_has_profile_picture  1573 non-null   int64  \n",
            " 30  merchant_profile_picture      226 non-null    object \n",
            " 31  theme                         1573 non-null   object \n",
            " 32  crawl_month                   1573 non-null   object \n",
            "dtypes: float64(3), int64(15), object(15)\n",
            "memory usage: 417.8+ KB\n"
          ]
        }
      ]
    },
    {
      "cell_type": "markdown",
      "source": [
        "\n",
        "\n",
        "*   Data has  float , objects and integer values.\n",
        "*   There are variable columns have null/missing values.\n",
        "\n"
      ],
      "metadata": {
        "id": "1OHM5RMo09cf"
      }
    },
    {
      "cell_type": "markdown",
      "source": [
        "The describe() function in pandas is very handy in getting various summary statistics.This function returns the count, mean, standard deviation, minimum and maximum values and the quantiles of the data."
      ],
      "metadata": {
        "id": "vIHrRtoa1V7m"
      }
    },
    {
      "cell_type": "code",
      "source": [
        "data.describe()"
      ],
      "metadata": {
        "colab": {
          "base_uri": "https://localhost:8080/",
          "height": 0
        },
        "id": "Qg7tr87d1Zgc",
        "outputId": "985bc34e-8e60-4a66-955d-781387633356"
      },
      "execution_count": 72,
      "outputs": [
        {
          "output_type": "execute_result",
          "data": {
            "text/html": [
              "\n",
              "  <div id=\"df-e9ed64d5-6490-4873-bb0a-a56eba135b62\">\n",
              "    <div class=\"colab-df-container\">\n",
              "      <div>\n",
              "<style scoped>\n",
              "    .dataframe tbody tr th:only-of-type {\n",
              "        vertical-align: middle;\n",
              "    }\n",
              "\n",
              "    .dataframe tbody tr th {\n",
              "        vertical-align: top;\n",
              "    }\n",
              "\n",
              "    .dataframe thead th {\n",
              "        text-align: right;\n",
              "    }\n",
              "</style>\n",
              "<table border=\"1\" class=\"dataframe\">\n",
              "  <thead>\n",
              "    <tr style=\"text-align: right;\">\n",
              "      <th></th>\n",
              "      <th>price</th>\n",
              "      <th>retail_price</th>\n",
              "      <th>units_sold</th>\n",
              "      <th>uses_ad_boosts</th>\n",
              "      <th>rating_count</th>\n",
              "      <th>badges_count</th>\n",
              "      <th>badge_local_product</th>\n",
              "      <th>badge_product_quality</th>\n",
              "      <th>badge_fast_shipping</th>\n",
              "      <th>product_variation_inventory</th>\n",
              "      <th>shipping_option_price</th>\n",
              "      <th>shipping_is_express</th>\n",
              "      <th>countries_shipped_to</th>\n",
              "      <th>inventory_total</th>\n",
              "      <th>has_urgency_banner</th>\n",
              "      <th>merchant_rating_count</th>\n",
              "      <th>merchant_rating</th>\n",
              "      <th>merchant_has_profile_picture</th>\n",
              "    </tr>\n",
              "  </thead>\n",
              "  <tbody>\n",
              "    <tr>\n",
              "      <th>count</th>\n",
              "      <td>1573.000000</td>\n",
              "      <td>1573.000000</td>\n",
              "      <td>1573.000000</td>\n",
              "      <td>1573.000000</td>\n",
              "      <td>1573.000000</td>\n",
              "      <td>1573.000000</td>\n",
              "      <td>1573.000000</td>\n",
              "      <td>1573.000000</td>\n",
              "      <td>1573.000000</td>\n",
              "      <td>1573.000000</td>\n",
              "      <td>1573.000000</td>\n",
              "      <td>1573.000000</td>\n",
              "      <td>1573.000000</td>\n",
              "      <td>1573.000000</td>\n",
              "      <td>473.0</td>\n",
              "      <td>1.573000e+03</td>\n",
              "      <td>1573.000000</td>\n",
              "      <td>1573.000000</td>\n",
              "    </tr>\n",
              "    <tr>\n",
              "      <th>mean</th>\n",
              "      <td>8.325372</td>\n",
              "      <td>23.288620</td>\n",
              "      <td>4339.005086</td>\n",
              "      <td>0.432931</td>\n",
              "      <td>889.659250</td>\n",
              "      <td>0.105531</td>\n",
              "      <td>0.018436</td>\n",
              "      <td>0.074380</td>\n",
              "      <td>0.012715</td>\n",
              "      <td>33.081373</td>\n",
              "      <td>2.345200</td>\n",
              "      <td>0.002543</td>\n",
              "      <td>40.456453</td>\n",
              "      <td>49.821360</td>\n",
              "      <td>1.0</td>\n",
              "      <td>2.649583e+04</td>\n",
              "      <td>4.032345</td>\n",
              "      <td>0.143675</td>\n",
              "    </tr>\n",
              "    <tr>\n",
              "      <th>std</th>\n",
              "      <td>3.932030</td>\n",
              "      <td>30.357863</td>\n",
              "      <td>9356.539302</td>\n",
              "      <td>0.495639</td>\n",
              "      <td>1983.928834</td>\n",
              "      <td>0.340709</td>\n",
              "      <td>0.134565</td>\n",
              "      <td>0.262472</td>\n",
              "      <td>0.112075</td>\n",
              "      <td>21.353137</td>\n",
              "      <td>1.024371</td>\n",
              "      <td>0.050379</td>\n",
              "      <td>20.301203</td>\n",
              "      <td>2.562799</td>\n",
              "      <td>0.0</td>\n",
              "      <td>7.847446e+04</td>\n",
              "      <td>0.204768</td>\n",
              "      <td>0.350871</td>\n",
              "    </tr>\n",
              "    <tr>\n",
              "      <th>min</th>\n",
              "      <td>1.000000</td>\n",
              "      <td>1.000000</td>\n",
              "      <td>1.000000</td>\n",
              "      <td>0.000000</td>\n",
              "      <td>0.000000</td>\n",
              "      <td>0.000000</td>\n",
              "      <td>0.000000</td>\n",
              "      <td>0.000000</td>\n",
              "      <td>0.000000</td>\n",
              "      <td>1.000000</td>\n",
              "      <td>1.000000</td>\n",
              "      <td>0.000000</td>\n",
              "      <td>6.000000</td>\n",
              "      <td>1.000000</td>\n",
              "      <td>1.0</td>\n",
              "      <td>0.000000e+00</td>\n",
              "      <td>2.333333</td>\n",
              "      <td>0.000000</td>\n",
              "    </tr>\n",
              "    <tr>\n",
              "      <th>25%</th>\n",
              "      <td>5.810000</td>\n",
              "      <td>7.000000</td>\n",
              "      <td>100.000000</td>\n",
              "      <td>0.000000</td>\n",
              "      <td>24.000000</td>\n",
              "      <td>0.000000</td>\n",
              "      <td>0.000000</td>\n",
              "      <td>0.000000</td>\n",
              "      <td>0.000000</td>\n",
              "      <td>6.000000</td>\n",
              "      <td>2.000000</td>\n",
              "      <td>0.000000</td>\n",
              "      <td>31.000000</td>\n",
              "      <td>50.000000</td>\n",
              "      <td>1.0</td>\n",
              "      <td>1.987000e+03</td>\n",
              "      <td>3.917353</td>\n",
              "      <td>0.000000</td>\n",
              "    </tr>\n",
              "    <tr>\n",
              "      <th>50%</th>\n",
              "      <td>8.000000</td>\n",
              "      <td>10.000000</td>\n",
              "      <td>1000.000000</td>\n",
              "      <td>0.000000</td>\n",
              "      <td>150.000000</td>\n",
              "      <td>0.000000</td>\n",
              "      <td>0.000000</td>\n",
              "      <td>0.000000</td>\n",
              "      <td>0.000000</td>\n",
              "      <td>50.000000</td>\n",
              "      <td>2.000000</td>\n",
              "      <td>0.000000</td>\n",
              "      <td>40.000000</td>\n",
              "      <td>50.000000</td>\n",
              "      <td>1.0</td>\n",
              "      <td>7.936000e+03</td>\n",
              "      <td>4.040650</td>\n",
              "      <td>0.000000</td>\n",
              "    </tr>\n",
              "    <tr>\n",
              "      <th>75%</th>\n",
              "      <td>11.000000</td>\n",
              "      <td>26.000000</td>\n",
              "      <td>5000.000000</td>\n",
              "      <td>1.000000</td>\n",
              "      <td>855.000000</td>\n",
              "      <td>0.000000</td>\n",
              "      <td>0.000000</td>\n",
              "      <td>0.000000</td>\n",
              "      <td>0.000000</td>\n",
              "      <td>50.000000</td>\n",
              "      <td>3.000000</td>\n",
              "      <td>0.000000</td>\n",
              "      <td>43.000000</td>\n",
              "      <td>50.000000</td>\n",
              "      <td>1.0</td>\n",
              "      <td>2.456400e+04</td>\n",
              "      <td>4.161797</td>\n",
              "      <td>0.000000</td>\n",
              "    </tr>\n",
              "    <tr>\n",
              "      <th>max</th>\n",
              "      <td>49.000000</td>\n",
              "      <td>252.000000</td>\n",
              "      <td>100000.000000</td>\n",
              "      <td>1.000000</td>\n",
              "      <td>20744.000000</td>\n",
              "      <td>3.000000</td>\n",
              "      <td>1.000000</td>\n",
              "      <td>1.000000</td>\n",
              "      <td>1.000000</td>\n",
              "      <td>50.000000</td>\n",
              "      <td>12.000000</td>\n",
              "      <td>1.000000</td>\n",
              "      <td>140.000000</td>\n",
              "      <td>50.000000</td>\n",
              "      <td>1.0</td>\n",
              "      <td>2.174765e+06</td>\n",
              "      <td>5.000000</td>\n",
              "      <td>1.000000</td>\n",
              "    </tr>\n",
              "  </tbody>\n",
              "</table>\n",
              "</div>\n",
              "      <button class=\"colab-df-convert\" onclick=\"convertToInteractive('df-e9ed64d5-6490-4873-bb0a-a56eba135b62')\"\n",
              "              title=\"Convert this dataframe to an interactive table.\"\n",
              "              style=\"display:none;\">\n",
              "        \n",
              "  <svg xmlns=\"http://www.w3.org/2000/svg\" height=\"24px\"viewBox=\"0 0 24 24\"\n",
              "       width=\"24px\">\n",
              "    <path d=\"M0 0h24v24H0V0z\" fill=\"none\"/>\n",
              "    <path d=\"M18.56 5.44l.94 2.06.94-2.06 2.06-.94-2.06-.94-.94-2.06-.94 2.06-2.06.94zm-11 1L8.5 8.5l.94-2.06 2.06-.94-2.06-.94L8.5 2.5l-.94 2.06-2.06.94zm10 10l.94 2.06.94-2.06 2.06-.94-2.06-.94-.94-2.06-.94 2.06-2.06.94z\"/><path d=\"M17.41 7.96l-1.37-1.37c-.4-.4-.92-.59-1.43-.59-.52 0-1.04.2-1.43.59L10.3 9.45l-7.72 7.72c-.78.78-.78 2.05 0 2.83L4 21.41c.39.39.9.59 1.41.59.51 0 1.02-.2 1.41-.59l7.78-7.78 2.81-2.81c.8-.78.8-2.07 0-2.86zM5.41 20L4 18.59l7.72-7.72 1.47 1.35L5.41 20z\"/>\n",
              "  </svg>\n",
              "      </button>\n",
              "      \n",
              "  <style>\n",
              "    .colab-df-container {\n",
              "      display:flex;\n",
              "      flex-wrap:wrap;\n",
              "      gap: 12px;\n",
              "    }\n",
              "\n",
              "    .colab-df-convert {\n",
              "      background-color: #E8F0FE;\n",
              "      border: none;\n",
              "      border-radius: 50%;\n",
              "      cursor: pointer;\n",
              "      display: none;\n",
              "      fill: #1967D2;\n",
              "      height: 32px;\n",
              "      padding: 0 0 0 0;\n",
              "      width: 32px;\n",
              "    }\n",
              "\n",
              "    .colab-df-convert:hover {\n",
              "      background-color: #E2EBFA;\n",
              "      box-shadow: 0px 1px 2px rgba(60, 64, 67, 0.3), 0px 1px 3px 1px rgba(60, 64, 67, 0.15);\n",
              "      fill: #174EA6;\n",
              "    }\n",
              "\n",
              "    [theme=dark] .colab-df-convert {\n",
              "      background-color: #3B4455;\n",
              "      fill: #D2E3FC;\n",
              "    }\n",
              "\n",
              "    [theme=dark] .colab-df-convert:hover {\n",
              "      background-color: #434B5C;\n",
              "      box-shadow: 0px 1px 3px 1px rgba(0, 0, 0, 0.15);\n",
              "      filter: drop-shadow(0px 1px 2px rgba(0, 0, 0, 0.3));\n",
              "      fill: #FFFFFF;\n",
              "    }\n",
              "  </style>\n",
              "\n",
              "      <script>\n",
              "        const buttonEl =\n",
              "          document.querySelector('#df-e9ed64d5-6490-4873-bb0a-a56eba135b62 button.colab-df-convert');\n",
              "        buttonEl.style.display =\n",
              "          google.colab.kernel.accessAllowed ? 'block' : 'none';\n",
              "\n",
              "        async function convertToInteractive(key) {\n",
              "          const element = document.querySelector('#df-e9ed64d5-6490-4873-bb0a-a56eba135b62');\n",
              "          const dataTable =\n",
              "            await google.colab.kernel.invokeFunction('convertToInteractive',\n",
              "                                                     [key], {});\n",
              "          if (!dataTable) return;\n",
              "\n",
              "          const docLinkHtml = 'Like what you see? Visit the ' +\n",
              "            '<a target=\"_blank\" href=https://colab.research.google.com/notebooks/data_table.ipynb>data table notebook</a>'\n",
              "            + ' to learn more about interactive tables.';\n",
              "          element.innerHTML = '';\n",
              "          dataTable['output_type'] = 'display_data';\n",
              "          await google.colab.output.renderOutput(dataTable, element);\n",
              "          const docLink = document.createElement('div');\n",
              "          docLink.innerHTML = docLinkHtml;\n",
              "          element.appendChild(docLink);\n",
              "        }\n",
              "      </script>\n",
              "    </div>\n",
              "  </div>\n",
              "  "
            ],
            "text/plain": [
              "             price  retail_price  ...  merchant_rating  merchant_has_profile_picture\n",
              "count  1573.000000   1573.000000  ...      1573.000000                   1573.000000\n",
              "mean      8.325372     23.288620  ...         4.032345                      0.143675\n",
              "std       3.932030     30.357863  ...         0.204768                      0.350871\n",
              "min       1.000000      1.000000  ...         2.333333                      0.000000\n",
              "25%       5.810000      7.000000  ...         3.917353                      0.000000\n",
              "50%       8.000000     10.000000  ...         4.040650                      0.000000\n",
              "75%      11.000000     26.000000  ...         4.161797                      0.000000\n",
              "max      49.000000    252.000000  ...         5.000000                      1.000000\n",
              "\n",
              "[8 rows x 18 columns]"
            ]
          },
          "metadata": {},
          "execution_count": 72
        }
      ]
    },
    {
      "cell_type": "markdown",
      "source": [
        "* Here as you can notice mean value is less than median value of each column which is represented by 50%(50th percentile) in index column.\n",
        "*There is notably a large difference between 75th %tile and max values of predictors “price\t”,”retail_price”,”units_sold”.\n",
        "* Thus observations 1 and 2 suggests that there are extreme values-Outliers in our data set.\n",
        "\n",
        "\n",
        "\n"
      ],
      "metadata": {
        "id": "C99jXEi_1slv"
      }
    },
    {
      "cell_type": "markdown",
      "metadata": {
        "id": "Ku4rDWGX60j6"
      },
      "source": [
        "**Get the columns and check unique values data**"
      ]
    },
    {
      "cell_type": "code",
      "execution_count": 73,
      "metadata": {
        "colab": {
          "base_uri": "https://localhost:8080/"
        },
        "id": "WFvWMEmJ68SK",
        "outputId": "d69bb118-f8f7-444c-d722-66294b1cdb15"
      },
      "outputs": [
        {
          "output_type": "execute_result",
          "data": {
            "text/plain": [
              "price                            127\n",
              "retail_price                     104\n",
              "currency_buyer                     1\n",
              "units_sold                        15\n",
              "uses_ad_boosts                     2\n",
              "rating                             6\n",
              "rating_count                     761\n",
              "badges_count                       4\n",
              "badge_local_product                2\n",
              "badge_product_quality              2\n",
              "badge_fast_shipping                2\n",
              "tags                            1230\n",
              "product_color                    101\n",
              "product_variation_size_id        106\n",
              "product_variation_inventory       48\n",
              "shipping_option_name              15\n",
              "shipping_option_price              8\n",
              "shipping_is_express                2\n",
              "countries_shipped_to              94\n",
              "inventory_total                   10\n",
              "has_urgency_banner                 1\n",
              "urgency_text                       2\n",
              "origin_country                     6\n",
              "merchant_title                   958\n",
              "merchant_name                    957\n",
              "merchant_info_subtitle          1058\n",
              "merchant_rating_count            917\n",
              "merchant_rating                  952\n",
              "merchant_id                      958\n",
              "merchant_has_profile_picture       2\n",
              "merchant_profile_picture         125\n",
              "theme                              1\n",
              "crawl_month                        1\n",
              "dtype: int64"
            ]
          },
          "metadata": {},
          "execution_count": 73
        }
      ],
      "source": [
        "# features=list(data.columns)\n",
        "\n",
        "# for col in range(len(features)):   \n",
        "#     count = len(data[features[col]].unique()) # printing unique values of each Feature\n",
        "#     print(\"Number of unique values in %s =\"%features[col],count)\n",
        "\n",
        "# Another Easy WAy to do that without any increase in complexity by For Loop\n",
        "data.nunique()\n"
      ]
    },
    {
      "cell_type": "markdown",
      "metadata": {
        "id": "27DkkZbCfYba"
      },
      "source": [
        "**Get the unique values of label \"Rating\" of data**"
      ]
    },
    {
      "cell_type": "code",
      "execution_count": 74,
      "metadata": {
        "colab": {
          "base_uri": "https://localhost:8080/"
        },
        "id": "59u0HSHP5V6f",
        "outputId": "c8d624e3-d488-467b-c3e5-d2b17835ae28"
      },
      "outputs": [
        {
          "output_type": "execute_result",
          "data": {
            "text/plain": [
              "array([4.0, 3.0, 5.0, 2.0, 1.0, 6.0, NaT], dtype=object)"
            ]
          },
          "metadata": {},
          "execution_count": 74
        }
      ],
      "source": [
        "data['rating'].unique()  #how many unique values and what they are."
      ]
    },
    {
      "cell_type": "markdown",
      "source": [
        "* Target variable/Dependent variable is discrete and categorical in nature.\n",
        "* “rating” score scale ranges from 1 to 6."
      ],
      "metadata": {
        "id": "UAvFYBGa375x"
      }
    },
    {
      "cell_type": "code",
      "execution_count": 75,
      "metadata": {
        "colab": {
          "base_uri": "https://localhost:8080/"
        },
        "id": "dvcukFITwNpB",
        "outputId": "d5024aff-951e-4431-96de-2a20c7229d5f"
      },
      "outputs": [
        {
          "output_type": "execute_result",
          "data": {
            "text/plain": [
              "rating\n",
              "4.0       774\n",
              "5.0       170\n",
              "3.0       135\n",
              "2.0        12\n",
              "1.0         2\n",
              "6.0         1\n",
              "dtype: int64"
            ]
          },
          "metadata": {},
          "execution_count": 75
        }
      ],
      "source": [
        "data[['rating']].value_counts() \n",
        "     #display hom many product x takes rating y"
      ]
    },
    {
      "cell_type": "markdown",
      "source": [
        "* where 1 being poor and 6 being the best.\n",
        "1,6,2  ratings are weak by any observation."
      ],
      "metadata": {
        "id": "UKLuEhn14PNS"
      }
    },
    {
      "cell_type": "markdown",
      "source": [
        "**To use linear regression for modelling,its necessary to remove correlated variables to improve your model.One can find correlations using pandas “.corr()” function and can visualize the correlation matrix using a heatmap in seaborn.**"
      ],
      "metadata": {
        "id": "JTiSIMl35Hq5"
      }
    },
    {
      "cell_type": "code",
      "execution_count": 76,
      "metadata": {
        "colab": {
          "base_uri": "https://localhost:8080/",
          "height": 0
        },
        "id": "2E0I1GkbXt_7",
        "outputId": "25a7145f-0252-44e3-9ad3-c3a8a25d5b23"
      },
      "outputs": [
        {
          "output_type": "display_data",
          "data": {
            "image/png": "[encoded data removed]",
            "text/plain": [
              "<Figure size 2160x1440 with 2 Axes>"
            ]
          },
          "metadata": {
            "needs_background": "light"
          }
        }
      ],
      "source": [
        "# heat correlation map to check to for synonym columsn (identical or almost identical faetures)\n",
        "plt.figure(figsize = (30, 20))\n",
        "sns.heatmap(data.corr(), annot = True, cmap = 'coolwarm', center = 0)\n",
        "plt.show()"
      ]
    },
    {
      "cell_type": "markdown",
      "source": [
        "* Dark shades represents positive correlation while lighter shades represents negative correlation.\n",
        "* I set annot=True to get values by which features are correlated to each other in grid-cells."
      ],
      "metadata": {
        "id": "HOCs7vy45aZQ"
      }
    },
    {
      "cell_type": "markdown",
      "source": [
        "It’s a good practice to remove correlated variables during feature selection.\n"
      ],
      "metadata": {
        "id": "0d3xhTw85lV7"
      }
    },
    {
      "cell_type": "markdown",
      "source": [
        "* Here we can infer that “shipping option price” has strong positive correlation with “price” whereas it has strong negative correlation with “rating count”.\n",
        "* “badge product quality” and “Merchant has profile picture” has almost no correlation with “price”.\n",
        "* Since correlation is zero we can infer there is no linear relationship between these two predictors.However it is safe to drop these features in case you’re applying Linear Regression model to the dataset."
      ],
      "metadata": {
        "id": "rErY4dD96H0q"
      }
    },
    {
      "cell_type": "code",
      "source": [
        "Lower_tri = data.corr().where(np.tril(np.ones(data.corr().shape),k=1).astype(np.bool))\n",
        "\n",
        "# heat correlation map to check to for synonym columsn (identical or almost identical faetures)\n",
        "plt.figure(figsize = (20, 10))\n",
        "sns.heatmap(Lower_tri, annot = True, cmap = 'coolwarm', center = 0)\n",
        "plt.show()"
      ],
      "metadata": {
        "colab": {
          "base_uri": "https://localhost:8080/",
          "height": 0
        },
        "id": "H3bqyBCIzoP8",
        "outputId": "94773b63-805a-4319-bcc3-f9104297b395"
      },
      "execution_count": 77,
      "outputs": [
        {
          "output_type": "display_data",
          "data": {
            "image/png": "[encoded data removed]",
            "text/plain": [
              "<Figure size 1440x720 with 2 Axes>"
            ]
          },
          "metadata": {
            "needs_background": "light"
          }
        }
      ]
    },
    {
      "cell_type": "code",
      "source": [
        "data[['price','retail_price']].plot.box()\n"
      ],
      "metadata": {
        "colab": {
          "base_uri": "https://localhost:8080/",
          "height": 0
        },
        "id": "p4zBw3BpEroh",
        "outputId": "c83e98f2-21f7-4a1b-a9d3-dfbf8ba99980"
      },
      "execution_count": 78,
      "outputs": [
        {
          "output_type": "execute_result",
          "data": {
            "text/plain": [
              "<matplotlib.axes._subplots.AxesSubplot at 0x7fbb72bcfcd0>"
            ]
          },
          "metadata": {},
          "execution_count": 78
        },
        {
          "output_type": "display_data",
          "data": {
            "image/png": "[encoded data removed]",
            "text/plain": [
              "<Figure size 432x288 with 1 Axes>"
            ]
          },
          "metadata": {
            "needs_background": "light"
          }
        }
      ]
    },
    {
      "cell_type": "code",
      "source": [
        "#Count plot Rating\n",
        "plt.figure(figsize=(8,5))\n",
        "ax = sns.countplot(x=\"rating\", data=data)\n",
        "plt.show()"
      ],
      "metadata": {
        "colab": {
          "base_uri": "https://localhost:8080/",
          "height": 0
        },
        "id": "Hk2Uj3znD09i",
        "outputId": "80be1f75-21f1-4de8-c520-6a06570b6c87"
      },
      "execution_count": 79,
      "outputs": [
        {
          "output_type": "display_data",
          "data": {
            "image/png": "[encoded data removed]",
            "text/plain": [
              "<Figure size 576x360 with 1 Axes>"
            ]
          },
          "metadata": {
            "needs_background": "light"
          }
        }
      ]
    },
    {
      "cell_type": "code",
      "source": [
        "#Count plot Rating\n",
        "plt.figure(figsize=(8,5))\n",
        "ax = sns.countplot(x=\"shipping_option_price\" ,hue='rating' , data=data)\n",
        "plt.show()"
      ],
      "metadata": {
        "colab": {
          "base_uri": "https://localhost:8080/",
          "height": 0
        },
        "id": "hFTi89zsD8Vy",
        "outputId": "ffd75ee8-1232-465f-dcca-e57b1d1722f0"
      },
      "execution_count": 80,
      "outputs": [
        {
          "output_type": "display_data",
          "data": {
            "image/png": "[encoded data removed]",
            "text/plain": [
              "<Figure size 576x360 with 1 Axes>"
            ]
          },
          "metadata": {
            "needs_background": "light"
          }
        }
      ]
    },
    {
      "cell_type": "code",
      "source": [
        "sns.countplot('origin_country', data=data)"
      ],
      "metadata": {
        "colab": {
          "base_uri": "https://localhost:8080/",
          "height": 0
        },
        "id": "vHPxEQRsIh4f",
        "outputId": "f0721d6c-c4c7-415d-f88b-065637f55475"
      },
      "execution_count": 81,
      "outputs": [
        {
          "output_type": "execute_result",
          "data": {
            "text/plain": [
              "<matplotlib.axes._subplots.AxesSubplot at 0x7fbb72b69c90>"
            ]
          },
          "metadata": {},
          "execution_count": 81
        },
        {
          "output_type": "display_data",
          "data": {
            "image/png": "[encoded data removed]",
            "text/plain": [
              "<Figure size 432x288 with 1 Axes>"
            ]
          },
          "metadata": {
            "needs_background": "light"
          }
        }
      ]
    },
    {
      "cell_type": "markdown",
      "metadata": {
        "id": "Sq-umSs7vJcu"
      },
      "source": [
        "# 3-Data preprocessing"
      ]
    },
    {
      "cell_type": "markdown",
      "metadata": {
        "id": "2NYqHurQ5HaC"
      },
      "source": [
        "## 3.1 Columns"
      ]
    },
    {
      "cell_type": "markdown",
      "source": [
        "#### 1- rating"
      ],
      "metadata": {
        "id": "LfNmt5uFF4TS"
      }
    },
    {
      "cell_type": "markdown",
      "metadata": {
        "id": "fjdJeht25K5t"
      },
      "source": [
        "It is clear that rating number 6.0 and 1.0 is outliers , So we should replace them them.\n",
        "\n",
        "**Remove outliers**"
      ]
    },
    {
      "cell_type": "code",
      "execution_count": 82,
      "metadata": {
        "id": "sbAxsR372EYi"
      },
      "outputs": [],
      "source": [
        "# Replace these row indexes from dataFrame\n",
        "data['rating'] = data['rating'].replace(6.0, 5.0)  #replace 6 with its near values 5\n",
        "data['rating'] = data['rating'].replace(1.0, 2.0)  #replace 1 with its near values 2\n"
      ]
    },
    {
      "cell_type": "code",
      "source": [
        "data[['rating']].value_counts() \n",
        "     #display hom many product x takes rating y"
      ],
      "metadata": {
        "colab": {
          "base_uri": "https://localhost:8080/"
        },
        "id": "SXKNwhMLHjKd",
        "outputId": "2adb84a0-1c15-443c-d80d-47d5d27a05c3"
      },
      "execution_count": 83,
      "outputs": [
        {
          "output_type": "execute_result",
          "data": {
            "text/plain": [
              "rating\n",
              "4.0       774\n",
              "5.0       171\n",
              "3.0       135\n",
              "2.0        14\n",
              "dtype: int64"
            ]
          },
          "metadata": {},
          "execution_count": 83
        }
      ]
    },
    {
      "cell_type": "markdown",
      "source": [
        "#### 2- price & retail_price with rating \n",
        "**Feature Engineering v1.0**"
      ],
      "metadata": {
        "id": "2ycjy6CFIHM5"
      }
    },
    {
      "cell_type": "markdown",
      "source": [
        "* Price is the discount after retail_price\n",
        "So i have an idea ❎:\n",
        "  * 1- get the difference between them .\n",
        "  * 2- if price > retail_price , So that it could be bad price  so i will map it to lower ratings   2\n",
        "  * 3- if price < retail_price  , it is good , mapping it to  4 or 5 rating\n",
        "  * 4- it price = retail_price  , it is normal , to rating 3 \n"
      ],
      "metadata": {
        "id": "EYhiD0P7KzzA"
      }
    },
    {
      "cell_type": "code",
      "source": [
        "conditions = [\n",
        "             data['price'] > data['retail_price'],data['price'] == data['retail_price'], \n",
        "             data['price'] < data['retail_price']]\n",
        "choices = [0, 1,2]\n",
        "\n",
        "data['Difference_in_price'] = np.select(conditions, choices)\n",
        "print(data['Difference_in_price'].unique())  #[0,2,1]\n",
        "\n",
        "# 0 is expressed with bad Fake  >>>>>>>  gives rate = 2\n",
        "# 1 is expressed with good pricing not >>>>>> cheating gives rate = 4\n",
        "# 2 is expressed with normal pricing >>>>>> gives rate = 3\n",
        "\n",
        "conditions = [\n",
        "             data['Difference_in_price'] == 0, \n",
        "             data['Difference_in_price'] == 1,\n",
        "              data['Difference_in_price'] == 2]\n",
        "choices = [2,4,3]\n",
        "data['Rating_difference'] = np.select(conditions, choices)\n",
        "print(data['Rating_difference'].unique())  # [2,3,4]\n"
      ],
      "metadata": {
        "colab": {
          "base_uri": "https://localhost:8080/"
        },
        "id": "NKvZ-ZdIIJ5S",
        "outputId": "3b850d11-eb31-4b2b-844a-5e6b7d413044"
      },
      "execution_count": 84,
      "outputs": [
        {
          "output_type": "stream",
          "name": "stdout",
          "text": [
            "[0 2 1]\n",
            "[2 3 4]\n"
          ]
        }
      ]
    },
    {
      "cell_type": "markdown",
      "metadata": {
        "id": "09IEN9dQ4N62"
      },
      "source": [
        "### 3- Drop columns"
      ]
    },
    {
      "cell_type": "markdown",
      "metadata": {
        "id": "tXHmf_0U4wSY"
      },
      "source": [
        "#### It is clear that there are features with 1  unique values that it couldn't affect our analysis so we could drop them to reduce the complexity. \n",
        "[currency_buyer -  urgency_text -theme - crawl_month ]\n",
        "[Origin_country]\n",
        "[merchant_id]"
      ]
    },
    {
      "cell_type": "code",
      "execution_count": 85,
      "metadata": {
        "id": "CIrOiyiU68RR"
      },
      "outputs": [],
      "source": [
        "data=data.drop(['currency_buyer','urgency_text'\t,'theme','crawl_month'],axis=1)\n",
        "data.head(2);"
      ]
    },
    {
      "cell_type": "markdown",
      "source": [
        "**Origin country**"
      ],
      "metadata": {
        "id": "abp3G2l4x7Hq"
      }
    },
    {
      "cell_type": "code",
      "execution_count": 86,
      "metadata": {
        "colab": {
          "base_uri": "https://localhost:8080/",
          "height": 0
        },
        "id": "tsw8lCV4CbXS",
        "outputId": "d6c078bd-d6fe-489a-f954-9ff6bb3c255c"
      },
      "outputs": [
        {
          "output_type": "display_data",
          "data": {
            "image/png": "[encoded data removed]",
            "text/plain": [
              "<Figure size 432x288 with 1 Axes>"
            ]
          },
          "metadata": {
            "needs_background": "light"
          }
        }
      ],
      "source": [
        "# Since this feature consists mainly of US and China we can combine the rest into others\n",
        "data['origin_country'] = data['origin_country'].replace('VE', 'Other')\n",
        "data['origin_country'] = data['origin_country'].replace('AT', 'Other')\n",
        "data['origin_country'] = data['origin_country'].replace('SG', 'Other')\n",
        "data['origin_country'] = data['origin_country'].replace('GB', 'Other')\n",
        "data['origin_country'] = data['origin_country'].replace(np.nan, 'Other')\n",
        "# visual check to see if it correctly categorized everything\n",
        "sns.countplot('origin_country', data=data);"
      ]
    },
    {
      "cell_type": "markdown",
      "metadata": {
        "id": "6-Z56WP_C0JT"
      },
      "source": [
        "Now we can see that almost **all products from China** so we could drop this columns "
      ]
    },
    {
      "cell_type": "code",
      "execution_count": 87,
      "metadata": {
        "id": "Yud9bSbBDOn7"
      },
      "outputs": [],
      "source": [
        "data = data.drop(['origin_country'],axis=1)\n"
      ]
    },
    {
      "cell_type": "markdown",
      "metadata": {
        "id": "KQWUEpsy7PNy"
      },
      "source": [
        "#### Also we could remove any features contains ids >>>> \n",
        "\n",
        "[merchant_id]\n",
        "\n",
        "\n"
      ]
    },
    {
      "cell_type": "code",
      "execution_count": 88,
      "metadata": {
        "id": "8MBoFCY_wmmA"
      },
      "outputs": [],
      "source": [
        "data = data.drop(['merchant_id'],axis=1)\n"
      ]
    },
    {
      "cell_type": "markdown",
      "metadata": {
        "id": "MFxhFpu99J3s"
      },
      "source": [
        "#### We could remove another features that it hasn't any logical effect on our analysis .\n",
        "[merchant_profile_picture -  merchant_info_subtitle - merchant_name -  -shipping_option_name  ]\n",
        "* We couldn't use merchant title and name because we don't need to thier name to predict rating of a **(Product)**.\n",
        "* We could use merchant_rating instead of its info in ['merchant_info_subtitle'].\n",
        "* ['merchant_info_subtitle'] is a mix between two features ( merchant_rating_count - merchant_rating),Also i noticed that the percentage of rating from (4.7)   ) .\n"
      ]
    },
    {
      "cell_type": "code",
      "execution_count": 89,
      "metadata": {
        "id": "2nyyKoFL9I20"
      },
      "outputs": [],
      "source": [
        "data = data.drop(['merchant_profile_picture','merchant_info_subtitle','merchant_name','shipping_option_name'],axis=1)\n",
        "data;"
      ]
    },
    {
      "cell_type": "markdown",
      "metadata": {
        "id": "Vj0t9wTL6oQs"
      },
      "source": [
        "### 4- tags  \n",
        "**Feature Engineering v2.0**"
      ]
    },
    {
      "cell_type": "markdown",
      "source": [
        "I extracted the count of tags for products and put their count in new column ['tag_count']"
      ],
      "metadata": {
        "id": "BhTaw9aBv2xU"
      }
    },
    {
      "cell_type": "code",
      "execution_count": 90,
      "metadata": {
        "id": "CqGb-6gp6vCF"
      },
      "outputs": [],
      "source": [
        "# breaking up the tag column to see the number of tags per row. \n",
        "def tag_count(tags):\n",
        "    prod_tags =tags.split(',')\n",
        "    return len(prod_tags)\n",
        "    \n",
        "# replaced tags with tag_count from above to the data\n",
        "data['tag_count'] = data['tags'].apply(tag_count)\n",
        "data.drop(['tags'], axis=1, inplace=True)\n"
      ]
    },
    {
      "cell_type": "markdown",
      "source": [
        "### 5- product color"
      ],
      "metadata": {
        "id": "QytH1r2qzqZl"
      }
    },
    {
      "cell_type": "code",
      "source": [
        "data['product_color'].str.lower();\n",
        "data['product_color'].value_counts()"
      ],
      "metadata": {
        "colab": {
          "base_uri": "https://localhost:8080/"
        },
        "id": "jPh05V5UWoxV",
        "outputId": "f2ae4190-7795-47f8-e1ae-8af91e67c9bf"
      },
      "execution_count": 91,
      "outputs": [
        {
          "output_type": "execute_result",
          "data": {
            "text/plain": [
              "black                  302\n",
              "white                  254\n",
              "yellow                 105\n",
              "blue                    99\n",
              "pink                    99\n",
              "red                     93\n",
              "green                   90\n",
              "grey                    71\n",
              "purple                  53\n",
              "armygreen               31\n",
              "winered                 28\n",
              "navyblue                28\n",
              "orange                  27\n",
              "multicolor              20\n",
              "beige                   14\n",
              "khaki                   12\n",
              "lightblue               12\n",
              "gray                    11\n",
              "white & green           10\n",
              "rosered                  8\n",
              "skyblue                  8\n",
              "coffee                   7\n",
              "brown                    7\n",
              "darkblue                 6\n",
              "floral                   5\n",
              "rose                     5\n",
              "lightpink                4\n",
              "navy                     4\n",
              "fluorescentgreen         4\n",
              "leopard                  4\n",
              "black & green            4\n",
              "lightgreen               3\n",
              "orange-red               3\n",
              "camouflage               3\n",
              "black & white            3\n",
              "White                    3\n",
              "Black                    3\n",
              "camel                    2\n",
              "watermelonred            2\n",
              "silver                   2\n",
              "Army green               2\n",
              "pink & blue              2\n",
              "Pink                     2\n",
              "navy blue                2\n",
              "whitefloral              2\n",
              "apricot                  2\n",
              "wine                     2\n",
              "applegreen               2\n",
              "pink & grey              2\n",
              "lakeblue                 2\n",
              "coralred                 2\n",
              "pink & black             2\n",
              "dustypink                2\n",
              "coolblack                2\n",
              "white & black            2\n",
              "mintgreen                2\n",
              "lightyellow              2\n",
              "black & blue             2\n",
              "lightred                 2\n",
              "black & yellow           2\n",
              "burgundy                 2\n",
              "pink & white             2\n",
              "lightpurple              1\n",
              "Rose red                 1\n",
              "denimblue                1\n",
              "blackwhite               1\n",
              "Blue                     1\n",
              "prussianblue             1\n",
              "leopardprint             1\n",
              "tan                      1\n",
              "black & stripe           1\n",
              "lightkhaki               1\n",
              "orange & camouflage      1\n",
              "army green               1\n",
              "nude                     1\n",
              "jasper                   1\n",
              "white & red              1\n",
              "red & blue               1\n",
              "greysnakeskinprint       1\n",
              "offblack                 1\n",
              "whitestripe              1\n",
              "army                     1\n",
              "lightgrey                1\n",
              "darkgreen                1\n",
              "wine red                 1\n",
              "gold                     1\n",
              "rainbow                  1\n",
              "claret                   1\n",
              "RED                      1\n",
              "brown & yellow           1\n",
              "light green              1\n",
              "violet                   1\n",
              "blue & pink              1\n",
              "star                     1\n",
              "rosegold                 1\n",
              "ivory                    1\n",
              "navyblue & white         1\n",
              "winered & yellow         1\n",
              "offwhite                 1\n",
              "lightgray                1\n",
              "gray & white             1\n",
              "Name: product_color, dtype: int64"
            ]
          },
          "metadata": {},
          "execution_count": 91
        }
      ]
    },
    {
      "cell_type": "code",
      "source": [
        "# Replacing different variations of colors into one and change missing values to OTHER\n",
        "\n",
        "import re  \n",
        "\n",
        "\"\"\"\n",
        "RegEx Module\n",
        "Python has a built-in package called re, which can be used to work with Regular Expressions.\n",
        "\"\"\"\n",
        "Dual = re.compile(\".*&\")\n",
        "Dual = list(filter(Dual.match, data.product_color.apply(str))) #  get any color contains \" & \"\n",
        "data['product_color'] = data['product_color'].replace(Dual,'Dual') \n",
        "data['product_color'] = data['product_color'].replace(['blackwhite'],'Dual') \n",
        "\n",
        "\n",
        "\n",
        "blue = re.compile(\".*lue\")      \n",
        "blue = list(filter(blue.match, data.product_color.apply(str))) #  get any color contains \" lue \"\n",
        "data['product_color'] = data['product_color'].replace(blue,'blue')   \n",
        "data['product_color'] = data['product_color'].replace(['navy','star'],'blue')   \n",
        "\n",
        "red = re.compile(\".*red\")\n",
        "red = list(filter(red.match, data.product_color.apply(str))) #  get any color contains \" lue \"\n",
        "data['product_color'] = data['product_color'].replace(red,'red')\n",
        "data['product_color'] = data['product_color'].replace(['wine','burgundy','RED','jasper','claret'],'red')\n",
        "\n",
        "\n",
        "green = re.compile(\".*green\")\n",
        "green = list(filter(green.match, data.product_color.apply(str))) #  get any color contains \" lue \"\n",
        "data['product_color'] = data['product_color'].replace(green,'green')   \n",
        "data['product_color'] = data['product_color'].replace(['army'],'green')   \n",
        "\n",
        "pink = re.compile(\".*ink\")\n",
        "pink = list(filter(pink.match, data.product_color.apply(str))) #  get any color contains \" lue \"\n",
        "data['product_color'] = data['product_color'].replace(pink,'pink')   \n",
        "data['product_color'] = data['product_color'].replace(['rose'] , 'pink')\n",
        "\n",
        "data['product_color'] = data['product_color'].replace(['lightkhaki','beige','khaki','brown','coffee','camel','nude'] , 'beige')\n",
        "data['product_color'] = data['product_color'].replace(['floral','camouflage','leopardprint','leopard','rainbow'] , 'multicolor')\n",
        "data['product_color'] = data['product_color'].replace(['White','whitefloral','ivory','offwhite','whitestripe'] , 'white')\n",
        "data['product_color'] = data['product_color'].replace(['Black','coolblack','offblack'] , 'black')\n",
        "data['product_color'] = data['product_color'].replace(['lightyellow','gold','rosegold','tan'] , 'yellow')\n",
        "data['product_color'] = data['product_color'].replace(['gray','silver','lightgray','greysnakeskinprint','lightgrey'] , 'grey')\n",
        "data['product_color'] = data['product_color'].replace(['apricot'] , 'orange')\n",
        "\n",
        "data['product_color'] = data['product_color'].replace([np.nan,'lightpurple','violet'], 'other')  #replace null values with other \n",
        "\n"
      ],
      "metadata": {
        "id": "PidBgFhc1-nB"
      },
      "execution_count": 92,
      "outputs": []
    },
    {
      "cell_type": "code",
      "source": [
        "data['product_color'].value_counts()"
      ],
      "metadata": {
        "colab": {
          "base_uri": "https://localhost:8080/"
        },
        "id": "KRbHYhjnl6nz",
        "outputId": "687533ef-3c6f-42c8-fe0b-b7cfb4d536a0"
      },
      "execution_count": 93,
      "outputs": [
        {
          "output_type": "execute_result",
          "data": {
            "text/plain": [
              "black         308\n",
              "white         262\n",
              "blue          165\n",
              "red           147\n",
              "green         138\n",
              "pink          112\n",
              "yellow        110\n",
              "grey           87\n",
              "purple         53\n",
              "beige          44\n",
              "other          43\n",
              "Dual           41\n",
              "multicolor     34\n",
              "orange         29\n",
              "Name: product_color, dtype: int64"
            ]
          },
          "metadata": {},
          "execution_count": 93
        }
      ]
    },
    {
      "cell_type": "markdown",
      "source": [
        ""
      ],
      "metadata": {
        "id": "eDAmrbJRg2qF"
      }
    },
    {
      "cell_type": "code",
      "source": [
        "# graph to look at size distribution to see if it correctly categorized everything\n",
        "fig_dims = (10,10)\n",
        "fig, ax = plt.subplots(figsize=fig_dims)\n",
        "sns.countplot('product_color',\n",
        "              palette=\"pastel\",\n",
        "              data = data,\n",
        "              order = data['product_color'].value_counts().index,\n",
        "              ax = ax)\n",
        "ax.set(xlabel='Product Colour', ylabel='Count')\n",
        "plt.xticks(rotation=45, ha='right')\n",
        "plt.show()\n",
        "\n"
      ],
      "metadata": {
        "colab": {
          "base_uri": "https://localhost:8080/",
          "height": 0
        },
        "id": "z3b2QrBy7Bck",
        "outputId": "677959e0-8e08-41fc-ce9f-b936b8f94dbc"
      },
      "execution_count": 94,
      "outputs": [
        {
          "output_type": "display_data",
          "data": {
            "image/png": "[encoded data removed]",
            "text/plain": [
              "<Figure size 720x720 with 1 Axes>"
            ]
          },
          "metadata": {
            "needs_background": "light"
          }
        }
      ]
    },
    {
      "cell_type": "markdown",
      "source": [
        "Referrence:-\n",
        "\n",
        "* https://www.w3schools.com/python/python_regex.asp\n",
        "* https://www.codegrepper.com/code-examples/python/how+to+search+in+list+using+regex"
      ],
      "metadata": {
        "id": "MNCKQm6E66bg"
      }
    },
    {
      "cell_type": "markdown",
      "source": [
        "### 6-product_variation_size_id"
      ],
      "metadata": {
        "id": "Di1KdBWJoHUE"
      }
    },
    {
      "cell_type": "code",
      "source": [
        "data['product_variation_size_id'].value_counts()"
      ],
      "metadata": {
        "colab": {
          "base_uri": "https://localhost:8080/"
        },
        "id": "gaUCoyzmoL8S",
        "outputId": "1e2032d0-b6cc-435a-b476-ad61a7a30984"
      },
      "execution_count": 95,
      "outputs": [
        {
          "output_type": "execute_result",
          "data": {
            "text/plain": [
              "S                               641\n",
              "XS                              356\n",
              "M                               200\n",
              "XXS                             100\n",
              "L                                49\n",
              "S.                               18\n",
              "XL                               17\n",
              "XXL                              15\n",
              "XXXS                              6\n",
              "XS.                               5\n",
              "4XL                               5\n",
              "Size S                            5\n",
              "s                                 5\n",
              "SIZE XS                           4\n",
              "2XL                               4\n",
              "M.                                4\n",
              "Size-XS                           4\n",
              "34                                3\n",
              "SizeL                             3\n",
              "Size-S                            3\n",
              "33                                3\n",
              "10 ml                             3\n",
              "2pcs                              3\n",
              "Suit-S                            2\n",
              "S(bust 88cm)                      2\n",
              "SIZE-XXS                          2\n",
              "XXXXL                             2\n",
              "5XL                               2\n",
              "29                                2\n",
              "Size M                            2\n",
              "S Pink                            2\n",
              "3XL                               2\n",
              "1 pc.                             2\n",
              "Size -XXS                         2\n",
              "EU 35                             2\n",
              "XXXXXL                            2\n",
              "Size S.                           2\n",
              "Size4XL                           2\n",
              "One Size                          2\n",
              "size S                            2\n",
              "25                                2\n",
              "35                                2\n",
              "1                                 2\n",
              "Base & Top & Matte Top Coat       1\n",
              "H01                               1\n",
              "10pcs                             1\n",
              "EU39(US8)                         1\n",
              "SIZE S                            1\n",
              "40 cm                             1\n",
              "S(Pink & Black)                   1\n",
              "White                             1\n",
              "1m by 3m                          1\n",
              "Baby Float Boat                   1\n",
              "3 layered anklet                  1\n",
              "US5.5-EU35                        1\n",
              "32/L                              1\n",
              "Size-L                            1\n",
              "S Diameter 30cm                   1\n",
              "Women Size 37                     1\n",
              "L.                                1\n",
              "SIZE-4XL                          1\n",
              "17                                1\n",
              "Size--S                           1\n",
              "first  generation                 1\n",
              "1 PC - XL                         1\n",
              "100pcs                            1\n",
              "80 X 200 CM                       1\n",
              "4                                 1\n",
              "XXXL                              1\n",
              "AU plug Low quality               1\n",
              "US 6.5 (EU 37)                    1\n",
              "daughter 24M                      1\n",
              "100 cm                            1\n",
              "20pcs                             1\n",
              "Women Size 36                     1\n",
              "26(Waist 72cm 28inch)             1\n",
              "choose a size                     1\n",
              "Base Coat                         1\n",
              "100 x 100cm(39.3 x 39.3inch)      1\n",
              "25-S                              1\n",
              "Size-XXS                          1\n",
              "5PAIRS                            1\n",
              "Pack of 1                         1\n",
              "6XL                               1\n",
              "S/M(child)                        1\n",
              "60                                1\n",
              "S (waist58-62cm)                  1\n",
              "SIZE XXS                          1\n",
              "X   L                             1\n",
              "04-3XL                            1\n",
              "B                                 1\n",
              "Floating Chair for Kid            1\n",
              "US-S                              1\n",
              "Size XXS                          1\n",
              "pants-S                           1\n",
              "1pc                               1\n",
              "S..                               1\n",
              "Round                             1\n",
              "4-5 Years                         1\n",
              "5                                 1\n",
              "30 cm                             1\n",
              "2                                 1\n",
              "20PCS-10PAIRS                     1\n",
              "Size-5XL                          1\n",
              "Size/S                            1\n",
              "36                                1\n",
              "Name: product_variation_size_id, dtype: int64"
            ]
          },
          "metadata": {},
          "execution_count": 95
        }
      ]
    },
    {
      "cell_type": "code",
      "source": [
        "# Replacing different variations of sizes into one\n",
        "\n",
        "XS = re.compile(\".*XS\")\n",
        "XS = list(filter(XS.match, data.product_variation_size_id.apply(str))) #  get any color contains \" & \"\n",
        "data['product_variation_size_id'] = data['product_variation_size_id'].replace(XS,'XS') \n",
        "\n",
        "S = re.compile(\".*S\" )\n",
        "S = list(filter(S.match, data.product_variation_size_id.apply(str))) #  get any color contains \" & \"\n",
        "data['product_variation_size_id'] = data['product_variation_size_id'].replace(S,'S') \n",
        "data['product_variation_size_id'] = data['product_variation_size_id'].replace('s','S') \n",
        "\n",
        "M = re.compile(\".*M\")\n",
        "M = list(filter(M.match, data.product_variation_size_id.apply(str))) #  get any color contains \" & \"\n",
        "data['product_variation_size_id'] = data['product_variation_size_id'].replace(M,'M') \n",
        "\n",
        "L = re.compile(\".*L\")\n",
        "L = list(filter(L.match, data.product_variation_size_id.apply(str))) #  get any color contains \" & \"\n",
        "data['product_variation_size_id'] = data['product_variation_size_id'].replace(L,'L') \n",
        "\n",
        "\n",
        "\n",
        "# list anything doesn't equal name to OTHER to account for other variations\n",
        "def not_exist(name):\n",
        "    if name == 'XS' or name == 'S' or name == 'M'  or name == 'L':\n",
        "        return name\n",
        "    else:\n",
        "        return \"OTHER\"\n",
        "\n",
        "# adding the new categories to data['feature']\n",
        "data['product_variation_size_id'] = data['product_variation_size_id'].apply(not_exist)\n"
      ],
      "metadata": {
        "id": "2g0sDO-hpCVC"
      },
      "execution_count": 96,
      "outputs": []
    },
    {
      "cell_type": "code",
      "source": [
        "# graph to look at size distribution to see if it correctly categorized everything\n",
        "fig_dims = (10, 10)\n",
        "fig, ax = plt.subplots(figsize=fig_dims)\n",
        "sns.countplot('product_variation_size_id',\n",
        "              order = data['product_variation_size_id'].value_counts().index,\n",
        "              palette=\"magma\",\n",
        "              data = data,\n",
        "              ax = ax)\n",
        "ax.set(xlabel='Size', ylabel='Count')\n",
        "plt.show()"
      ],
      "metadata": {
        "colab": {
          "base_uri": "https://localhost:8080/",
          "height": 0
        },
        "id": "sJD77rdZsvC_",
        "outputId": "c9029721-5704-42a3-9d95-469b824d1c34"
      },
      "execution_count": 97,
      "outputs": [
        {
          "output_type": "display_data",
          "data": {
            "image/png": "[encoded data removed]",
            "text/plain": [
              "<Figure size 720x720 with 1 Axes>"
            ]
          },
          "metadata": {
            "needs_background": "light"
          }
        }
      ]
    },
    {
      "cell_type": "markdown",
      "source": [
        "Referrence :\n",
        "* https://github.com/avalmahsa/Predicting-Wish.com-Product-Ratings/blob/222efb55992cfd5ca1d392659459c9bdc799dc92/Code.ipynb"
      ],
      "metadata": {
        "id": "Ay1gU1pUvze-"
      }
    },
    {
      "cell_type": "markdown",
      "metadata": {
        "id": "kcfXyVPRztdO"
      },
      "source": [
        "## 3.2 Fixing Nan cell"
      ]
    },
    {
      "cell_type": "code",
      "execution_count": 98,
      "metadata": {
        "colab": {
          "base_uri": "https://localhost:8080/"
        },
        "id": "X3-rjpCMz975",
        "outputId": "df7511f8-8fcd-42e9-a01f-ce0944011c0c"
      },
      "outputs": [
        {
          "output_type": "execute_result",
          "data": {
            "text/plain": [
              "price                              0\n",
              "retail_price                       0\n",
              "units_sold                         0\n",
              "uses_ad_boosts                     0\n",
              "rating                           479\n",
              "rating_count                       0\n",
              "badges_count                       0\n",
              "badge_local_product                0\n",
              "badge_product_quality              0\n",
              "badge_fast_shipping                0\n",
              "product_color                      0\n",
              "product_variation_size_id          0\n",
              "product_variation_inventory        0\n",
              "shipping_option_price              0\n",
              "shipping_is_express                0\n",
              "countries_shipped_to               0\n",
              "inventory_total                    0\n",
              "has_urgency_banner              1100\n",
              "merchant_title                     0\n",
              "merchant_rating_count              0\n",
              "merchant_rating                    0\n",
              "merchant_has_profile_picture       0\n",
              "Difference_in_price                0\n",
              "Rating_difference                  0\n",
              "tag_count                          0\n",
              "dtype: int64"
            ]
          },
          "metadata": {},
          "execution_count": 98
        }
      ],
      "source": [
        "# No. of nan values in data_train\n",
        "data.isnull().sum()   # you could here see that rating has 479 null values ,\n",
        "# but they are here because of test data "
      ]
    },
    {
      "cell_type": "markdown",
      "source": [
        "**AS we see here that there are  features have null values**\n",
        "* has urgencny banner\n",
        "* product variation size\n",
        "* color"
      ],
      "metadata": {
        "id": "qTZOUZi8wibY"
      }
    },
    {
      "cell_type": "markdown",
      "source": [
        "**For Urgency banner Feature**"
      ],
      "metadata": {
        "id": "F9ENEpHnxN3s"
      }
    },
    {
      "cell_type": "code",
      "execution_count": 99,
      "metadata": {
        "colab": {
          "base_uri": "https://localhost:8080/"
        },
        "id": "7Vz-UVwOxc4L",
        "outputId": "1b3d133f-3603-4c2f-84ac-2c306d60d523"
      },
      "outputs": [
        {
          "output_type": "execute_result",
          "data": {
            "text/plain": [
              "0.0    1100\n",
              "1.0     473\n",
              "Name: has_urgency_banner, dtype: int64"
            ]
          },
          "metadata": {},
          "execution_count": 99
        }
      ],
      "source": [
        "#Fill non values in feature (has_urgency_banner) with zero because it has binary values \n",
        "# 0 >> no urgency text, 1 >>> has urgency text\n",
        "data['has_urgency_banner'].fillna(0,inplace=True)\n",
        "data['has_urgency_banner'].value_counts()"
      ]
    },
    {
      "cell_type": "markdown",
      "source": [
        "**Product variation size**"
      ],
      "metadata": {
        "id": "nLLLElO-z5tW"
      }
    },
    {
      "cell_type": "code",
      "source": [
        "# replace missing values with FFill \n",
        "data['product_variation_size_id'].fillna(method='ffill');\n"
      ],
      "metadata": {
        "id": "KiHOIlMCz-ry"
      },
      "execution_count": 100,
      "outputs": []
    },
    {
      "cell_type": "markdown",
      "source": [
        "**Color**"
      ],
      "metadata": {
        "id": "qSNSP7U-01us"
      }
    },
    {
      "cell_type": "code",
      "source": [
        "data['product_color'].fillna(method=\"ffill\")   #fill with forward \n"
      ],
      "metadata": {
        "colab": {
          "base_uri": "https://localhost:8080/"
        },
        "id": "VTkNSV3G06E8",
        "outputId": "e5d75049-fca2-4f22-cbab-531bbea69494"
      },
      "execution_count": 101,
      "outputs": [
        {
          "output_type": "execute_result",
          "data": {
            "text/plain": [
              "id\n",
              "272     yellow\n",
              "1515     black\n",
              "940      white\n",
              "309       blue\n",
              "226     orange\n",
              "         ...  \n",
              "1166     black\n",
              "1416      blue\n",
              "63       white\n",
              "626      black\n",
              "196     yellow\n",
              "Name: product_color, Length: 1573, dtype: object"
            ]
          },
          "metadata": {},
          "execution_count": 101
        }
      ]
    },
    {
      "cell_type": "markdown",
      "metadata": {
        "id": "OPpkZ6XTdko7"
      },
      "source": [
        "## 3.3- OHE (One Hot encoding )\n",
        "* 1- product_color\n",
        "* 2- product_variation_size_id\n",
        "* 3- merchant_title\t "
      ]
    },
    {
      "cell_type": "code",
      "execution_count": 103,
      "metadata": {
        "id": "1tTiyWN1d9IG",
        "colab": {
          "base_uri": "https://localhost:8080/"
        },
        "outputId": "ce5e6c2f-02ad-4a78-da5f-b625205f4f2f"
      },
      "outputs": [
        {
          "output_type": "execute_result",
          "data": {
            "text/plain": [
              "(1573, 998)"
            ]
          },
          "metadata": {},
          "execution_count": 103
        }
      ],
      "source": [
        "# OHE  feature to prepare data  for model prediction \n",
        "data_dummy = pd.get_dummies(data, columns = ['product_color','product_variation_size_id','merchant_title'],\n",
        "                    prefix = ['product_color','product_variation_size','merchant_title'])\n",
        "# quick check to see if it worked\n",
        "data_dummy.shape"
      ]
    },
    {
      "cell_type": "markdown",
      "metadata": {
        "id": "mAsStM4eHXsN"
      },
      "source": [
        "## 3.4 - Return Train and Test Data "
      ]
    },
    {
      "cell_type": "code",
      "execution_count": 104,
      "metadata": {
        "colab": {
          "base_uri": "https://localhost:8080/"
        },
        "id": "qMrnrjQT3Bus",
        "outputId": "f6bf18bf-b75a-43d8-d08f-f26163cbe88b"
      },
      "outputs": [
        {
          "output_type": "stream",
          "name": "stdout",
          "text": [
            "(1094, 998) (479, 997) (1094, 997)\n"
          ]
        }
      ],
      "source": [
        "#Getting X_train , y_train , X_test\n",
        "\n",
        "# Train data\n",
        "\n",
        "train_data=data_dummy.iloc[:1094]  #until index (1093,)    when rating starts to be Nat \n",
        "\n",
        "#for validation split\n",
        "\n",
        "X=train_data.drop(['rating'], axis = 1)   #(1093,)\n",
        "y=train_data['rating']                    #(1093,1)\n",
        "\n",
        "#Test data\n",
        "\n",
        "X_test = data_dummy.iloc[1094:].drop(['rating'],axis=1) # (479,)\n",
        "\n",
        "print(train_data.shape,X_test.shape,X.shape)\n"
      ]
    },
    {
      "cell_type": "markdown",
      "metadata": {
        "id": "5-3WCQ_H-HcK"
      },
      "source": [
        "## 3.5- Normalizing / Scaling \n",
        "\n",
        "\n"
      ]
    },
    {
      "cell_type": "markdown",
      "source": [
        "### Train Scaling / Normalizing"
      ],
      "metadata": {
        "id": "piHWWHGA_Gjr"
      }
    },
    {
      "cell_type": "code",
      "execution_count": 105,
      "metadata": {
        "colab": {
          "base_uri": "https://localhost:8080/",
          "height": 317
        },
        "id": "cO-bVzlzZE7_",
        "outputId": "6c39d161-f681-4973-b745-51a7b7e47230"
      },
      "outputs": [
        {
          "output_type": "execute_result",
          "data": {
            "text/html": [
              "\n",
              "  <div id=\"df-7f9a4693-41ad-4323-b3ec-bea7c4ea4154\">\n",
              "    <div class=\"colab-df-container\">\n",
              "      <div>\n",
              "<style scoped>\n",
              "    .dataframe tbody tr th:only-of-type {\n",
              "        vertical-align: middle;\n",
              "    }\n",
              "\n",
              "    .dataframe tbody tr th {\n",
              "        vertical-align: top;\n",
              "    }\n",
              "\n",
              "    .dataframe thead th {\n",
              "        text-align: right;\n",
              "    }\n",
              "</style>\n",
              "<table border=\"1\" class=\"dataframe\">\n",
              "  <thead>\n",
              "    <tr style=\"text-align: right;\">\n",
              "      <th></th>\n",
              "      <th>price</th>\n",
              "      <th>retail_price</th>\n",
              "      <th>units_sold</th>\n",
              "      <th>uses_ad_boosts</th>\n",
              "      <th>rating_count</th>\n",
              "      <th>badges_count</th>\n",
              "      <th>badge_local_product</th>\n",
              "      <th>badge_product_quality</th>\n",
              "      <th>badge_fast_shipping</th>\n",
              "      <th>product_variation_inventory</th>\n",
              "      <th>shipping_option_price</th>\n",
              "      <th>shipping_is_express</th>\n",
              "      <th>countries_shipped_to</th>\n",
              "      <th>inventory_total</th>\n",
              "      <th>has_urgency_banner</th>\n",
              "      <th>merchant_rating_count</th>\n",
              "      <th>merchant_rating</th>\n",
              "      <th>merchant_has_profile_picture</th>\n",
              "      <th>Difference_in_price</th>\n",
              "      <th>Rating_difference</th>\n",
              "      <th>tag_count</th>\n",
              "      <th>product_color_Dual</th>\n",
              "      <th>product_color_beige</th>\n",
              "      <th>product_color_black</th>\n",
              "      <th>product_color_blue</th>\n",
              "      <th>product_color_green</th>\n",
              "      <th>product_color_grey</th>\n",
              "      <th>product_color_multicolor</th>\n",
              "      <th>product_color_orange</th>\n",
              "      <th>product_color_other</th>\n",
              "      <th>product_color_pink</th>\n",
              "      <th>product_color_purple</th>\n",
              "      <th>product_color_red</th>\n",
              "      <th>product_color_white</th>\n",
              "      <th>product_color_yellow</th>\n",
              "      <th>product_variation_size_L</th>\n",
              "      <th>product_variation_size_M</th>\n",
              "      <th>product_variation_size_OTHER</th>\n",
              "      <th>product_variation_size_S</th>\n",
              "      <th>merchant_title_007 Fashion</th>\n",
              "      <th>...</th>\n",
              "      <th>merchant_title_yz33</th>\n",
              "      <th>merchant_title_zaitaowanggou</th>\n",
              "      <th>merchant_title_zanglixia555</th>\n",
              "      <th>merchant_title_zengdaitao</th>\n",
              "      <th>merchant_title_zengyiceng520</th>\n",
              "      <th>merchant_title_zengzhaoti</th>\n",
              "      <th>merchant_title_zgrdejia</th>\n",
              "      <th>merchant_title_zhaangyuu</th>\n",
              "      <th>merchant_title_zhanghongxue</th>\n",
              "      <th>merchant_title_zhangj</th>\n",
              "      <th>merchant_title_zhangjian1234</th>\n",
              "      <th>merchant_title_zhangxiaoyunyun</th>\n",
              "      <th>merchant_title_zhaodongmei</th>\n",
              "      <th>merchant_title_zhaojinghui</th>\n",
              "      <th>merchant_title_zhaowenxiang</th>\n",
              "      <th>merchant_title_zhaoyunyun</th>\n",
              "      <th>merchant_title_zhengruirong</th>\n",
              "      <th>merchant_title_zhenhaogouwuche</th>\n",
              "      <th>merchant_title_zhenyangongyequ7766</th>\n",
              "      <th>merchant_title_zhiceyang</th>\n",
              "      <th>merchant_title_zhihuigshop</th>\n",
              "      <th>merchant_title_zhishukuaile</th>\n",
              "      <th>merchant_title_zhongling695847</th>\n",
              "      <th>merchant_title_zhongminjun</th>\n",
              "      <th>merchant_title_zhongwenlili</th>\n",
              "      <th>merchant_title_zhouling1234</th>\n",
              "      <th>merchant_title_zhoulinglinga</th>\n",
              "      <th>merchant_title_zhoupingastore</th>\n",
              "      <th>merchant_title_zhouzhilong</th>\n",
              "      <th>merchant_title_zhuangxiuhuang</th>\n",
              "      <th>merchant_title_zhuangyuping1</th>\n",
              "      <th>merchant_title_zhuhongyushop</th>\n",
              "      <th>merchant_title_zjyuanhang.1</th>\n",
              "      <th>merchant_title_zktrade.co.ltd</th>\n",
              "      <th>merchant_title_zongxindianziyouxian gongsi</th>\n",
              "      <th>merchant_title_zoufei</th>\n",
              "      <th>merchant_title_zoushoujintmiao</th>\n",
              "      <th>merchant_title_zufanqiudinli</th>\n",
              "      <th>merchant_title_zuilangmanDS</th>\n",
              "      <th>merchant_title_zzbllss</th>\n",
              "    </tr>\n",
              "  </thead>\n",
              "  <tbody>\n",
              "    <tr>\n",
              "      <th>0</th>\n",
              "      <td>0.145833</td>\n",
              "      <td>0.020</td>\n",
              "      <td>0.099991</td>\n",
              "      <td>1.0</td>\n",
              "      <td>0.080505</td>\n",
              "      <td>0.000000</td>\n",
              "      <td>0.0</td>\n",
              "      <td>0.0</td>\n",
              "      <td>0.0</td>\n",
              "      <td>1.000000</td>\n",
              "      <td>0.181818</td>\n",
              "      <td>0.0</td>\n",
              "      <td>0.166667</td>\n",
              "      <td>1.0</td>\n",
              "      <td>0.0</td>\n",
              "      <td>0.030642</td>\n",
              "      <td>0.731146</td>\n",
              "      <td>1.0</td>\n",
              "      <td>0.0</td>\n",
              "      <td>0.0</td>\n",
              "      <td>0.242424</td>\n",
              "      <td>0.0</td>\n",
              "      <td>0.0</td>\n",
              "      <td>0.0</td>\n",
              "      <td>0.0</td>\n",
              "      <td>0.0</td>\n",
              "      <td>0.0</td>\n",
              "      <td>0.0</td>\n",
              "      <td>0.0</td>\n",
              "      <td>0.0</td>\n",
              "      <td>0.0</td>\n",
              "      <td>0.0</td>\n",
              "      <td>0.0</td>\n",
              "      <td>0.0</td>\n",
              "      <td>1.0</td>\n",
              "      <td>0.0</td>\n",
              "      <td>1.0</td>\n",
              "      <td>0.0</td>\n",
              "      <td>0.0</td>\n",
              "      <td>0.0</td>\n",
              "      <td>...</td>\n",
              "      <td>0.0</td>\n",
              "      <td>0.0</td>\n",
              "      <td>0.0</td>\n",
              "      <td>0.0</td>\n",
              "      <td>0.0</td>\n",
              "      <td>0.0</td>\n",
              "      <td>0.0</td>\n",
              "      <td>0.0</td>\n",
              "      <td>0.0</td>\n",
              "      <td>0.0</td>\n",
              "      <td>0.0</td>\n",
              "      <td>0.0</td>\n",
              "      <td>0.0</td>\n",
              "      <td>0.0</td>\n",
              "      <td>0.0</td>\n",
              "      <td>0.0</td>\n",
              "      <td>0.0</td>\n",
              "      <td>0.0</td>\n",
              "      <td>0.0</td>\n",
              "      <td>0.0</td>\n",
              "      <td>0.0</td>\n",
              "      <td>0.0</td>\n",
              "      <td>0.0</td>\n",
              "      <td>0.0</td>\n",
              "      <td>0.0</td>\n",
              "      <td>0.0</td>\n",
              "      <td>0.0</td>\n",
              "      <td>0.0</td>\n",
              "      <td>0.0</td>\n",
              "      <td>0.0</td>\n",
              "      <td>0.0</td>\n",
              "      <td>0.0</td>\n",
              "      <td>0.0</td>\n",
              "      <td>0.0</td>\n",
              "      <td>0.0</td>\n",
              "      <td>0.0</td>\n",
              "      <td>0.0</td>\n",
              "      <td>0.0</td>\n",
              "      <td>0.0</td>\n",
              "      <td>0.0</td>\n",
              "    </tr>\n",
              "    <tr>\n",
              "      <th>1</th>\n",
              "      <td>0.145833</td>\n",
              "      <td>0.020</td>\n",
              "      <td>0.009990</td>\n",
              "      <td>0.0</td>\n",
              "      <td>0.040638</td>\n",
              "      <td>0.333333</td>\n",
              "      <td>1.0</td>\n",
              "      <td>0.0</td>\n",
              "      <td>0.0</td>\n",
              "      <td>1.000000</td>\n",
              "      <td>0.181818</td>\n",
              "      <td>0.0</td>\n",
              "      <td>0.219697</td>\n",
              "      <td>1.0</td>\n",
              "      <td>0.0</td>\n",
              "      <td>0.011839</td>\n",
              "      <td>0.804047</td>\n",
              "      <td>0.0</td>\n",
              "      <td>0.0</td>\n",
              "      <td>0.0</td>\n",
              "      <td>0.424242</td>\n",
              "      <td>0.0</td>\n",
              "      <td>0.0</td>\n",
              "      <td>1.0</td>\n",
              "      <td>0.0</td>\n",
              "      <td>0.0</td>\n",
              "      <td>0.0</td>\n",
              "      <td>0.0</td>\n",
              "      <td>0.0</td>\n",
              "      <td>0.0</td>\n",
              "      <td>0.0</td>\n",
              "      <td>0.0</td>\n",
              "      <td>0.0</td>\n",
              "      <td>0.0</td>\n",
              "      <td>0.0</td>\n",
              "      <td>1.0</td>\n",
              "      <td>0.0</td>\n",
              "      <td>0.0</td>\n",
              "      <td>0.0</td>\n",
              "      <td>0.0</td>\n",
              "      <td>...</td>\n",
              "      <td>0.0</td>\n",
              "      <td>0.0</td>\n",
              "      <td>0.0</td>\n",
              "      <td>0.0</td>\n",
              "      <td>0.0</td>\n",
              "      <td>0.0</td>\n",
              "      <td>0.0</td>\n",
              "      <td>0.0</td>\n",
              "      <td>0.0</td>\n",
              "      <td>0.0</td>\n",
              "      <td>0.0</td>\n",
              "      <td>0.0</td>\n",
              "      <td>0.0</td>\n",
              "      <td>0.0</td>\n",
              "      <td>0.0</td>\n",
              "      <td>0.0</td>\n",
              "      <td>0.0</td>\n",
              "      <td>0.0</td>\n",
              "      <td>0.0</td>\n",
              "      <td>0.0</td>\n",
              "      <td>0.0</td>\n",
              "      <td>0.0</td>\n",
              "      <td>0.0</td>\n",
              "      <td>0.0</td>\n",
              "      <td>0.0</td>\n",
              "      <td>0.0</td>\n",
              "      <td>0.0</td>\n",
              "      <td>0.0</td>\n",
              "      <td>0.0</td>\n",
              "      <td>0.0</td>\n",
              "      <td>0.0</td>\n",
              "      <td>0.0</td>\n",
              "      <td>0.0</td>\n",
              "      <td>0.0</td>\n",
              "      <td>0.0</td>\n",
              "      <td>0.0</td>\n",
              "      <td>0.0</td>\n",
              "      <td>0.0</td>\n",
              "      <td>0.0</td>\n",
              "      <td>0.0</td>\n",
              "    </tr>\n",
              "    <tr>\n",
              "      <th>2</th>\n",
              "      <td>0.104167</td>\n",
              "      <td>0.128</td>\n",
              "      <td>0.000990</td>\n",
              "      <td>0.0</td>\n",
              "      <td>0.000482</td>\n",
              "      <td>0.000000</td>\n",
              "      <td>0.0</td>\n",
              "      <td>0.0</td>\n",
              "      <td>0.0</td>\n",
              "      <td>1.000000</td>\n",
              "      <td>0.090909</td>\n",
              "      <td>0.0</td>\n",
              "      <td>0.250000</td>\n",
              "      <td>1.0</td>\n",
              "      <td>0.0</td>\n",
              "      <td>0.001790</td>\n",
              "      <td>0.603628</td>\n",
              "      <td>0.0</td>\n",
              "      <td>1.0</td>\n",
              "      <td>0.5</td>\n",
              "      <td>0.454545</td>\n",
              "      <td>0.0</td>\n",
              "      <td>0.0</td>\n",
              "      <td>0.0</td>\n",
              "      <td>0.0</td>\n",
              "      <td>0.0</td>\n",
              "      <td>0.0</td>\n",
              "      <td>0.0</td>\n",
              "      <td>0.0</td>\n",
              "      <td>0.0</td>\n",
              "      <td>0.0</td>\n",
              "      <td>0.0</td>\n",
              "      <td>0.0</td>\n",
              "      <td>1.0</td>\n",
              "      <td>0.0</td>\n",
              "      <td>1.0</td>\n",
              "      <td>0.0</td>\n",
              "      <td>0.0</td>\n",
              "      <td>0.0</td>\n",
              "      <td>0.0</td>\n",
              "      <td>...</td>\n",
              "      <td>0.0</td>\n",
              "      <td>0.0</td>\n",
              "      <td>0.0</td>\n",
              "      <td>0.0</td>\n",
              "      <td>0.0</td>\n",
              "      <td>0.0</td>\n",
              "      <td>0.0</td>\n",
              "      <td>0.0</td>\n",
              "      <td>0.0</td>\n",
              "      <td>0.0</td>\n",
              "      <td>0.0</td>\n",
              "      <td>0.0</td>\n",
              "      <td>1.0</td>\n",
              "      <td>0.0</td>\n",
              "      <td>0.0</td>\n",
              "      <td>0.0</td>\n",
              "      <td>0.0</td>\n",
              "      <td>0.0</td>\n",
              "      <td>0.0</td>\n",
              "      <td>0.0</td>\n",
              "      <td>0.0</td>\n",
              "      <td>0.0</td>\n",
              "      <td>0.0</td>\n",
              "      <td>0.0</td>\n",
              "      <td>0.0</td>\n",
              "      <td>0.0</td>\n",
              "      <td>0.0</td>\n",
              "      <td>0.0</td>\n",
              "      <td>0.0</td>\n",
              "      <td>0.0</td>\n",
              "      <td>0.0</td>\n",
              "      <td>0.0</td>\n",
              "      <td>0.0</td>\n",
              "      <td>0.0</td>\n",
              "      <td>0.0</td>\n",
              "      <td>0.0</td>\n",
              "      <td>0.0</td>\n",
              "      <td>0.0</td>\n",
              "      <td>0.0</td>\n",
              "      <td>0.0</td>\n",
              "    </tr>\n",
              "    <tr>\n",
              "      <th>3</th>\n",
              "      <td>0.076458</td>\n",
              "      <td>0.008</td>\n",
              "      <td>0.000990</td>\n",
              "      <td>1.0</td>\n",
              "      <td>0.003953</td>\n",
              "      <td>0.000000</td>\n",
              "      <td>0.0</td>\n",
              "      <td>0.0</td>\n",
              "      <td>0.0</td>\n",
              "      <td>0.081633</td>\n",
              "      <td>0.000000</td>\n",
              "      <td>0.0</td>\n",
              "      <td>0.128788</td>\n",
              "      <td>1.0</td>\n",
              "      <td>0.0</td>\n",
              "      <td>0.003445</td>\n",
              "      <td>0.695569</td>\n",
              "      <td>0.0</td>\n",
              "      <td>0.0</td>\n",
              "      <td>0.0</td>\n",
              "      <td>0.242424</td>\n",
              "      <td>0.0</td>\n",
              "      <td>0.0</td>\n",
              "      <td>0.0</td>\n",
              "      <td>1.0</td>\n",
              "      <td>0.0</td>\n",
              "      <td>0.0</td>\n",
              "      <td>0.0</td>\n",
              "      <td>0.0</td>\n",
              "      <td>0.0</td>\n",
              "      <td>0.0</td>\n",
              "      <td>0.0</td>\n",
              "      <td>0.0</td>\n",
              "      <td>0.0</td>\n",
              "      <td>0.0</td>\n",
              "      <td>0.0</td>\n",
              "      <td>0.0</td>\n",
              "      <td>0.0</td>\n",
              "      <td>1.0</td>\n",
              "      <td>0.0</td>\n",
              "      <td>...</td>\n",
              "      <td>0.0</td>\n",
              "      <td>0.0</td>\n",
              "      <td>0.0</td>\n",
              "      <td>0.0</td>\n",
              "      <td>0.0</td>\n",
              "      <td>0.0</td>\n",
              "      <td>0.0</td>\n",
              "      <td>0.0</td>\n",
              "      <td>0.0</td>\n",
              "      <td>0.0</td>\n",
              "      <td>0.0</td>\n",
              "      <td>0.0</td>\n",
              "      <td>0.0</td>\n",
              "      <td>0.0</td>\n",
              "      <td>0.0</td>\n",
              "      <td>0.0</td>\n",
              "      <td>0.0</td>\n",
              "      <td>0.0</td>\n",
              "      <td>0.0</td>\n",
              "      <td>0.0</td>\n",
              "      <td>0.0</td>\n",
              "      <td>0.0</td>\n",
              "      <td>0.0</td>\n",
              "      <td>0.0</td>\n",
              "      <td>0.0</td>\n",
              "      <td>0.0</td>\n",
              "      <td>0.0</td>\n",
              "      <td>0.0</td>\n",
              "      <td>0.0</td>\n",
              "      <td>0.0</td>\n",
              "      <td>0.0</td>\n",
              "      <td>0.0</td>\n",
              "      <td>0.0</td>\n",
              "      <td>0.0</td>\n",
              "      <td>0.0</td>\n",
              "      <td>0.0</td>\n",
              "      <td>0.0</td>\n",
              "      <td>0.0</td>\n",
              "      <td>0.0</td>\n",
              "      <td>0.0</td>\n",
              "    </tr>\n",
              "    <tr>\n",
              "      <th>4</th>\n",
              "      <td>0.145833</td>\n",
              "      <td>0.036</td>\n",
              "      <td>0.009990</td>\n",
              "      <td>0.0</td>\n",
              "      <td>0.006122</td>\n",
              "      <td>0.000000</td>\n",
              "      <td>0.0</td>\n",
              "      <td>0.0</td>\n",
              "      <td>0.0</td>\n",
              "      <td>1.000000</td>\n",
              "      <td>0.181818</td>\n",
              "      <td>0.0</td>\n",
              "      <td>0.053030</td>\n",
              "      <td>1.0</td>\n",
              "      <td>1.0</td>\n",
              "      <td>0.000078</td>\n",
              "      <td>0.834288</td>\n",
              "      <td>0.0</td>\n",
              "      <td>1.0</td>\n",
              "      <td>0.5</td>\n",
              "      <td>0.363636</td>\n",
              "      <td>0.0</td>\n",
              "      <td>0.0</td>\n",
              "      <td>0.0</td>\n",
              "      <td>0.0</td>\n",
              "      <td>0.0</td>\n",
              "      <td>0.0</td>\n",
              "      <td>0.0</td>\n",
              "      <td>1.0</td>\n",
              "      <td>0.0</td>\n",
              "      <td>0.0</td>\n",
              "      <td>0.0</td>\n",
              "      <td>0.0</td>\n",
              "      <td>0.0</td>\n",
              "      <td>0.0</td>\n",
              "      <td>0.0</td>\n",
              "      <td>0.0</td>\n",
              "      <td>0.0</td>\n",
              "      <td>1.0</td>\n",
              "      <td>0.0</td>\n",
              "      <td>...</td>\n",
              "      <td>0.0</td>\n",
              "      <td>0.0</td>\n",
              "      <td>0.0</td>\n",
              "      <td>0.0</td>\n",
              "      <td>0.0</td>\n",
              "      <td>0.0</td>\n",
              "      <td>0.0</td>\n",
              "      <td>0.0</td>\n",
              "      <td>0.0</td>\n",
              "      <td>0.0</td>\n",
              "      <td>0.0</td>\n",
              "      <td>0.0</td>\n",
              "      <td>0.0</td>\n",
              "      <td>0.0</td>\n",
              "      <td>0.0</td>\n",
              "      <td>0.0</td>\n",
              "      <td>0.0</td>\n",
              "      <td>0.0</td>\n",
              "      <td>0.0</td>\n",
              "      <td>0.0</td>\n",
              "      <td>0.0</td>\n",
              "      <td>0.0</td>\n",
              "      <td>0.0</td>\n",
              "      <td>0.0</td>\n",
              "      <td>0.0</td>\n",
              "      <td>0.0</td>\n",
              "      <td>0.0</td>\n",
              "      <td>0.0</td>\n",
              "      <td>0.0</td>\n",
              "      <td>0.0</td>\n",
              "      <td>0.0</td>\n",
              "      <td>0.0</td>\n",
              "      <td>0.0</td>\n",
              "      <td>0.0</td>\n",
              "      <td>0.0</td>\n",
              "      <td>0.0</td>\n",
              "      <td>0.0</td>\n",
              "      <td>0.0</td>\n",
              "      <td>0.0</td>\n",
              "      <td>0.0</td>\n",
              "    </tr>\n",
              "  </tbody>\n",
              "</table>\n",
              "<p>5 rows × 997 columns</p>\n",
              "</div>\n",
              "      <button class=\"colab-df-convert\" onclick=\"convertToInteractive('df-7f9a4693-41ad-4323-b3ec-bea7c4ea4154')\"\n",
              "              title=\"Convert this dataframe to an interactive table.\"\n",
              "              style=\"display:none;\">\n",
              "        \n",
              "  <svg xmlns=\"http://www.w3.org/2000/svg\" height=\"24px\"viewBox=\"0 0 24 24\"\n",
              "       width=\"24px\">\n",
              "    <path d=\"M0 0h24v24H0V0z\" fill=\"none\"/>\n",
              "    <path d=\"M18.56 5.44l.94 2.06.94-2.06 2.06-.94-2.06-.94-.94-2.06-.94 2.06-2.06.94zm-11 1L8.5 8.5l.94-2.06 2.06-.94-2.06-.94L8.5 2.5l-.94 2.06-2.06.94zm10 10l.94 2.06.94-2.06 2.06-.94-2.06-.94-.94-2.06-.94 2.06-2.06.94z\"/><path d=\"M17.41 7.96l-1.37-1.37c-.4-.4-.92-.59-1.43-.59-.52 0-1.04.2-1.43.59L10.3 9.45l-7.72 7.72c-.78.78-.78 2.05 0 2.83L4 21.41c.39.39.9.59 1.41.59.51 0 1.02-.2 1.41-.59l7.78-7.78 2.81-2.81c.8-.78.8-2.07 0-2.86zM5.41 20L4 18.59l7.72-7.72 1.47 1.35L5.41 20z\"/>\n",
              "  </svg>\n",
              "      </button>\n",
              "      \n",
              "  <style>\n",
              "    .colab-df-container {\n",
              "      display:flex;\n",
              "      flex-wrap:wrap;\n",
              "      gap: 12px;\n",
              "    }\n",
              "\n",
              "    .colab-df-convert {\n",
              "      background-color: #E8F0FE;\n",
              "      border: none;\n",
              "      border-radius: 50%;\n",
              "      cursor: pointer;\n",
              "      display: none;\n",
              "      fill: #1967D2;\n",
              "      height: 32px;\n",
              "      padding: 0 0 0 0;\n",
              "      width: 32px;\n",
              "    }\n",
              "\n",
              "    .colab-df-convert:hover {\n",
              "      background-color: #E2EBFA;\n",
              "      box-shadow: 0px 1px 2px rgba(60, 64, 67, 0.3), 0px 1px 3px 1px rgba(60, 64, 67, 0.15);\n",
              "      fill: #174EA6;\n",
              "    }\n",
              "\n",
              "    [theme=dark] .colab-df-convert {\n",
              "      background-color: #3B4455;\n",
              "      fill: #D2E3FC;\n",
              "    }\n",
              "\n",
              "    [theme=dark] .colab-df-convert:hover {\n",
              "      background-color: #434B5C;\n",
              "      box-shadow: 0px 1px 3px 1px rgba(0, 0, 0, 0.15);\n",
              "      filter: drop-shadow(0px 1px 2px rgba(0, 0, 0, 0.3));\n",
              "      fill: #FFFFFF;\n",
              "    }\n",
              "  </style>\n",
              "\n",
              "      <script>\n",
              "        const buttonEl =\n",
              "          document.querySelector('#df-7f9a4693-41ad-4323-b3ec-bea7c4ea4154 button.colab-df-convert');\n",
              "        buttonEl.style.display =\n",
              "          google.colab.kernel.accessAllowed ? 'block' : 'none';\n",
              "\n",
              "        async function convertToInteractive(key) {\n",
              "          const element = document.querySelector('#df-7f9a4693-41ad-4323-b3ec-bea7c4ea4154');\n",
              "          const dataTable =\n",
              "            await google.colab.kernel.invokeFunction('convertToInteractive',\n",
              "                                                     [key], {});\n",
              "          if (!dataTable) return;\n",
              "\n",
              "          const docLinkHtml = 'Like what you see? Visit the ' +\n",
              "            '<a target=\"_blank\" href=https://colab.research.google.com/notebooks/data_table.ipynb>data table notebook</a>'\n",
              "            + ' to learn more about interactive tables.';\n",
              "          element.innerHTML = '';\n",
              "          dataTable['output_type'] = 'display_data';\n",
              "          await google.colab.output.renderOutput(dataTable, element);\n",
              "          const docLink = document.createElement('div');\n",
              "          docLink.innerHTML = docLinkHtml;\n",
              "          element.appendChild(docLink);\n",
              "        }\n",
              "      </script>\n",
              "    </div>\n",
              "  </div>\n",
              "  "
            ],
            "text/plain": [
              "      price  retail_price  ...  merchant_title_zuilangmanDS  merchant_title_zzbllss\n",
              "0  0.145833         0.020  ...                          0.0                     0.0\n",
              "1  0.145833         0.020  ...                          0.0                     0.0\n",
              "2  0.104167         0.128  ...                          0.0                     0.0\n",
              "3  0.076458         0.008  ...                          0.0                     0.0\n",
              "4  0.145833         0.036  ...                          0.0                     0.0\n",
              "\n",
              "[5 rows x 997 columns]"
            ]
          },
          "metadata": {},
          "execution_count": 105
        }
      ],
      "source": [
        "#Train \n",
        "# Scaler scales and translates each feature individually such that it is in the given range on the training set, e.g. between zero and one, where min, max = feature_range.\n",
        "from sklearn import preprocessing\n",
        "scaler = preprocessing.MinMaxScaler()\n",
        "\n",
        "X_data_scaled = scaler.fit_transform(X)\n",
        "data_normalized=pd.DataFrame(X_data_scaled, columns=X.columns)\n",
        "data_normalized.head()  #used in prediction the model \n",
        "# NOTES: normalizes numerical values and saved them to  df called \"data\" so we don't lose the not-normlized values"
      ]
    },
    {
      "cell_type": "markdown",
      "source": [
        "### Test Scaling / Normalizing"
      ],
      "metadata": {
        "id": "xVZZzCOa_L_d"
      }
    },
    {
      "cell_type": "code",
      "source": [
        "#Test\n",
        "# Scaler scales and translates each feature individually such that it is in the given range on the training set, e.g. between zero and one, where min, max = feature_range.\n",
        "from sklearn import preprocessing\n",
        "scaler = preprocessing.MinMaxScaler()\n",
        "\n",
        "X_test_scaled = scaler.fit_transform(X_test)\n",
        "test_normalized=pd.DataFrame(X_test_scaled, columns=X_test.columns)\n",
        "test_normalized.head()\n",
        "# NOTES: normalizes numerical values and saved them to  df called \"data\" so we don't lose the not-normlized values"
      ],
      "metadata": {
        "colab": {
          "base_uri": "https://localhost:8080/",
          "height": 317
        },
        "id": "cu4FP4E0-uJe",
        "outputId": "c09a341c-8d02-46b4-aabd-fbdad55de84f"
      },
      "execution_count": 106,
      "outputs": [
        {
          "output_type": "execute_result",
          "data": {
            "text/html": [
              "\n",
              "  <div id=\"df-087d5826-a800-4b1d-b41c-ffcebca0e9b4\">\n",
              "    <div class=\"colab-df-container\">\n",
              "      <div>\n",
              "<style scoped>\n",
              "    .dataframe tbody tr th:only-of-type {\n",
              "        vertical-align: middle;\n",
              "    }\n",
              "\n",
              "    .dataframe tbody tr th {\n",
              "        vertical-align: top;\n",
              "    }\n",
              "\n",
              "    .dataframe thead th {\n",
              "        text-align: right;\n",
              "    }\n",
              "</style>\n",
              "<table border=\"1\" class=\"dataframe\">\n",
              "  <thead>\n",
              "    <tr style=\"text-align: right;\">\n",
              "      <th></th>\n",
              "      <th>price</th>\n",
              "      <th>retail_price</th>\n",
              "      <th>units_sold</th>\n",
              "      <th>uses_ad_boosts</th>\n",
              "      <th>rating_count</th>\n",
              "      <th>badges_count</th>\n",
              "      <th>badge_local_product</th>\n",
              "      <th>badge_product_quality</th>\n",
              "      <th>badge_fast_shipping</th>\n",
              "      <th>product_variation_inventory</th>\n",
              "      <th>shipping_option_price</th>\n",
              "      <th>shipping_is_express</th>\n",
              "      <th>countries_shipped_to</th>\n",
              "      <th>inventory_total</th>\n",
              "      <th>has_urgency_banner</th>\n",
              "      <th>merchant_rating_count</th>\n",
              "      <th>merchant_rating</th>\n",
              "      <th>merchant_has_profile_picture</th>\n",
              "      <th>Difference_in_price</th>\n",
              "      <th>Rating_difference</th>\n",
              "      <th>tag_count</th>\n",
              "      <th>product_color_Dual</th>\n",
              "      <th>product_color_beige</th>\n",
              "      <th>product_color_black</th>\n",
              "      <th>product_color_blue</th>\n",
              "      <th>product_color_green</th>\n",
              "      <th>product_color_grey</th>\n",
              "      <th>product_color_multicolor</th>\n",
              "      <th>product_color_orange</th>\n",
              "      <th>product_color_other</th>\n",
              "      <th>product_color_pink</th>\n",
              "      <th>product_color_purple</th>\n",
              "      <th>product_color_red</th>\n",
              "      <th>product_color_white</th>\n",
              "      <th>product_color_yellow</th>\n",
              "      <th>product_variation_size_L</th>\n",
              "      <th>product_variation_size_M</th>\n",
              "      <th>product_variation_size_OTHER</th>\n",
              "      <th>product_variation_size_S</th>\n",
              "      <th>merchant_title_007 Fashion</th>\n",
              "      <th>...</th>\n",
              "      <th>merchant_title_yz33</th>\n",
              "      <th>merchant_title_zaitaowanggou</th>\n",
              "      <th>merchant_title_zanglixia555</th>\n",
              "      <th>merchant_title_zengdaitao</th>\n",
              "      <th>merchant_title_zengyiceng520</th>\n",
              "      <th>merchant_title_zengzhaoti</th>\n",
              "      <th>merchant_title_zgrdejia</th>\n",
              "      <th>merchant_title_zhaangyuu</th>\n",
              "      <th>merchant_title_zhanghongxue</th>\n",
              "      <th>merchant_title_zhangj</th>\n",
              "      <th>merchant_title_zhangjian1234</th>\n",
              "      <th>merchant_title_zhangxiaoyunyun</th>\n",
              "      <th>merchant_title_zhaodongmei</th>\n",
              "      <th>merchant_title_zhaojinghui</th>\n",
              "      <th>merchant_title_zhaowenxiang</th>\n",
              "      <th>merchant_title_zhaoyunyun</th>\n",
              "      <th>merchant_title_zhengruirong</th>\n",
              "      <th>merchant_title_zhenhaogouwuche</th>\n",
              "      <th>merchant_title_zhenyangongyequ7766</th>\n",
              "      <th>merchant_title_zhiceyang</th>\n",
              "      <th>merchant_title_zhihuigshop</th>\n",
              "      <th>merchant_title_zhishukuaile</th>\n",
              "      <th>merchant_title_zhongling695847</th>\n",
              "      <th>merchant_title_zhongminjun</th>\n",
              "      <th>merchant_title_zhongwenlili</th>\n",
              "      <th>merchant_title_zhouling1234</th>\n",
              "      <th>merchant_title_zhoulinglinga</th>\n",
              "      <th>merchant_title_zhoupingastore</th>\n",
              "      <th>merchant_title_zhouzhilong</th>\n",
              "      <th>merchant_title_zhuangxiuhuang</th>\n",
              "      <th>merchant_title_zhuangyuping1</th>\n",
              "      <th>merchant_title_zhuhongyushop</th>\n",
              "      <th>merchant_title_zjyuanhang.1</th>\n",
              "      <th>merchant_title_zktrade.co.ltd</th>\n",
              "      <th>merchant_title_zongxindianziyouxian gongsi</th>\n",
              "      <th>merchant_title_zoufei</th>\n",
              "      <th>merchant_title_zoushoujintmiao</th>\n",
              "      <th>merchant_title_zufanqiudinli</th>\n",
              "      <th>merchant_title_zuilangmanDS</th>\n",
              "      <th>merchant_title_zzbllss</th>\n",
              "    </tr>\n",
              "  </thead>\n",
              "  <tbody>\n",
              "    <tr>\n",
              "      <th>0</th>\n",
              "      <td>0.250000</td>\n",
              "      <td>0.023952</td>\n",
              "      <td>0.000070</td>\n",
              "      <td>1.0</td>\n",
              "      <td>0.000000</td>\n",
              "      <td>0.0</td>\n",
              "      <td>0.0</td>\n",
              "      <td>0.0</td>\n",
              "      <td>0.0</td>\n",
              "      <td>0.081633</td>\n",
              "      <td>0.166667</td>\n",
              "      <td>0.0</td>\n",
              "      <td>0.992537</td>\n",
              "      <td>1.0</td>\n",
              "      <td>0.0</td>\n",
              "      <td>0.000004</td>\n",
              "      <td>0.000000</td>\n",
              "      <td>0.0</td>\n",
              "      <td>0.0</td>\n",
              "      <td>0.0</td>\n",
              "      <td>0.40</td>\n",
              "      <td>0.0</td>\n",
              "      <td>0.0</td>\n",
              "      <td>0.0</td>\n",
              "      <td>0.0</td>\n",
              "      <td>0.0</td>\n",
              "      <td>0.0</td>\n",
              "      <td>0.0</td>\n",
              "      <td>0.0</td>\n",
              "      <td>0.0</td>\n",
              "      <td>0.0</td>\n",
              "      <td>0.0</td>\n",
              "      <td>0.0</td>\n",
              "      <td>1.0</td>\n",
              "      <td>0.0</td>\n",
              "      <td>0.0</td>\n",
              "      <td>0.0</td>\n",
              "      <td>0.0</td>\n",
              "      <td>1.0</td>\n",
              "      <td>0.0</td>\n",
              "      <td>...</td>\n",
              "      <td>0.0</td>\n",
              "      <td>0.0</td>\n",
              "      <td>0.0</td>\n",
              "      <td>0.0</td>\n",
              "      <td>0.0</td>\n",
              "      <td>0.0</td>\n",
              "      <td>0.0</td>\n",
              "      <td>0.0</td>\n",
              "      <td>0.0</td>\n",
              "      <td>0.0</td>\n",
              "      <td>0.0</td>\n",
              "      <td>0.0</td>\n",
              "      <td>0.0</td>\n",
              "      <td>0.0</td>\n",
              "      <td>0.0</td>\n",
              "      <td>0.0</td>\n",
              "      <td>0.0</td>\n",
              "      <td>0.0</td>\n",
              "      <td>0.0</td>\n",
              "      <td>0.0</td>\n",
              "      <td>0.0</td>\n",
              "      <td>0.0</td>\n",
              "      <td>0.0</td>\n",
              "      <td>0.0</td>\n",
              "      <td>0.0</td>\n",
              "      <td>0.0</td>\n",
              "      <td>0.0</td>\n",
              "      <td>0.0</td>\n",
              "      <td>0.0</td>\n",
              "      <td>0.0</td>\n",
              "      <td>0.0</td>\n",
              "      <td>0.0</td>\n",
              "      <td>0.0</td>\n",
              "      <td>0.0</td>\n",
              "      <td>0.0</td>\n",
              "      <td>0.0</td>\n",
              "      <td>0.0</td>\n",
              "      <td>0.0</td>\n",
              "      <td>0.0</td>\n",
              "      <td>0.0</td>\n",
              "    </tr>\n",
              "    <tr>\n",
              "      <th>1</th>\n",
              "      <td>0.315789</td>\n",
              "      <td>0.035928</td>\n",
              "      <td>0.049971</td>\n",
              "      <td>0.0</td>\n",
              "      <td>0.032202</td>\n",
              "      <td>0.0</td>\n",
              "      <td>0.0</td>\n",
              "      <td>0.0</td>\n",
              "      <td>0.0</td>\n",
              "      <td>1.000000</td>\n",
              "      <td>0.166667</td>\n",
              "      <td>0.0</td>\n",
              "      <td>0.186567</td>\n",
              "      <td>1.0</td>\n",
              "      <td>0.0</td>\n",
              "      <td>0.005016</td>\n",
              "      <td>0.646897</td>\n",
              "      <td>0.0</td>\n",
              "      <td>0.5</td>\n",
              "      <td>1.0</td>\n",
              "      <td>0.52</td>\n",
              "      <td>0.0</td>\n",
              "      <td>0.0</td>\n",
              "      <td>1.0</td>\n",
              "      <td>0.0</td>\n",
              "      <td>0.0</td>\n",
              "      <td>0.0</td>\n",
              "      <td>0.0</td>\n",
              "      <td>0.0</td>\n",
              "      <td>0.0</td>\n",
              "      <td>0.0</td>\n",
              "      <td>0.0</td>\n",
              "      <td>0.0</td>\n",
              "      <td>0.0</td>\n",
              "      <td>0.0</td>\n",
              "      <td>0.0</td>\n",
              "      <td>0.0</td>\n",
              "      <td>0.0</td>\n",
              "      <td>1.0</td>\n",
              "      <td>0.0</td>\n",
              "      <td>...</td>\n",
              "      <td>0.0</td>\n",
              "      <td>0.0</td>\n",
              "      <td>0.0</td>\n",
              "      <td>0.0</td>\n",
              "      <td>0.0</td>\n",
              "      <td>0.0</td>\n",
              "      <td>0.0</td>\n",
              "      <td>0.0</td>\n",
              "      <td>0.0</td>\n",
              "      <td>0.0</td>\n",
              "      <td>0.0</td>\n",
              "      <td>0.0</td>\n",
              "      <td>0.0</td>\n",
              "      <td>0.0</td>\n",
              "      <td>0.0</td>\n",
              "      <td>0.0</td>\n",
              "      <td>0.0</td>\n",
              "      <td>0.0</td>\n",
              "      <td>0.0</td>\n",
              "      <td>0.0</td>\n",
              "      <td>0.0</td>\n",
              "      <td>0.0</td>\n",
              "      <td>0.0</td>\n",
              "      <td>0.0</td>\n",
              "      <td>0.0</td>\n",
              "      <td>0.0</td>\n",
              "      <td>0.0</td>\n",
              "      <td>0.0</td>\n",
              "      <td>0.0</td>\n",
              "      <td>0.0</td>\n",
              "      <td>0.0</td>\n",
              "      <td>0.0</td>\n",
              "      <td>0.0</td>\n",
              "      <td>0.0</td>\n",
              "      <td>0.0</td>\n",
              "      <td>0.0</td>\n",
              "      <td>0.0</td>\n",
              "      <td>0.0</td>\n",
              "      <td>0.0</td>\n",
              "      <td>0.0</td>\n",
              "    </tr>\n",
              "    <tr>\n",
              "      <th>2</th>\n",
              "      <td>0.210526</td>\n",
              "      <td>0.089820</td>\n",
              "      <td>0.009970</td>\n",
              "      <td>1.0</td>\n",
              "      <td>0.003448</td>\n",
              "      <td>0.0</td>\n",
              "      <td>0.0</td>\n",
              "      <td>0.0</td>\n",
              "      <td>0.0</td>\n",
              "      <td>0.387755</td>\n",
              "      <td>0.166667</td>\n",
              "      <td>0.0</td>\n",
              "      <td>0.261194</td>\n",
              "      <td>1.0</td>\n",
              "      <td>0.0</td>\n",
              "      <td>0.012503</td>\n",
              "      <td>0.635963</td>\n",
              "      <td>0.0</td>\n",
              "      <td>1.0</td>\n",
              "      <td>0.5</td>\n",
              "      <td>0.44</td>\n",
              "      <td>0.0</td>\n",
              "      <td>0.0</td>\n",
              "      <td>0.0</td>\n",
              "      <td>1.0</td>\n",
              "      <td>0.0</td>\n",
              "      <td>0.0</td>\n",
              "      <td>0.0</td>\n",
              "      <td>0.0</td>\n",
              "      <td>0.0</td>\n",
              "      <td>0.0</td>\n",
              "      <td>0.0</td>\n",
              "      <td>0.0</td>\n",
              "      <td>0.0</td>\n",
              "      <td>0.0</td>\n",
              "      <td>0.0</td>\n",
              "      <td>0.0</td>\n",
              "      <td>0.0</td>\n",
              "      <td>1.0</td>\n",
              "      <td>0.0</td>\n",
              "      <td>...</td>\n",
              "      <td>0.0</td>\n",
              "      <td>0.0</td>\n",
              "      <td>0.0</td>\n",
              "      <td>0.0</td>\n",
              "      <td>0.0</td>\n",
              "      <td>0.0</td>\n",
              "      <td>0.0</td>\n",
              "      <td>0.0</td>\n",
              "      <td>0.0</td>\n",
              "      <td>0.0</td>\n",
              "      <td>0.0</td>\n",
              "      <td>0.0</td>\n",
              "      <td>0.0</td>\n",
              "      <td>0.0</td>\n",
              "      <td>0.0</td>\n",
              "      <td>0.0</td>\n",
              "      <td>0.0</td>\n",
              "      <td>0.0</td>\n",
              "      <td>0.0</td>\n",
              "      <td>0.0</td>\n",
              "      <td>0.0</td>\n",
              "      <td>0.0</td>\n",
              "      <td>0.0</td>\n",
              "      <td>0.0</td>\n",
              "      <td>0.0</td>\n",
              "      <td>0.0</td>\n",
              "      <td>0.0</td>\n",
              "      <td>0.0</td>\n",
              "      <td>0.0</td>\n",
              "      <td>0.0</td>\n",
              "      <td>0.0</td>\n",
              "      <td>0.0</td>\n",
              "      <td>0.0</td>\n",
              "      <td>0.0</td>\n",
              "      <td>0.0</td>\n",
              "      <td>0.0</td>\n",
              "      <td>0.0</td>\n",
              "      <td>0.0</td>\n",
              "      <td>0.0</td>\n",
              "      <td>0.0</td>\n",
              "    </tr>\n",
              "    <tr>\n",
              "      <th>3</th>\n",
              "      <td>0.894737</td>\n",
              "      <td>0.155689</td>\n",
              "      <td>0.049971</td>\n",
              "      <td>1.0</td>\n",
              "      <td>0.105840</td>\n",
              "      <td>0.0</td>\n",
              "      <td>0.0</td>\n",
              "      <td>0.0</td>\n",
              "      <td>0.0</td>\n",
              "      <td>1.000000</td>\n",
              "      <td>0.666667</td>\n",
              "      <td>0.0</td>\n",
              "      <td>0.268657</td>\n",
              "      <td>1.0</td>\n",
              "      <td>0.0</td>\n",
              "      <td>0.018878</td>\n",
              "      <td>0.644844</td>\n",
              "      <td>0.0</td>\n",
              "      <td>1.0</td>\n",
              "      <td>0.5</td>\n",
              "      <td>0.36</td>\n",
              "      <td>0.0</td>\n",
              "      <td>0.0</td>\n",
              "      <td>0.0</td>\n",
              "      <td>1.0</td>\n",
              "      <td>0.0</td>\n",
              "      <td>0.0</td>\n",
              "      <td>0.0</td>\n",
              "      <td>0.0</td>\n",
              "      <td>0.0</td>\n",
              "      <td>0.0</td>\n",
              "      <td>0.0</td>\n",
              "      <td>0.0</td>\n",
              "      <td>0.0</td>\n",
              "      <td>0.0</td>\n",
              "      <td>0.0</td>\n",
              "      <td>1.0</td>\n",
              "      <td>0.0</td>\n",
              "      <td>0.0</td>\n",
              "      <td>0.0</td>\n",
              "      <td>...</td>\n",
              "      <td>0.0</td>\n",
              "      <td>0.0</td>\n",
              "      <td>0.0</td>\n",
              "      <td>0.0</td>\n",
              "      <td>0.0</td>\n",
              "      <td>0.0</td>\n",
              "      <td>0.0</td>\n",
              "      <td>0.0</td>\n",
              "      <td>0.0</td>\n",
              "      <td>0.0</td>\n",
              "      <td>0.0</td>\n",
              "      <td>0.0</td>\n",
              "      <td>0.0</td>\n",
              "      <td>0.0</td>\n",
              "      <td>0.0</td>\n",
              "      <td>0.0</td>\n",
              "      <td>0.0</td>\n",
              "      <td>0.0</td>\n",
              "      <td>0.0</td>\n",
              "      <td>0.0</td>\n",
              "      <td>0.0</td>\n",
              "      <td>0.0</td>\n",
              "      <td>0.0</td>\n",
              "      <td>0.0</td>\n",
              "      <td>0.0</td>\n",
              "      <td>0.0</td>\n",
              "      <td>0.0</td>\n",
              "      <td>0.0</td>\n",
              "      <td>0.0</td>\n",
              "      <td>0.0</td>\n",
              "      <td>0.0</td>\n",
              "      <td>0.0</td>\n",
              "      <td>0.0</td>\n",
              "      <td>0.0</td>\n",
              "      <td>0.0</td>\n",
              "      <td>0.0</td>\n",
              "      <td>0.0</td>\n",
              "      <td>0.0</td>\n",
              "      <td>0.0</td>\n",
              "      <td>0.0</td>\n",
              "    </tr>\n",
              "    <tr>\n",
              "      <th>4</th>\n",
              "      <td>0.578947</td>\n",
              "      <td>0.479042</td>\n",
              "      <td>0.199976</td>\n",
              "      <td>0.0</td>\n",
              "      <td>0.100056</td>\n",
              "      <td>0.0</td>\n",
              "      <td>0.0</td>\n",
              "      <td>0.0</td>\n",
              "      <td>0.0</td>\n",
              "      <td>1.000000</td>\n",
              "      <td>0.333333</td>\n",
              "      <td>0.0</td>\n",
              "      <td>0.238806</td>\n",
              "      <td>1.0</td>\n",
              "      <td>0.0</td>\n",
              "      <td>0.180875</td>\n",
              "      <td>0.672970</td>\n",
              "      <td>0.0</td>\n",
              "      <td>1.0</td>\n",
              "      <td>0.5</td>\n",
              "      <td>0.16</td>\n",
              "      <td>0.0</td>\n",
              "      <td>0.0</td>\n",
              "      <td>0.0</td>\n",
              "      <td>0.0</td>\n",
              "      <td>0.0</td>\n",
              "      <td>0.0</td>\n",
              "      <td>0.0</td>\n",
              "      <td>0.0</td>\n",
              "      <td>0.0</td>\n",
              "      <td>0.0</td>\n",
              "      <td>0.0</td>\n",
              "      <td>0.0</td>\n",
              "      <td>1.0</td>\n",
              "      <td>0.0</td>\n",
              "      <td>0.0</td>\n",
              "      <td>1.0</td>\n",
              "      <td>0.0</td>\n",
              "      <td>0.0</td>\n",
              "      <td>0.0</td>\n",
              "      <td>...</td>\n",
              "      <td>0.0</td>\n",
              "      <td>0.0</td>\n",
              "      <td>0.0</td>\n",
              "      <td>0.0</td>\n",
              "      <td>0.0</td>\n",
              "      <td>0.0</td>\n",
              "      <td>0.0</td>\n",
              "      <td>0.0</td>\n",
              "      <td>0.0</td>\n",
              "      <td>0.0</td>\n",
              "      <td>0.0</td>\n",
              "      <td>0.0</td>\n",
              "      <td>0.0</td>\n",
              "      <td>0.0</td>\n",
              "      <td>0.0</td>\n",
              "      <td>0.0</td>\n",
              "      <td>0.0</td>\n",
              "      <td>0.0</td>\n",
              "      <td>0.0</td>\n",
              "      <td>0.0</td>\n",
              "      <td>0.0</td>\n",
              "      <td>0.0</td>\n",
              "      <td>0.0</td>\n",
              "      <td>0.0</td>\n",
              "      <td>0.0</td>\n",
              "      <td>0.0</td>\n",
              "      <td>0.0</td>\n",
              "      <td>0.0</td>\n",
              "      <td>0.0</td>\n",
              "      <td>0.0</td>\n",
              "      <td>0.0</td>\n",
              "      <td>0.0</td>\n",
              "      <td>0.0</td>\n",
              "      <td>0.0</td>\n",
              "      <td>0.0</td>\n",
              "      <td>0.0</td>\n",
              "      <td>0.0</td>\n",
              "      <td>0.0</td>\n",
              "      <td>0.0</td>\n",
              "      <td>0.0</td>\n",
              "    </tr>\n",
              "  </tbody>\n",
              "</table>\n",
              "<p>5 rows × 997 columns</p>\n",
              "</div>\n",
              "      <button class=\"colab-df-convert\" onclick=\"convertToInteractive('df-087d5826-a800-4b1d-b41c-ffcebca0e9b4')\"\n",
              "              title=\"Convert this dataframe to an interactive table.\"\n",
              "              style=\"display:none;\">\n",
              "        \n",
              "  <svg xmlns=\"http://www.w3.org/2000/svg\" height=\"24px\"viewBox=\"0 0 24 24\"\n",
              "       width=\"24px\">\n",
              "    <path d=\"M0 0h24v24H0V0z\" fill=\"none\"/>\n",
              "    <path d=\"M18.56 5.44l.94 2.06.94-2.06 2.06-.94-2.06-.94-.94-2.06-.94 2.06-2.06.94zm-11 1L8.5 8.5l.94-2.06 2.06-.94-2.06-.94L8.5 2.5l-.94 2.06-2.06.94zm10 10l.94 2.06.94-2.06 2.06-.94-2.06-.94-.94-2.06-.94 2.06-2.06.94z\"/><path d=\"M17.41 7.96l-1.37-1.37c-.4-.4-.92-.59-1.43-.59-.52 0-1.04.2-1.43.59L10.3 9.45l-7.72 7.72c-.78.78-.78 2.05 0 2.83L4 21.41c.39.39.9.59 1.41.59.51 0 1.02-.2 1.41-.59l7.78-7.78 2.81-2.81c.8-.78.8-2.07 0-2.86zM5.41 20L4 18.59l7.72-7.72 1.47 1.35L5.41 20z\"/>\n",
              "  </svg>\n",
              "      </button>\n",
              "      \n",
              "  <style>\n",
              "    .colab-df-container {\n",
              "      display:flex;\n",
              "      flex-wrap:wrap;\n",
              "      gap: 12px;\n",
              "    }\n",
              "\n",
              "    .colab-df-convert {\n",
              "      background-color: #E8F0FE;\n",
              "      border: none;\n",
              "      border-radius: 50%;\n",
              "      cursor: pointer;\n",
              "      display: none;\n",
              "      fill: #1967D2;\n",
              "      height: 32px;\n",
              "      padding: 0 0 0 0;\n",
              "      width: 32px;\n",
              "    }\n",
              "\n",
              "    .colab-df-convert:hover {\n",
              "      background-color: #E2EBFA;\n",
              "      box-shadow: 0px 1px 2px rgba(60, 64, 67, 0.3), 0px 1px 3px 1px rgba(60, 64, 67, 0.15);\n",
              "      fill: #174EA6;\n",
              "    }\n",
              "\n",
              "    [theme=dark] .colab-df-convert {\n",
              "      background-color: #3B4455;\n",
              "      fill: #D2E3FC;\n",
              "    }\n",
              "\n",
              "    [theme=dark] .colab-df-convert:hover {\n",
              "      background-color: #434B5C;\n",
              "      box-shadow: 0px 1px 3px 1px rgba(0, 0, 0, 0.15);\n",
              "      filter: drop-shadow(0px 1px 2px rgba(0, 0, 0, 0.3));\n",
              "      fill: #FFFFFF;\n",
              "    }\n",
              "  </style>\n",
              "\n",
              "      <script>\n",
              "        const buttonEl =\n",
              "          document.querySelector('#df-087d5826-a800-4b1d-b41c-ffcebca0e9b4 button.colab-df-convert');\n",
              "        buttonEl.style.display =\n",
              "          google.colab.kernel.accessAllowed ? 'block' : 'none';\n",
              "\n",
              "        async function convertToInteractive(key) {\n",
              "          const element = document.querySelector('#df-087d5826-a800-4b1d-b41c-ffcebca0e9b4');\n",
              "          const dataTable =\n",
              "            await google.colab.kernel.invokeFunction('convertToInteractive',\n",
              "                                                     [key], {});\n",
              "          if (!dataTable) return;\n",
              "\n",
              "          const docLinkHtml = 'Like what you see? Visit the ' +\n",
              "            '<a target=\"_blank\" href=https://colab.research.google.com/notebooks/data_table.ipynb>data table notebook</a>'\n",
              "            + ' to learn more about interactive tables.';\n",
              "          element.innerHTML = '';\n",
              "          dataTable['output_type'] = 'display_data';\n",
              "          await google.colab.output.renderOutput(dataTable, element);\n",
              "          const docLink = document.createElement('div');\n",
              "          docLink.innerHTML = docLinkHtml;\n",
              "          element.appendChild(docLink);\n",
              "        }\n",
              "      </script>\n",
              "    </div>\n",
              "  </div>\n",
              "  "
            ],
            "text/plain": [
              "      price  retail_price  ...  merchant_title_zuilangmanDS  merchant_title_zzbllss\n",
              "0  0.250000      0.023952  ...                          0.0                     0.0\n",
              "1  0.315789      0.035928  ...                          0.0                     0.0\n",
              "2  0.210526      0.089820  ...                          0.0                     0.0\n",
              "3  0.894737      0.155689  ...                          0.0                     0.0\n",
              "4  0.578947      0.479042  ...                          0.0                     0.0\n",
              "\n",
              "[5 rows x 997 columns]"
            ]
          },
          "metadata": {},
          "execution_count": 106
        }
      ]
    },
    {
      "cell_type": "markdown",
      "source": [
        "## 3.6 Cross_validation train-test-**split**"
      ],
      "metadata": {
        "id": "GGWd3T9L_VLu"
      }
    },
    {
      "cell_type": "code",
      "execution_count": 107,
      "metadata": {
        "id": "TwKafekdmsBa"
      },
      "outputs": [],
      "source": [
        "X_train=data_normalized\n",
        "Y_train=train_data[['rating']].astype(float)\n",
        "\n",
        "# In the first step we will split the data in training and testing dataset\n",
        "\n",
        "x_train, x_test, y_train, y_test = train_test_split(X_train,Y_train,stratify=Y_train, train_size=0.65)\n"
      ]
    },
    {
      "cell_type": "code",
      "execution_count": 108,
      "metadata": {
        "colab": {
          "base_uri": "https://localhost:8080/"
        },
        "id": "Xt4miVH7AhFf",
        "outputId": "ac11a443-b813-4da2-fd21-dbae8c5705dc"
      },
      "outputs": [
        {
          "output_type": "stream",
          "name": "stdout",
          "text": [
            "(711, 997) (383, 997) (711, 1) (383, 1)\n"
          ]
        }
      ],
      "source": [
        "print(x_train.shape,x_test.shape,y_train.shape,y_test.shape)"
      ]
    },
    {
      "cell_type": "markdown",
      "metadata": {
        "id": "zsF3iig7mQAn"
      },
      "source": [
        "# 4- Model Optimization"
      ]
    },
    {
      "cell_type": "markdown",
      "metadata": {
        "id": "qLuE7cYR_KYt"
      },
      "source": [
        "## Models Without GridSearch "
      ]
    },
    {
      "cell_type": "markdown",
      "metadata": {
        "id": "at0NYZpunWze"
      },
      "source": [
        "### 1 - Decision Tree (no Grid search)"
      ]
    },
    {
      "cell_type": "code",
      "execution_count": 136,
      "metadata": {
        "id": "t1aZbBrMmr-O",
        "colab": {
          "base_uri": "https://localhost:8080/"
        },
        "outputId": "0cecb7a2-37fa-458d-9034-8ebc770d3fbb"
      },
      "outputs": [
        {
          "output_type": "stream",
          "name": "stdout",
          "text": [
            "              precision    recall  f1-score   support\n",
            "\n",
            "         2.0       0.00      0.00      0.00         5\n",
            "         3.0       0.24      0.13      0.17        47\n",
            "         4.0       0.79      0.95      0.86       271\n",
            "         5.0       0.77      0.40      0.53        60\n",
            "\n",
            "    accuracy                           0.75       383\n",
            "   macro avg       0.45      0.37      0.39       383\n",
            "weighted avg       0.71      0.75      0.71       383\n",
            "\n",
            "0.713632245077358\n"
          ]
        }
      ],
      "source": [
        "from sklearn.tree import DecisionTreeClassifier \n",
        "from sklearn import tree\n",
        "clf = DecisionTreeClassifier(max_depth=10,criterion='entropy',max_features=997,min_samples_leaf=20) # you could try with GINI>> replace ('entropy') with ('gini') \n",
        "clf.fit(x_train, y_train) \n",
        "pred_test = clf.predict(x_test)\n",
        "\n",
        "from sklearn.metrics import classification_report,f1_score\n",
        "print(classification_report(y_test,pred_test))\n",
        "print(f1_score(y_test,pred_test,average='weighted'))\n"
      ]
    },
    {
      "cell_type": "markdown",
      "metadata": {
        "id": "U4Q1zVBontwt"
      },
      "source": [
        "### 2- SVM "
      ]
    },
    {
      "cell_type": "code",
      "execution_count": 110,
      "metadata": {
        "colab": {
          "base_uri": "https://localhost:8080/"
        },
        "id": "cr5xkzlMr-C9",
        "outputId": "b6588baf-c084-4aa9-f866-d5e25d11c713"
      },
      "outputs": [
        {
          "output_type": "stream",
          "name": "stdout",
          "text": [
            "              precision    recall  f1-score   support\n",
            "\n",
            "         2.0       1.00      0.40      0.57         5\n",
            "         3.0       0.37      0.32      0.34        47\n",
            "         4.0       0.78      0.85      0.81       271\n",
            "         5.0       0.42      0.30      0.35        60\n",
            "\n",
            "    accuracy                           0.69       383\n",
            "   macro avg       0.64      0.47      0.52       383\n",
            "weighted avg       0.67      0.69      0.68       383\n",
            "\n",
            "0.6795738910034101\n"
          ]
        }
      ],
      "source": [
        "from sklearn import svm \n",
        "linear_svc = svm.LinearSVC(C=10).fit(x_train, y_train)\n",
        "pred_test = linear_svc.predict(x_test)\n",
        "\n",
        "from sklearn.metrics import classification_report,f1_score\n",
        "print(classification_report(y_test,pred_test))\n",
        "print(f1_score(y_test,pred_test,average='weighted'))\n"
      ]
    },
    {
      "cell_type": "markdown",
      "metadata": {
        "id": "mWAqXLZSoCBK"
      },
      "source": [
        "### 3- Naive Bayes"
      ]
    },
    {
      "cell_type": "code",
      "execution_count": 111,
      "metadata": {
        "id": "nx82-q8BsYkW",
        "colab": {
          "base_uri": "https://localhost:8080/"
        },
        "outputId": "cf20440a-9fe2-4f4f-862d-fae7c599020d"
      },
      "outputs": [
        {
          "output_type": "stream",
          "name": "stdout",
          "text": [
            "              precision    recall  f1-score   support\n",
            "\n",
            "         2.0       0.00      0.00      0.00         5\n",
            "         3.0       0.00      0.00      0.00        47\n",
            "         4.0       0.71      1.00      0.83       271\n",
            "         5.0       0.00      0.00      0.00        60\n",
            "\n",
            "    accuracy                           0.71       383\n",
            "   macro avg       0.18      0.25      0.21       383\n",
            "weighted avg       0.50      0.71      0.59       383\n",
            "\n",
            "0.5863974257631287\n"
          ]
        }
      ],
      "source": [
        "from sklearn.naive_bayes import GaussianNB\n",
        "gnb = GaussianNB(var_smoothing=100,priors=[.03,.12,.7,.15])\n",
        "gnb.fit(x_train, y_train)\n",
        "pred_test = gnb.predict(x_test)\n",
        "print(classification_report(y_test,pred_test))\n",
        "print(f1_score(y_test,pred_test,average='weighted'))"
      ]
    },
    {
      "cell_type": "markdown",
      "metadata": {
        "id": "qc_5gQt5oSsl"
      },
      "source": [
        "### 4- Another models to enhance the performance"
      ]
    },
    {
      "cell_type": "markdown",
      "metadata": {
        "id": "9OBGxxu6oX3E"
      },
      "source": [
        "#### 4.1 AdaBoost Classifier with Decision Tree"
      ]
    },
    {
      "cell_type": "code",
      "execution_count": 112,
      "metadata": {
        "colab": {
          "base_uri": "https://localhost:8080/"
        },
        "id": "LunhcNSPtvz7",
        "outputId": "71543d3c-0f75-4eca-9307-fc16382588c5"
      },
      "outputs": [
        {
          "output_type": "stream",
          "name": "stdout",
          "text": [
            "0.7612962189014325\n",
            "              precision    recall  f1-score   support\n",
            "\n",
            "         2.0       0.60      0.60      0.60         5\n",
            "         3.0       0.50      0.28      0.36        47\n",
            "         4.0       0.81      0.93      0.87       271\n",
            "         5.0       0.74      0.53      0.62        60\n",
            "\n",
            "    accuracy                           0.78       383\n",
            "   macro avg       0.66      0.58      0.61       383\n",
            "weighted avg       0.76      0.78      0.76       383\n",
            "\n"
          ]
        }
      ],
      "source": [
        "classifier_ABC_DT = AdaBoostClassifier(DecisionTreeClassifier(max_depth=15,criterion='gini',max_features=700,min_samples_leaf=10),\n",
        "                                       n_estimators= 100, learning_rate = 0.08,algorithm='SAMME') \n",
        "classifier_ABC_DT.fit(x_train, y_train)\n",
        "pred_test = classifier_ABC_DT.predict(x_test)\n",
        "print(f1_score(y_test,pred_test,average='weighted'))\n",
        "print(classification_report(y_test,pred_test))"
      ]
    },
    {
      "cell_type": "markdown",
      "metadata": {
        "id": "1WjXNfL6o1oz"
      },
      "source": [
        "#### 4.2 AdaBoost with RandomForest"
      ]
    },
    {
      "cell_type": "code",
      "execution_count": 113,
      "metadata": {
        "colab": {
          "base_uri": "https://localhost:8080/"
        },
        "id": "FGIAKy02oh5r",
        "outputId": "6bbb6d7e-fffa-4417-ee5b-41d05ec8817a"
      },
      "outputs": [
        {
          "output_type": "stream",
          "name": "stdout",
          "text": [
            "0.7330978906045503\n",
            "              precision    recall  f1-score   support\n",
            "\n",
            "         2.0       1.00      0.60      0.75         5\n",
            "         3.0       0.82      0.19      0.31        47\n",
            "         4.0       0.77      0.97      0.86       271\n",
            "         5.0       0.75      0.35      0.48        60\n",
            "\n",
            "    accuracy                           0.78       383\n",
            "   macro avg       0.84      0.53      0.60       383\n",
            "weighted avg       0.78      0.78      0.73       383\n",
            "\n"
          ]
        }
      ],
      "source": [
        "classifier_ABC_RF = AdaBoostClassifier(RandomForestClassifier(),algorithm= 'SAMME',\n",
        "                                       learning_rate= 0.082,n_estimators= 100)\n",
        "classifier_ABC_RF.fit(x_train, y_train)\n",
        "pred_test = classifier_ABC_RF.predict(x_test)\n",
        "\n",
        "print(f1_score(y_test,pred_test,average='weighted'))\n",
        "print(classification_report(y_test,pred_test))"
      ]
    },
    {
      "cell_type": "markdown",
      "source": [
        "##### 4.2.2 **Warning** . It takes much time to run."
      ],
      "metadata": {
        "id": "lbz9c3IOdjk9"
      }
    },
    {
      "cell_type": "code",
      "execution_count": null,
      "metadata": {
        "id": "G5x_qd-ltKVz"
      },
      "outputs": [],
      "source": [
        "# Adaboost CROSS VALIDATED\n",
        "kfold = KFold(n_splits=5)\n",
        "\n",
        "AdaBoostClassifier_parameters ={ \"n_estimators\": [75,85,100],\n",
        "                                 'learning_rate':np.arange(0.001,0.1,.009),\n",
        "                                 'algorithm': ['SAMME']}  #all parameters should be in array brackets\n",
        "                                 \n",
        "classifier_ABC_RF_CV = AdaBoostClassifier(base_estimator=RandomForestClassifier(),n_estimators= 75, learning_rate = 0.07,algorithm='SAMME') \n",
        "\n",
        "grid_search =GridSearchCV(classifier_ABC_RF_CV,\n",
        "                          param_grid = AdaBoostClassifier_parameters,\n",
        "                          scoring = 'f1_weighted',\n",
        "                          cv = 5,\n",
        "                          verbose=0,\n",
        "                          n_jobs=-1)\n",
        " \n",
        "grid_search.fit(x_train,np.ravel(y_train)) # train the model\n",
        "pred_test= grid_search.predict(x_test)\n",
        "\n",
        "print(f1_score(y_test,pred_test,average='weighted'))\n",
        "print(classification_report(y_test,pred_test))\n",
        "print(grid_search.best_params_)"
      ]
    },
    {
      "cell_type": "markdown",
      "metadata": {
        "id": "_wsM_ZDEo-pr"
      },
      "source": [
        "#### 4.3 XG Boost "
      ]
    },
    {
      "cell_type": "code",
      "execution_count": 114,
      "metadata": {
        "id": "SZ9zXnE73zlJ",
        "colab": {
          "base_uri": "https://localhost:8080/"
        },
        "outputId": "b50041c2-5d17-4e9d-f1b7-ec6eee127b87"
      },
      "outputs": [
        {
          "output_type": "stream",
          "name": "stdout",
          "text": [
            "0.75942433941555\n",
            "              precision    recall  f1-score   support\n",
            "\n",
            "         2.0       0.60      0.60      0.60         5\n",
            "         3.0       0.48      0.23      0.31        47\n",
            "         4.0       0.81      0.94      0.87       271\n",
            "         5.0       0.76      0.52      0.61        60\n",
            "\n",
            "    accuracy                           0.78       383\n",
            "   macro avg       0.66      0.57      0.60       383\n",
            "weighted avg       0.76      0.78      0.76       383\n",
            "\n"
          ]
        }
      ],
      "source": [
        "classifier_XGBC = GradientBoostingClassifier(n_estimators= 120,max_depth=15,max_features=700,min_samples_leaf=10)\n",
        "classifier_XGBC.fit(x_train, np.ravel(y_train))\n",
        "pred_test = classifier_XGBC.predict(x_test)\n",
        "\n",
        "print(f1_score(y_test,pred_test,average='weighted'))\n",
        "print(classification_report(y_test,pred_test))"
      ]
    },
    {
      "cell_type": "markdown",
      "metadata": {
        "id": "Xzg1R35Kplcs"
      },
      "source": [
        "#### 4.4 Neural Network"
      ]
    },
    {
      "cell_type": "code",
      "execution_count": 115,
      "metadata": {
        "colab": {
          "base_uri": "https://localhost:8080/"
        },
        "id": "zRb8ocI55aZZ",
        "outputId": "7c292611-dde0-4e74-dd0d-d577948d423b"
      },
      "outputs": [
        {
          "output_type": "stream",
          "name": "stdout",
          "text": [
            "0.6655138921093591\n",
            "              precision    recall  f1-score   support\n",
            "\n",
            "         2.0       1.00      0.60      0.75         5\n",
            "         3.0       0.28      0.28      0.28        47\n",
            "         4.0       0.78      0.79      0.78       271\n",
            "         5.0       0.43      0.43      0.43        60\n",
            "\n",
            "    accuracy                           0.67       383\n",
            "   macro avg       0.62      0.52      0.56       383\n",
            "weighted avg       0.67      0.67      0.67       383\n",
            "\n"
          ]
        }
      ],
      "source": [
        "from sklearn.neural_network import MLPClassifier\n",
        "\n",
        "classifier_neural_MLP = MLPClassifier(random_state=42)\n",
        "classifier_neural_MLP.fit(x_train,np.ravel(y_train))\n",
        "pred_test = classifier_neural_MLP.predict(x_test)\n",
        "\n",
        "print(f1_score(y_test,pred_test,average='weighted'))\n",
        "print(classification_report(y_test,pred_test))"
      ]
    },
    {
      "cell_type": "markdown",
      "metadata": {
        "id": "9znVSJw8p1Q9"
      },
      "source": [
        "#### 4.5 Random Forest "
      ]
    },
    {
      "cell_type": "code",
      "execution_count": 116,
      "metadata": {
        "colab": {
          "base_uri": "https://localhost:8080/"
        },
        "id": "URRE56i-6Ti5",
        "outputId": "990d35ca-e6eb-45d9-9492-121e41574c53"
      },
      "outputs": [
        {
          "output_type": "stream",
          "name": "stdout",
          "text": [
            "0.7225577849730023\n",
            "              precision    recall  f1-score   support\n",
            "\n",
            "         2.0       1.00      0.00      0.00         5\n",
            "         3.0       0.38      0.06      0.11        47\n",
            "         4.0       0.79      0.97      0.87       271\n",
            "         5.0       0.72      0.52      0.60        60\n",
            "\n",
            "    accuracy                           0.77       383\n",
            "   macro avg       0.72      0.39      0.40       383\n",
            "weighted avg       0.73      0.77      0.72       383\n",
            "\n"
          ]
        }
      ],
      "source": [
        "# Random forest NOT cross validated\n",
        "classifier_RFC = RandomForestClassifier(n_estimators= 120,max_depth=15,max_features=700,min_samples_leaf=10)\n",
        "classifier_RFC.fit(x_train,np.ravel(y_train))\n",
        "pred_test = classifier_RFC.predict(x_test)\n",
        "\n",
        "print(f1_score(y_test,pred_test,average='weighted'))\n",
        "print(classification_report(y_test,pred_test,zero_division=1))"
      ]
    },
    {
      "cell_type": "markdown",
      "metadata": {
        "id": "A9UbqtbjNtO8"
      },
      "source": [
        "## Using Grid Search / Tuning Hyperparameters\n",
        "* Decision Tree \n",
        "* Naive Bayes \n",
        "* SVM"
      ]
    },
    {
      "cell_type": "markdown",
      "source": [
        "**Warning** .\n",
        "\n",
        "It takes much much time .\n",
        "About 120 seconds"
      ],
      "metadata": {
        "id": "4ZYb-4rbhdtg"
      }
    },
    {
      "cell_type": "code",
      "execution_count": 55,
      "metadata": {
        "id": "8TKnRGWvNyh1"
      },
      "outputs": [],
      "source": [
        "                  ## logistic regression parameters  \n",
        "# LR_parameters = [{'penalty':['l1','l2'], \n",
        "#                  'C':[1,1e2, 1e3,1e5],  \n",
        "#                  'max_iter':[100,1000,10000]}]\n",
        "                  \n",
        "                  ## SVC parameters  \n",
        "SVC_parameters = [{\"C\": [ 1e-1,1e0,1e1,1e2],\n",
        "                   'kernel': ['linear','poly','rbf']}]\n",
        "                 \n",
        "                  ## decision tree parameters \n",
        "DT_parameters = [{'max_features' : [100, 300,500,700],\n",
        "                 'max_depth' : [6,8,10,12,15,20],\n",
        "                  'min_samples_leaf' : [10,15,20]}]\n",
        "                 \n",
        "                  ## Naive bayes  parameters \n",
        "NB_parameters = [{'var_smoothing': np.logspace(2,-6, num=100),\n",
        "                  'priors': [[.03,.12,.7,.15],\n",
        "                             [.03,.17,.6,.20],\n",
        "                             [.08,.17,.6,.15]]\n",
        "                }]\n",
        "\n",
        "                   ## KNN  parameters \n",
        "                 \n",
        "# KNN_parameters =[{'n_neighbors':np.arange(1,5),  'weights':['uniform','distance'],\n",
        "#              'metric':['euclidean','manhattan'],\n",
        "#              'p':[1,2]}]              \n",
        "#                 #AdaBoost\n",
        "# AdaBoostClassifier_parameters =[{'base_estimator' : RandomForestClassifier(),\n",
        "#                                  'n_estimators'   : [30,50,75,85,100,120],\n",
        "#                                  'learning_rate' :np.arange(0.001,0.5,.004),\n",
        "#                                  'algorithm' : 'SAMME'}] \n",
        "            "
      ]
    },
    {
      "cell_type": "code",
      "execution_count": 56,
      "metadata": {
        "id": "TP5wre9YN0Pp"
      },
      "outputs": [],
      "source": [
        "# Add the models to the list that you want to view on the ROC plot\n",
        "models = [\n",
        "{\n",
        "    'label': 'Decision tree',\n",
        "    'model': DecisionTreeClassifier(),\n",
        "    'parameters' : DT_parameters\n",
        "},\n",
        "{\n",
        "    'label': 'Naive bayes',\n",
        "    'model':  GaussianNB(),\n",
        "    'parameters' : NB_parameters\n",
        "},{\n",
        "    'label': 'SVM',\n",
        "    'model': SVC(probability=False),\n",
        "    'parameters' : SVC_parameters,\n",
        "}]\n",
        "\n"
      ]
    },
    {
      "cell_type": "code",
      "execution_count": 57,
      "metadata": {
        "id": "9haLUUfbN2sg",
        "colab": {
          "base_uri": "https://localhost:8080/"
        },
        "outputId": "39a3b02f-85d1-4b63-ca7a-7524c3d7db42"
      },
      "outputs": [
        {
          "output_type": "stream",
          "name": "stdout",
          "text": [
            "classification report for DecisionTreeClassifier() \n",
            " with best parameters{'max_depth': 6, 'max_features': 700, 'min_samples_leaf': 10} \n",
            "0.7478888581826482\n",
            "classification report for GaussianNB() \n",
            " with best parameters{'priors': [0.03, 0.17, 0.6, 0.2], 'var_smoothing': 1.1497569953977356} \n",
            "0.597944189516234\n",
            "classification report for SVC() \n",
            " with best parameters{'C': 10.0, 'kernel': 'rbf'} \n",
            "0.7038911266477117\n",
            "Seconds  141.46427178382874\n"
          ]
        }
      ],
      "source": [
        "import warnings\n",
        "warnings.filterwarnings('ignore')\n",
        "\n",
        "\n",
        "import time\n",
        "seconds = time.time()\n",
        "\n",
        "kfold = KFold(n_splits=10)\n",
        "\n",
        "\n",
        "f1=[]\n",
        "best_para=[]\n",
        "model_name=[]\n",
        "# Below for loop iterates through your models list\n",
        "for m in models:\n",
        "    # select the model\n",
        "    grid_search = GridSearchCV(estimator =  m['model'],  \n",
        "                               param_grid = m['parameters'],\n",
        "                               scoring = 'f1_weighted',\n",
        "                               cv = kfold,\n",
        "                               verbose=0,n_jobs=-1)\n",
        "      \n",
        "    grid_search.fit(x_train,y_train) # train the model\n",
        "    y_pred= grid_search.predict(x_test)\n",
        "\n",
        "    print('classification report for {} \\n with best parameters{} '.format(m['model'], grid_search.best_params_))\n",
        "    \n",
        "    print(f1_score(y_test,y_pred,average='weighted'))\n",
        "    f1.append(f1_score(y_test,y_pred,average='weighted'))\n",
        "    model_name.append(m['label'])\n",
        "    best_para.append(grid_search.best_params_)\n",
        "\n",
        "\n",
        "seconds2 = time.time()\n",
        "print(\"Seconds \", seconds2-seconds)\n"
      ]
    },
    {
      "cell_type": "markdown",
      "source": [
        "It is clear that Decision tree is the best among Them."
      ],
      "metadata": {
        "id": "cuuYD-bOkNeE"
      }
    },
    {
      "cell_type": "code",
      "execution_count": 58,
      "metadata": {
        "colab": {
          "base_uri": "https://localhost:8080/",
          "height": 143
        },
        "id": "ZbgJvuRAQ9tZ",
        "outputId": "3df7a08f-337e-404c-8a84-d7c98939ce38"
      },
      "outputs": [
        {
          "output_type": "execute_result",
          "data": {
            "text/html": [
              "\n",
              "  <div id=\"df-5a73fb57-5bdf-440d-a76f-526285bf64d6\">\n",
              "    <div class=\"colab-df-container\">\n",
              "      <div>\n",
              "<style scoped>\n",
              "    .dataframe tbody tr th:only-of-type {\n",
              "        vertical-align: middle;\n",
              "    }\n",
              "\n",
              "    .dataframe tbody tr th {\n",
              "        vertical-align: top;\n",
              "    }\n",
              "\n",
              "    .dataframe thead th {\n",
              "        text-align: right;\n",
              "    }\n",
              "</style>\n",
              "<table border=\"1\" class=\"dataframe\">\n",
              "  <thead>\n",
              "    <tr style=\"text-align: right;\">\n",
              "      <th></th>\n",
              "      <th>Model_name</th>\n",
              "      <th>F1</th>\n",
              "      <th>best parameters</th>\n",
              "    </tr>\n",
              "  </thead>\n",
              "  <tbody>\n",
              "    <tr>\n",
              "      <th>0</th>\n",
              "      <td>Decision tree</td>\n",
              "      <td>0.747889</td>\n",
              "      <td>{'max_depth': 6, 'max_features': 700, 'min_samples_leaf': 10}</td>\n",
              "    </tr>\n",
              "    <tr>\n",
              "      <th>1</th>\n",
              "      <td>Naive bayes</td>\n",
              "      <td>0.597944</td>\n",
              "      <td>{'priors': [0.03, 0.17, 0.6, 0.2], 'var_smoothing': 1.1497569953977356}</td>\n",
              "    </tr>\n",
              "    <tr>\n",
              "      <th>2</th>\n",
              "      <td>SVM</td>\n",
              "      <td>0.703891</td>\n",
              "      <td>{'C': 10.0, 'kernel': 'rbf'}</td>\n",
              "    </tr>\n",
              "  </tbody>\n",
              "</table>\n",
              "</div>\n",
              "      <button class=\"colab-df-convert\" onclick=\"convertToInteractive('df-5a73fb57-5bdf-440d-a76f-526285bf64d6')\"\n",
              "              title=\"Convert this dataframe to an interactive table.\"\n",
              "              style=\"display:none;\">\n",
              "        \n",
              "  <svg xmlns=\"http://www.w3.org/2000/svg\" height=\"24px\"viewBox=\"0 0 24 24\"\n",
              "       width=\"24px\">\n",
              "    <path d=\"M0 0h24v24H0V0z\" fill=\"none\"/>\n",
              "    <path d=\"M18.56 5.44l.94 2.06.94-2.06 2.06-.94-2.06-.94-.94-2.06-.94 2.06-2.06.94zm-11 1L8.5 8.5l.94-2.06 2.06-.94-2.06-.94L8.5 2.5l-.94 2.06-2.06.94zm10 10l.94 2.06.94-2.06 2.06-.94-2.06-.94-.94-2.06-.94 2.06-2.06.94z\"/><path d=\"M17.41 7.96l-1.37-1.37c-.4-.4-.92-.59-1.43-.59-.52 0-1.04.2-1.43.59L10.3 9.45l-7.72 7.72c-.78.78-.78 2.05 0 2.83L4 21.41c.39.39.9.59 1.41.59.51 0 1.02-.2 1.41-.59l7.78-7.78 2.81-2.81c.8-.78.8-2.07 0-2.86zM5.41 20L4 18.59l7.72-7.72 1.47 1.35L5.41 20z\"/>\n",
              "  </svg>\n",
              "      </button>\n",
              "      \n",
              "  <style>\n",
              "    .colab-df-container {\n",
              "      display:flex;\n",
              "      flex-wrap:wrap;\n",
              "      gap: 12px;\n",
              "    }\n",
              "\n",
              "    .colab-df-convert {\n",
              "      background-color: #E8F0FE;\n",
              "      border: none;\n",
              "      border-radius: 50%;\n",
              "      cursor: pointer;\n",
              "      display: none;\n",
              "      fill: #1967D2;\n",
              "      height: 32px;\n",
              "      padding: 0 0 0 0;\n",
              "      width: 32px;\n",
              "    }\n",
              "\n",
              "    .colab-df-convert:hover {\n",
              "      background-color: #E2EBFA;\n",
              "      box-shadow: 0px 1px 2px rgba(60, 64, 67, 0.3), 0px 1px 3px 1px rgba(60, 64, 67, 0.15);\n",
              "      fill: #174EA6;\n",
              "    }\n",
              "\n",
              "    [theme=dark] .colab-df-convert {\n",
              "      background-color: #3B4455;\n",
              "      fill: #D2E3FC;\n",
              "    }\n",
              "\n",
              "    [theme=dark] .colab-df-convert:hover {\n",
              "      background-color: #434B5C;\n",
              "      box-shadow: 0px 1px 3px 1px rgba(0, 0, 0, 0.15);\n",
              "      filter: drop-shadow(0px 1px 2px rgba(0, 0, 0, 0.3));\n",
              "      fill: #FFFFFF;\n",
              "    }\n",
              "  </style>\n",
              "\n",
              "      <script>\n",
              "        const buttonEl =\n",
              "          document.querySelector('#df-5a73fb57-5bdf-440d-a76f-526285bf64d6 button.colab-df-convert');\n",
              "        buttonEl.style.display =\n",
              "          google.colab.kernel.accessAllowed ? 'block' : 'none';\n",
              "\n",
              "        async function convertToInteractive(key) {\n",
              "          const element = document.querySelector('#df-5a73fb57-5bdf-440d-a76f-526285bf64d6');\n",
              "          const dataTable =\n",
              "            await google.colab.kernel.invokeFunction('convertToInteractive',\n",
              "                                                     [key], {});\n",
              "          if (!dataTable) return;\n",
              "\n",
              "          const docLinkHtml = 'Like what you see? Visit the ' +\n",
              "            '<a target=\"_blank\" href=https://colab.research.google.com/notebooks/data_table.ipynb>data table notebook</a>'\n",
              "            + ' to learn more about interactive tables.';\n",
              "          element.innerHTML = '';\n",
              "          dataTable['output_type'] = 'display_data';\n",
              "          await google.colab.output.renderOutput(dataTable, element);\n",
              "          const docLink = document.createElement('div');\n",
              "          docLink.innerHTML = docLinkHtml;\n",
              "          element.appendChild(docLink);\n",
              "        }\n",
              "      </script>\n",
              "    </div>\n",
              "  </div>\n",
              "  "
            ],
            "text/plain": [
              "      Model_name  ...                                                          best parameters\n",
              "0  Decision tree  ...            {'max_depth': 6, 'max_features': 700, 'min_samples_leaf': 10}\n",
              "1    Naive bayes  ...  {'priors': [0.03, 0.17, 0.6, 0.2], 'var_smoothing': 1.1497569953977356}\n",
              "2            SVM  ...                                             {'C': 10.0, 'kernel': 'rbf'}\n",
              "\n",
              "[3 rows x 3 columns]"
            ]
          },
          "metadata": {},
          "execution_count": 58
        }
      ],
      "source": [
        "pd.set_option('display.max_colwidth', None)\n",
        "\n",
        "Models=pd.DataFrame(list(zip(model_name,f1,best_para)),\n",
        "                    columns=['Model_name','F1','best parameters'])\n",
        "\n",
        "Models  "
      ]
    },
    {
      "cell_type": "markdown",
      "metadata": {
        "id": "iRW7I7DGN3zD"
      },
      "source": [
        "# 5- Final Result (Trials) :-\n",
        "* Predict rating for Walk_through.csv to be submitted on Kaggle"
      ]
    },
    {
      "cell_type": "markdown",
      "source": [
        "## Trial 0 \n",
        "We could try Naive bayes"
      ],
      "metadata": {
        "id": "yqb9VurEurWk"
      }
    },
    {
      "cell_type": "code",
      "execution_count": 118,
      "metadata": {
        "id": "g1LHKmUbKofd",
        "colab": {
          "base_uri": "https://localhost:8080/"
        },
        "outputId": "edfa2636-5793-448e-faef-77852aa6e203"
      },
      "outputs": [
        {
          "output_type": "stream",
          "name": "stdout",
          "text": [
            "479\n",
            "[4. 4. 4. 4. 4. 4. 4. 4. 4. 4. 4. 4. 4. 4. 4. 4. 4. 4. 4. 4. 4. 4. 4. 4.\n",
            " 4. 4. 4. 4. 4. 4. 4. 4. 4. 4. 4. 4. 4. 4. 4. 4. 4. 4. 4. 4. 4. 4. 4. 4.\n",
            " 4. 4. 4. 4. 4. 4. 4. 4. 4. 4. 4. 4. 4. 4. 4. 4. 4. 4. 4. 4. 4. 4. 4. 4.\n",
            " 4. 4. 4. 4. 4. 4. 4. 4. 4. 4. 4. 4. 4. 4. 4. 4. 4. 4. 4. 4. 4. 4. 4. 4.\n",
            " 4. 4. 4. 4. 4. 4. 4. 4. 4. 4. 4. 4. 4. 4. 4. 4. 4. 4. 4. 4. 4. 4. 4. 4.\n",
            " 4. 4. 4. 4. 4. 4. 4. 4. 4. 4. 4. 4. 4. 4. 4. 4. 4. 4. 4. 4. 4. 4. 4. 4.\n",
            " 4. 4. 4. 4. 4. 4. 4. 4. 4. 4. 4. 4. 4. 4. 4. 4. 4. 4. 4. 4. 4. 4. 4. 4.\n",
            " 4. 4. 4. 4. 4. 4. 4. 4. 4. 4. 4. 4. 4. 4. 4. 4. 4. 4. 4. 4. 4. 4. 4. 4.\n",
            " 4. 4. 4. 4. 4. 4. 4. 4. 4. 4. 4. 4. 4. 4. 4. 4. 4. 4. 4. 4. 4. 4. 4. 4.\n",
            " 4. 4. 4. 4. 4. 4. 4. 4. 4. 4. 4. 4. 4. 4. 4. 4. 4. 4. 4. 4. 4. 4. 4. 4.\n",
            " 4. 4. 4. 4. 4. 4. 4. 4. 4. 4. 4. 4. 4. 4. 4. 4. 4. 4. 4. 4. 4. 4. 4. 4.\n",
            " 4. 4. 4. 4. 4. 4. 4. 4. 4. 4. 4. 4. 4. 4. 4. 4. 4. 4. 4. 4. 4. 4. 4. 4.\n",
            " 4. 4. 4. 4. 4. 4. 4. 4. 4. 4. 4. 4. 4. 4. 4. 4. 4. 4. 4. 4. 4. 4. 4. 4.\n",
            " 4. 4. 4. 4. 4. 4. 4. 4. 4. 4. 4. 4. 4. 4. 4. 4. 4. 4. 4. 4. 4. 4. 4. 4.\n",
            " 4. 4. 4. 4. 4. 4. 4. 4. 4. 4. 4. 4. 4. 4. 4. 4. 4. 4. 4. 4. 4. 4. 4. 4.\n",
            " 4. 4. 4. 4. 4. 4. 4. 4. 4. 4. 4. 4. 4. 4. 4. 4. 4. 4. 4. 4. 4. 4. 4. 4.\n",
            " 4. 4. 4. 4. 4. 4. 4. 4. 4. 4. 4. 4. 4. 4. 4. 4. 4. 4. 4. 4. 4. 4. 4. 4.\n",
            " 4. 4. 4. 4. 4. 4. 4. 4. 4. 4. 4. 4. 4. 4. 4. 4. 4. 4. 4. 4. 4. 4. 4. 4.\n",
            " 4. 4. 4. 4. 4. 4. 4. 4. 4. 4. 4. 4. 4. 4. 4. 4. 4. 4. 4. 4. 4. 4. 4. 4.\n",
            " 4. 4. 4. 4. 4. 4. 4. 4. 4. 4. 4. 4. 4. 4. 4. 4. 4. 4. 4. 4. 4. 4. 4.]\n"
          ]
        }
      ],
      "source": [
        "#Create model \n",
        "X_train=data_normalized\n",
        "Y_train=Y_train\n",
        "model=gnb.fit(X_train, Y_train)\n",
        "            #classifier\n",
        "\n",
        "X_test=test_normalized\n",
        "\n",
        "pred_test=model.predict(X_test)   #put your model here\n",
        "print(len(pred_test))\n",
        "print(pred_test)"
      ]
    },
    {
      "cell_type": "markdown",
      "source": [
        "It is clear that the predication is bad because they are all 4."
      ],
      "metadata": {
        "id": "h9s3eG500liT"
      }
    },
    {
      "cell_type": "code",
      "execution_count": 119,
      "metadata": {
        "id": "KT4ax2KYoQ2S"
      },
      "outputs": [],
      "source": [
        "sample=pd.read_csv('/content/test_new.csv')\n",
        "id=sample['id']\n",
        "pred_df = pd.DataFrame(data={'id': np.asarray(id), 'rating': pred_test})\n",
        "\n",
        "pred_df.to_csv('pred_walkthrough_GNB.csv', index=False)"
      ]
    },
    {
      "cell_type": "markdown",
      "source": [
        "It gives me score = 0.70"
      ],
      "metadata": {
        "id": "t0V11WWL4Daa"
      }
    },
    {
      "cell_type": "markdown",
      "source": [
        "## Trial 1\n",
        "We could try SVM with best parameters\n",
        "   {'C': 1.0, 'kernel': 'rbf'}"
      ],
      "metadata": {
        "id": "D_ynRP6D1lqU"
      }
    },
    {
      "cell_type": "code",
      "execution_count": 122,
      "metadata": {
        "colab": {
          "base_uri": "https://localhost:8080/"
        },
        "outputId": "11a62751-b4d3-4f26-d707-fcf8d80c8cb8",
        "id": "7v14M14b1lqm"
      },
      "outputs": [
        {
          "output_type": "stream",
          "name": "stdout",
          "text": [
            "479\n",
            "[3. 4. 4. 4. 4. 4. 4. 4. 4. 5. 4. 4. 4. 4. 5. 5. 4. 4. 3. 4. 4. 4. 3. 4.\n",
            " 4. 4. 4. 5. 4. 4. 4. 4. 4. 4. 4. 4. 4. 4. 4. 4. 5. 4. 3. 4. 4. 3. 4. 4.\n",
            " 4. 4. 4. 5. 4. 4. 4. 3. 4. 4. 4. 4. 4. 4. 4. 4. 4. 4. 4. 4. 4. 4. 4. 4.\n",
            " 4. 4. 4. 4. 4. 4. 4. 4. 4. 5. 4. 4. 3. 4. 4. 5. 4. 5. 4. 4. 3. 5. 5. 4.\n",
            " 4. 4. 4. 4. 4. 5. 4. 4. 4. 4. 4. 4. 4. 4. 4. 4. 4. 4. 4. 5. 5. 4. 5. 4.\n",
            " 4. 4. 4. 5. 4. 5. 4. 4. 4. 5. 4. 4. 4. 4. 5. 5. 4. 4. 4. 5. 5. 4. 4. 4.\n",
            " 4. 4. 4. 5. 4. 4. 4. 4. 4. 4. 3. 4. 4. 4. 5. 4. 4. 5. 4. 5. 3. 4. 4. 4.\n",
            " 4. 5. 4. 5. 4. 4. 4. 4. 4. 4. 4. 4. 4. 4. 4. 4. 4. 4. 4. 4. 4. 4. 4. 4.\n",
            " 4. 4. 4. 5. 4. 3. 4. 4. 4. 4. 4. 4. 4. 4. 4. 4. 4. 5. 4. 5. 4. 4. 4. 4.\n",
            " 4. 4. 4. 4. 5. 4. 4. 3. 4. 4. 4. 4. 4. 4. 4. 4. 4. 4. 4. 5. 4. 5. 4. 4.\n",
            " 4. 4. 3. 4. 4. 5. 4. 4. 4. 4. 3. 4. 4. 4. 5. 4. 4. 5. 4. 4. 4. 4. 5. 4.\n",
            " 4. 4. 4. 5. 5. 5. 4. 3. 4. 4. 4. 4. 4. 4. 4. 4. 4. 4. 4. 5. 4. 5. 4. 4.\n",
            " 4. 4. 4. 4. 4. 4. 4. 5. 4. 4. 4. 5. 4. 4. 4. 4. 4. 5. 5. 4. 4. 4. 4. 4.\n",
            " 5. 4. 4. 4. 5. 3. 4. 4. 4. 4. 3. 4. 4. 4. 5. 3. 5. 4. 4. 4. 4. 4. 4. 4.\n",
            " 4. 4. 4. 5. 5. 4. 3. 3. 4. 4. 4. 4. 3. 4. 3. 4. 5. 4. 4. 4. 4. 3. 5. 4.\n",
            " 4. 5. 4. 4. 4. 4. 4. 4. 4. 4. 3. 4. 5. 4. 4. 4. 4. 4. 3. 3. 4. 4. 4. 4.\n",
            " 4. 4. 3. 3. 3. 4. 4. 4. 4. 4. 4. 4. 5. 4. 4. 5. 4. 4. 4. 4. 5. 5. 4. 4.\n",
            " 5. 4. 4. 5. 4. 4. 3. 4. 3. 4. 3. 4. 4. 4. 4. 5. 5. 4. 5. 3. 4. 4. 5. 4.\n",
            " 4. 5. 4. 4. 4. 4. 5. 5. 4. 4. 4. 4. 5. 4. 4. 5. 5. 4. 4. 4. 4. 3. 4. 4.\n",
            " 4. 4. 4. 3. 4. 5. 4. 4. 4. 4. 4. 4. 4. 4. 4. 4. 5. 4. 5. 4. 2. 4. 5.]\n"
          ]
        }
      ],
      "source": [
        "#Create model \n",
        "X_train=data_normalized\n",
        "Y_train=Y_train\n",
        "model= svm.LinearSVC(C=1.0).fit(X_train, Y_train)           #classifier  SVC\n",
        "\n",
        "X_test=test_normalized\n",
        "\n",
        "pred_test=model.predict(X_test)   #put your model here\n",
        "print(len(pred_test))\n",
        "print(pred_test)"
      ]
    },
    {
      "cell_type": "markdown",
      "source": [
        "It is clear that the predication is bad because they are all 4."
      ],
      "metadata": {
        "id": "SRvDZouV1lqm"
      }
    },
    {
      "cell_type": "code",
      "execution_count": 123,
      "metadata": {
        "id": "uekjnCHD1lqn"
      },
      "outputs": [],
      "source": [
        "sample=pd.read_csv('/content/test_new.csv')\n",
        "id=sample['id']\n",
        "pred_df = pd.DataFrame(data={'id': np.asarray(id), 'rating': pred_test})\n",
        "\n",
        "pred_df.to_csv('pred_walkthrough_SVM.csv', index=False)"
      ]
    },
    {
      "cell_type": "markdown",
      "source": [
        "It gives me score = 0.723"
      ],
      "metadata": {
        "id": "ExhFAa_p4WLF"
      }
    },
    {
      "cell_type": "markdown",
      "source": [
        "## Trial 2\n",
        "We could try SVM with best parameters {'C': 10.0, 'kernel': 'rbf'}"
      ],
      "metadata": {
        "id": "DSxcOKERxjve"
      }
    },
    {
      "cell_type": "code",
      "execution_count": 124,
      "metadata": {
        "colab": {
          "base_uri": "https://localhost:8080/"
        },
        "id": "9HPp9XOixjvf",
        "outputId": "2f0bacbb-0d5a-49c2-a0d0-742d13f56356"
      },
      "outputs": [
        {
          "output_type": "stream",
          "name": "stdout",
          "text": [
            "479\n",
            "[3. 4. 4. 4. 4. 4. 4. 5. 4. 5. 4. 4. 4. 4. 5. 5. 4. 4. 3. 4. 4. 5. 3. 4.\n",
            " 4. 4. 5. 5. 4. 4. 4. 5. 4. 4. 4. 4. 4. 4. 4. 4. 5. 4. 3. 4. 4. 3. 4. 5.\n",
            " 4. 3. 4. 5. 4. 4. 4. 3. 4. 4. 4. 4. 4. 3. 5. 4. 5. 5. 4. 4. 4. 4. 3. 4.\n",
            " 4. 4. 4. 4. 4. 4. 4. 4. 4. 5. 4. 4. 3. 4. 4. 5. 5. 5. 4. 4. 5. 5. 4. 4.\n",
            " 4. 5. 4. 4. 4. 5. 4. 4. 4. 3. 4. 4. 5. 4. 4. 4. 4. 5. 4. 5. 5. 4. 5. 5.\n",
            " 5. 5. 3. 5. 4. 5. 4. 4. 4. 5. 3. 4. 4. 5. 5. 5. 4. 5. 4. 5. 5. 5. 4. 4.\n",
            " 4. 4. 4. 5. 4. 4. 4. 4. 4. 4. 3. 4. 5. 4. 5. 5. 4. 5. 4. 5. 3. 4. 4. 4.\n",
            " 4. 5. 5. 5. 4. 3. 4. 4. 4. 4. 4. 4. 4. 4. 4. 4. 4. 4. 4. 5. 4. 4. 4. 4.\n",
            " 4. 4. 4. 5. 4. 3. 4. 4. 4. 4. 4. 4. 5. 5. 5. 4. 5. 5. 4. 5. 4. 4. 4. 5.\n",
            " 4. 4. 4. 4. 5. 4. 5. 5. 4. 4. 4. 4. 4. 5. 4. 4. 4. 4. 5. 5. 5. 5. 4. 4.\n",
            " 4. 4. 3. 4. 4. 5. 4. 4. 4. 4. 3. 4. 5. 4. 5. 4. 4. 5. 4. 4. 4. 4. 5. 4.\n",
            " 4. 4. 4. 5. 4. 5. 5. 5. 4. 4. 5. 5. 4. 4. 4. 4. 4. 4. 3. 5. 4. 5. 4. 4.\n",
            " 4. 4. 5. 5. 4. 4. 3. 5. 4. 4. 4. 5. 4. 5. 3. 4. 4. 5. 5. 5. 4. 4. 4. 4.\n",
            " 5. 4. 4. 5. 5. 3. 4. 4. 4. 3. 3. 4. 5. 5. 5. 3. 5. 5. 4. 4. 5. 4. 4. 4.\n",
            " 5. 5. 4. 4. 5. 4. 3. 5. 5. 4. 4. 4. 3. 4. 3. 5. 5. 4. 5. 4. 5. 3. 5. 5.\n",
            " 4. 5. 4. 4. 5. 4. 4. 4. 5. 4. 3. 4. 5. 3. 4. 4. 4. 4. 3. 3. 4. 4. 4. 4.\n",
            " 5. 4. 3. 3. 3. 5. 4. 5. 4. 3. 4. 3. 5. 4. 4. 5. 4. 4. 4. 4. 5. 5. 4. 4.\n",
            " 5. 4. 5. 5. 4. 4. 3. 4. 5. 4. 3. 5. 4. 4. 4. 5. 5. 4. 5. 3. 4. 4. 5. 5.\n",
            " 4. 5. 4. 3. 4. 4. 5. 5. 5. 4. 4. 4. 5. 4. 4. 5. 5. 3. 4. 4. 4. 3. 3. 4.\n",
            " 4. 4. 4. 3. 3. 5. 4. 4. 4. 4. 4. 4. 5. 3. 4. 4. 5. 4. 5. 4. 2. 4. 5.]\n"
          ]
        }
      ],
      "source": [
        "#Create model \n",
        "X_train=data_normalized\n",
        "Y_train=Y_train\n",
        "model= svm.LinearSVC(C=10.0).fit(X_train, Y_train)           #classifier  SVC\n",
        "\n",
        "X_test=test_normalized\n",
        "\n",
        "pred_test=model.predict(X_test)   #put your model here\n",
        "print(len(pred_test))\n",
        "print(pred_test)"
      ]
    },
    {
      "cell_type": "code",
      "execution_count": 125,
      "metadata": {
        "id": "iwrJo9khxjvg"
      },
      "outputs": [],
      "source": [
        "sample=pd.read_csv('/content/test_new.csv')\n",
        "id=sample['id']\n",
        "pred_df = pd.DataFrame(data={'id': np.asarray(id), 'rating': pred_test})\n",
        "\n",
        "pred_df.to_csv('pred_walkthrough_SVM2.csv', index=False)"
      ]
    },
    {
      "cell_type": "markdown",
      "source": [
        "it gives me score = 0.621"
      ],
      "metadata": {
        "id": "xw2VGNUf4dXy"
      }
    },
    {
      "cell_type": "markdown",
      "source": [
        "## Trial 3 \n",
        "We could try Decision Tree\n",
        "with :-\n",
        "\n",
        "(max_depth=15   ,criterion='gini' ,max_features=700\n",
        ",min_samples_leaf=10)\n"
      ],
      "metadata": {
        "id": "Ngk8ND7JxkrO"
      }
    },
    {
      "cell_type": "code",
      "execution_count": 126,
      "metadata": {
        "colab": {
          "base_uri": "https://localhost:8080/"
        },
        "id": "IWoVZZJOxkrP",
        "outputId": "d16fd800-4f38-4e8c-dfe6-5541dc39fd67"
      },
      "outputs": [
        {
          "output_type": "stream",
          "name": "stdout",
          "text": [
            "479\n",
            "[5. 4. 4. 4. 4. 5. 4. 4. 4. 4. 4. 4. 4. 4. 4. 4. 4. 4. 3. 5. 4. 5. 4. 4.\n",
            " 4. 4. 4. 5. 4. 4. 4. 4. 4. 4. 4. 4. 4. 4. 4. 4. 5. 4. 4. 4. 4. 4. 3. 4.\n",
            " 3. 4. 4. 5. 4. 4. 4. 4. 4. 4. 4. 4. 5. 3. 4. 4. 5. 4. 4. 4. 4. 4. 4. 4.\n",
            " 4. 4. 4. 4. 4. 4. 5. 4. 4. 4. 4. 4. 4. 4. 4. 4. 4. 5. 5. 4. 5. 5. 4. 4.\n",
            " 4. 4. 4. 4. 4. 4. 4. 4. 5. 4. 3. 4. 4. 4. 4. 4. 4. 5. 4. 4. 4. 4. 5. 4.\n",
            " 4. 4. 4. 4. 4. 4. 4. 4. 4. 4. 4. 4. 4. 4. 4. 4. 4. 4. 4. 4. 3. 4. 5. 5.\n",
            " 4. 4. 3. 4. 5. 4. 4. 4. 4. 4. 4. 4. 4. 4. 4. 4. 4. 4. 4. 4. 4. 4. 4. 4.\n",
            " 4. 5. 4. 4. 5. 4. 4. 4. 4. 4. 4. 4. 4. 4. 4. 4. 4. 4. 4. 4. 4. 4. 4. 4.\n",
            " 4. 4. 4. 4. 4. 4. 3. 4. 4. 5. 4. 4. 4. 4. 4. 5. 4. 3. 4. 5. 4. 4. 5. 4.\n",
            " 4. 4. 4. 4. 5. 4. 5. 4. 4. 4. 4. 4. 5. 4. 4. 4. 4. 4. 4. 4. 4. 5. 4. 4.\n",
            " 4. 4. 4. 5. 4. 4. 4. 4. 4. 4. 3. 4. 4. 4. 4. 4. 4. 4. 4. 4. 4. 4. 4. 4.\n",
            " 4. 4. 4. 4. 4. 4. 4. 4. 4. 4. 4. 4. 4. 4. 4. 4. 4. 4. 4. 4. 4. 5. 4. 4.\n",
            " 4. 4. 4. 4. 4. 4. 4. 4. 4. 4. 4. 4. 4. 4. 4. 4. 4. 5. 3. 4. 4. 4. 4. 4.\n",
            " 4. 4. 4. 4. 5. 4. 4. 4. 4. 4. 4. 4. 4. 4. 5. 4. 5. 3. 4. 4. 4. 4. 4. 4.\n",
            " 4. 4. 4. 5. 4. 4. 4. 5. 4. 4. 4. 4. 4. 4. 4. 4. 4. 4. 4. 4. 4. 4. 5. 4.\n",
            " 4. 4. 4. 3. 4. 3. 4. 4. 3. 4. 3. 5. 4. 4. 4. 4. 4. 4. 3. 4. 4. 4. 4. 4.\n",
            " 4. 4. 3. 4. 4. 4. 4. 5. 4. 4. 5. 3. 4. 4. 4. 4. 4. 4. 5. 4. 5. 3. 4. 4.\n",
            " 5. 4. 4. 5. 5. 4. 4. 4. 5. 4. 3. 4. 5. 4. 4. 4. 4. 4. 4. 4. 4. 4. 4. 4.\n",
            " 4. 4. 4. 4. 4. 4. 4. 5. 4. 4. 4. 4. 4. 4. 4. 4. 4. 4. 4. 4. 4. 4. 4. 4.\n",
            " 4. 4. 4. 4. 4. 4. 4. 4. 5. 4. 4. 4. 4. 5. 4. 4. 5. 4. 4. 4. 5. 3. 4.]\n"
          ]
        }
      ],
      "source": [
        "#Create model \n",
        "X_train=data_normalized\n",
        "Y_train=Y_train\n",
        "clf = DecisionTreeClassifier(max_depth=15 ,criterion='gini' ,\n",
        "                             max_features=700 ,min_samples_leaf=10) \n",
        "model=clf.fit(X_train, Y_train)             #classifier\n",
        "\n",
        "X_test=test_normalized\n",
        "\n",
        "pred_test=model.predict(X_test)   #put your model here\n",
        "print(len(pred_test))\n",
        "print(pred_test)"
      ]
    },
    {
      "cell_type": "code",
      "execution_count": 127,
      "metadata": {
        "id": "7tFeSYyexkrQ"
      },
      "outputs": [],
      "source": [
        "sample=pd.read_csv('/content/test_new.csv')\n",
        "id=sample['id']\n",
        "pred_df = pd.DataFrame(data={'id': np.asarray(id), 'rating': pred_test})\n",
        "\n",
        "pred_df.to_csv('pred_walkthrough_DT1.csv', index=False)"
      ]
    },
    {
      "cell_type": "markdown",
      "source": [
        "It gives me score 0.774"
      ],
      "metadata": {
        "id": "7PbGHH0n4kOy"
      }
    },
    {
      "cell_type": "markdown",
      "source": [
        "## Trial 4\n",
        "We could try Decision Tree\n",
        "with :-\n",
        "\n",
        "(max_depth=10,criterion='entropy',max_features=997,min_samples_leaf=20)\n"
      ],
      "metadata": {
        "id": "fAcFVT0O46Zq"
      }
    },
    {
      "cell_type": "code",
      "execution_count": 137,
      "metadata": {
        "colab": {
          "base_uri": "https://localhost:8080/"
        },
        "outputId": "8ac5e528-8682-47f9-bcb7-26e074ab6e09",
        "id": "5kk6GCg_46Zr"
      },
      "outputs": [
        {
          "output_type": "stream",
          "name": "stdout",
          "text": [
            "479\n",
            "[5. 4. 4. 4. 4. 5. 4. 4. 4. 4. 4. 4. 4. 4. 4. 4. 4. 4. 3. 5. 4. 5. 4. 4.\n",
            " 4. 4. 4. 5. 4. 4. 4. 4. 4. 4. 4. 4. 4. 4. 3. 4. 5. 4. 4. 4. 4. 4. 2. 3.\n",
            " 4. 4. 4. 5. 4. 4. 4. 4. 4. 4. 4. 4. 5. 4. 4. 4. 2. 4. 4. 4. 4. 4. 4. 4.\n",
            " 4. 4. 4. 4. 4. 4. 4. 4. 4. 3. 4. 4. 4. 4. 4. 4. 4. 5. 5. 4. 5. 5. 4. 4.\n",
            " 4. 4. 4. 4. 4. 4. 4. 4. 5. 3. 3. 4. 4. 4. 4. 4. 4. 5. 4. 4. 4. 4. 5. 4.\n",
            " 4. 4. 4. 4. 4. 4. 4. 4. 4. 4. 4. 4. 4. 4. 4. 4. 4. 4. 4. 4. 4. 4. 5. 5.\n",
            " 4. 4. 4. 4. 4. 4. 4. 4. 4. 4. 4. 4. 4. 4. 4. 4. 4. 4. 4. 4. 4. 4. 4. 4.\n",
            " 4. 5. 4. 4. 5. 4. 4. 4. 4. 4. 4. 4. 4. 4. 4. 4. 4. 4. 4. 4. 4. 3. 4. 4.\n",
            " 4. 4. 4. 4. 4. 4. 3. 4. 4. 5. 4. 4. 4. 4. 4. 4. 4. 2. 4. 5. 4. 4. 5. 4.\n",
            " 4. 4. 3. 4. 4. 3. 5. 4. 4. 4. 4. 4. 5. 3. 4. 4. 4. 4. 4. 4. 4. 3. 4. 4.\n",
            " 4. 4. 4. 5. 4. 4. 4. 4. 4. 4. 5. 4. 4. 4. 4. 4. 4. 4. 4. 4. 4. 4. 4. 4.\n",
            " 4. 4. 4. 4. 4. 4. 4. 4. 3. 4. 4. 4. 4. 4. 4. 4. 4. 3. 4. 4. 4. 5. 4. 4.\n",
            " 4. 4. 4. 4. 4. 4. 4. 4. 4. 4. 4. 4. 4. 4. 4. 4. 4. 5. 4. 4. 4. 4. 4. 4.\n",
            " 3. 4. 4. 4. 5. 4. 4. 4. 3. 4. 4. 4. 4. 4. 5. 4. 5. 5. 4. 4. 4. 4. 4. 4.\n",
            " 4. 4. 4. 5. 4. 4. 4. 5. 4. 4. 4. 4. 4. 4. 4. 4. 4. 4. 4. 3. 4. 4. 5. 4.\n",
            " 4. 4. 4. 4. 4. 5. 4. 4. 3. 4. 3. 5. 4. 4. 4. 4. 4. 4. 5. 4. 4. 4. 4. 3.\n",
            " 4. 4. 2. 4. 4. 4. 4. 5. 4. 4. 5. 5. 4. 4. 4. 4. 4. 4. 5. 4. 5. 5. 4. 4.\n",
            " 5. 4. 4. 5. 5. 4. 4. 3. 5. 4. 3. 4. 5. 4. 4. 4. 4. 4. 5. 4. 4. 4. 4. 4.\n",
            " 4. 4. 4. 4. 4. 4. 5. 5. 4. 4. 4. 4. 4. 4. 4. 4. 4. 4. 4. 4. 4. 4. 4. 4.\n",
            " 4. 4. 4. 4. 4. 4. 4. 4. 4. 4. 4. 4. 4. 4. 4. 4. 5. 4. 4. 4. 5. 4. 4.]\n"
          ]
        }
      ],
      "source": [
        "#Create model \n",
        "X_train=data_normalized\n",
        "Y_train=Y_train\n",
        "clf = DecisionTreeClassifier(max_depth=10,criterion='entropy',\n",
        "                             max_features=997,min_samples_leaf=20)  \n",
        "model=clf.fit(X_train, Y_train)             #classifier\n",
        "\n",
        "X_test=test_normalized\n",
        "\n",
        "pred_test=model.predict(X_test)   #put your model here\n",
        "print(len(pred_test))\n",
        "print(pred_test)"
      ]
    },
    {
      "cell_type": "code",
      "execution_count": 138,
      "metadata": {
        "id": "7aR1ncnX46Zs"
      },
      "outputs": [],
      "source": [
        "sample=pd.read_csv('/content/test_new.csv')\n",
        "id=sample['id']\n",
        "pred_df = pd.DataFrame(data={'id': np.asarray(id), 'rating': pred_test})\n",
        "\n",
        "pred_df.to_csv('pred_walkthrough_DT2.csv', index=False)"
      ]
    },
    {
      "cell_type": "markdown",
      "source": [
        "It gives me score 0.786"
      ],
      "metadata": {
        "id": "q41ZrL0b46Zs"
      }
    },
    {
      "cell_type": "markdown",
      "source": [
        "## It is clear that the best model is Decision tree with **score = 0.786** and **private score = 0.766**"
      ],
      "metadata": {
        "id": "tN3KL-F96ZOa"
      }
    },
    {
      "cell_type": "markdown",
      "source": [
        "## Trial 5 \n",
        "We could try XGBOOSt   \n"
      ],
      "metadata": {
        "id": "kAy6OS8XxjDl"
      }
    },
    {
      "cell_type": "code",
      "execution_count": 120,
      "metadata": {
        "colab": {
          "base_uri": "https://localhost:8080/"
        },
        "id": "muAP2HUJxjD2",
        "outputId": "7f211dbf-9d92-4dce-dad3-d155b446046c"
      },
      "outputs": [
        {
          "output_type": "stream",
          "name": "stdout",
          "text": [
            "479\n",
            "[5. 4. 4. 4. 4. 5. 4. 4. 4. 4. 4. 4. 4. 4. 4. 4. 5. 4. 4. 5. 4. 5. 4. 4.\n",
            " 4. 4. 4. 5. 4. 4. 4. 4. 4. 4. 4. 4. 4. 4. 4. 4. 5. 4. 4. 4. 4. 4. 5. 5.\n",
            " 4. 4. 4. 5. 4. 4. 4. 4. 4. 4. 4. 4. 5. 4. 4. 4. 5. 4. 4. 4. 4. 4. 4. 4.\n",
            " 4. 4. 4. 4. 4. 4. 4. 4. 4. 4. 4. 4. 4. 4. 4. 4. 4. 5. 5. 4. 5. 5. 5. 4.\n",
            " 5. 4. 4. 4. 4. 4. 4. 4. 5. 4. 4. 4. 4. 4. 4. 4. 4. 5. 4. 4. 4. 4. 5. 4.\n",
            " 5. 4. 4. 4. 4. 4. 4. 4. 4. 4. 4. 4. 4. 4. 4. 4. 4. 4. 4. 4. 5. 4. 5. 5.\n",
            " 4. 4. 4. 4. 4. 4. 4. 4. 4. 4. 4. 4. 4. 4. 4. 4. 4. 4. 4. 4. 4. 4. 4. 4.\n",
            " 4. 5. 4. 5. 4. 4. 4. 4. 4. 4. 4. 4. 4. 4. 4. 4. 4. 4. 4. 4. 4. 4. 4. 3.\n",
            " 4. 4. 4. 5. 4. 4. 4. 4. 4. 5. 4. 4. 4. 4. 4. 4. 4. 5. 4. 5. 4. 4. 5. 4.\n",
            " 4. 4. 4. 4. 4. 4. 5. 4. 4. 4. 4. 4. 5. 4. 4. 4. 4. 4. 4. 4. 4. 4. 4. 4.\n",
            " 4. 4. 4. 5. 4. 4. 4. 4. 4. 4. 3. 4. 4. 4. 4. 4. 4. 5. 4. 4. 4. 4. 4. 4.\n",
            " 4. 4. 4. 4. 4. 4. 4. 4. 4. 4. 4. 4. 4. 4. 4. 4. 4. 4. 4. 4. 4. 5. 4. 4.\n",
            " 4. 4. 4. 4. 4. 4. 4. 4. 4. 4. 4. 4. 4. 4. 4. 4. 4. 5. 4. 4. 4. 5. 4. 4.\n",
            " 4. 4. 4. 4. 5. 4. 4. 4. 3. 3. 4. 4. 4. 4. 5. 4. 4. 4. 4. 4. 4. 4. 4. 4.\n",
            " 4. 4. 4. 5. 4. 4. 4. 4. 4. 4. 4. 4. 4. 4. 4. 4. 4. 4. 4. 4. 4. 4. 5. 4.\n",
            " 4. 4. 4. 4. 4. 3. 4. 4. 4. 4. 4. 5. 4. 3. 4. 4. 4. 4. 3. 4. 4. 4. 4. 4.\n",
            " 4. 4. 4. 4. 4. 4. 4. 5. 4. 4. 5. 4. 4. 4. 4. 4. 4. 4. 5. 4. 5. 4. 4. 4.\n",
            " 5. 4. 4. 5. 5. 4. 4. 4. 5. 4. 4. 4. 5. 4. 4. 4. 4. 4. 5. 4. 4. 4. 4. 4.\n",
            " 4. 4. 4. 4. 4. 4. 4. 5. 4. 4. 4. 4. 4. 4. 4. 4. 4. 4. 4. 4. 4. 4. 4. 4.\n",
            " 4. 4. 4. 4. 4. 4. 4. 4. 4. 4. 4. 4. 4. 4. 4. 4. 5. 4. 4. 4. 2. 4. 4.]\n"
          ]
        }
      ],
      "source": [
        "#Create model \n",
        "X_train=data_normalized\n",
        "Y_train=Y_train\n",
        "model=classifier_XGBC.fit(X_train, Y_train)            #classifier\n",
        "\n",
        "X_test=test_normalized\n",
        "\n",
        "pred_test=model.predict(X_test)   #put your model here\n",
        "print(len(pred_test))\n",
        "print(pred_test)"
      ]
    },
    {
      "cell_type": "code",
      "execution_count": 121,
      "metadata": {
        "id": "W5Ve7_BwxjD3"
      },
      "outputs": [],
      "source": [
        "sample=pd.read_csv('/content/test_new.csv')\n",
        "id=sample['id']\n",
        "pred_df = pd.DataFrame(data={'id': np.asarray(id), 'rating': pred_test})\n",
        "\n",
        "pred_df.to_csv('pred_walkthrough_XGBO.csv', index=False)"
      ]
    },
    {
      "cell_type": "markdown",
      "source": [
        "it gives me score = 0.779 "
      ],
      "metadata": {
        "id": "jioYslbY4p-r"
      }
    },
    {
      "cell_type": "markdown",
      "source": [
        "## Trial 6 \n",
        "Ada boost with random forest"
      ],
      "metadata": {
        "id": "89hXmUJt7CAA"
      }
    },
    {
      "cell_type": "code",
      "source": [
        "X_train=data_normalized\n",
        "Y_train=Y_train\n",
        "#Create model \n",
        "\n",
        "classifier_ABC_RF = AdaBoostClassifier(RandomForestClassifier(),algorithm= 'SAMME',\n",
        "                                       learning_rate= 0.082,n_estimators= 100)\n",
        "\n",
        "model=classifier_ABC_RF.fit(X_train, Y_train)            #classifier\n",
        "\n",
        "X_test=test_normalized\n",
        "\n",
        "pred_test=model.predict(X_test)   #put your model here\n",
        "print(len(pred_test))\n",
        "print(pred_test)"
      ],
      "metadata": {
        "colab": {
          "base_uri": "https://localhost:8080/"
        },
        "id": "bPmo3ih37HYV",
        "outputId": "a65a3210-05a7-468a-d35d-69a809ea36c0"
      },
      "execution_count": 139,
      "outputs": [
        {
          "output_type": "stream",
          "name": "stdout",
          "text": [
            "479\n",
            "[5. 4. 4. 4. 4. 5. 4. 4. 4. 4. 4. 4. 4. 4. 4. 4. 4. 4. 4. 5. 4. 5. 4. 4.\n",
            " 4. 4. 4. 5. 4. 4. 4. 4. 4. 4. 4. 4. 4. 4. 4. 4. 5. 4. 4. 4. 4. 4. 4. 4.\n",
            " 4. 4. 4. 5. 4. 4. 4. 4. 4. 4. 4. 4. 4. 4. 4. 4. 4. 4. 4. 4. 4. 4. 4. 4.\n",
            " 4. 4. 4. 4. 4. 4. 4. 4. 4. 4. 4. 4. 4. 4. 4. 4. 4. 5. 5. 4. 3. 5. 4. 4.\n",
            " 4. 4. 4. 4. 4. 4. 4. 4. 5. 4. 4. 4. 4. 4. 4. 4. 4. 4. 4. 4. 4. 4. 5. 4.\n",
            " 4. 4. 4. 4. 4. 4. 4. 4. 4. 4. 4. 4. 4. 4. 4. 4. 4. 4. 4. 4. 5. 4. 5. 5.\n",
            " 4. 4. 4. 4. 4. 4. 4. 4. 4. 4. 3. 4. 4. 4. 4. 4. 4. 4. 4. 4. 4. 4. 4. 4.\n",
            " 4. 4. 4. 4. 4. 4. 4. 4. 4. 4. 4. 4. 4. 4. 4. 4. 4. 4. 4. 4. 4. 4. 4. 4.\n",
            " 4. 4. 4. 4. 4. 4. 4. 4. 4. 4. 4. 4. 4. 4. 4. 4. 4. 5. 4. 3. 4. 4. 5. 4.\n",
            " 4. 4. 4. 4. 4. 4. 5. 4. 4. 4. 4. 4. 5. 4. 4. 4. 4. 4. 4. 4. 4. 4. 4. 4.\n",
            " 4. 4. 4. 5. 4. 4. 4. 4. 4. 4. 3. 4. 4. 4. 4. 4. 4. 4. 4. 4. 4. 4. 4. 4.\n",
            " 4. 4. 4. 4. 4. 4. 4. 4. 4. 4. 4. 4. 4. 4. 4. 4. 4. 4. 4. 4. 4. 5. 4. 4.\n",
            " 4. 4. 4. 4. 4. 4. 4. 4. 4. 4. 4. 4. 4. 4. 4. 4. 4. 4. 4. 4. 4. 4. 4. 4.\n",
            " 4. 4. 4. 4. 5. 4. 4. 4. 4. 4. 4. 4. 4. 4. 5. 4. 5. 4. 4. 4. 4. 4. 4. 4.\n",
            " 4. 4. 4. 5. 4. 4. 4. 4. 4. 4. 4. 4. 4. 4. 4. 4. 4. 4. 4. 4. 4. 4. 4. 4.\n",
            " 4. 4. 4. 4. 4. 4. 4. 4. 4. 4. 4. 5. 4. 4. 4. 4. 4. 4. 3. 4. 4. 4. 4. 4.\n",
            " 4. 4. 3. 4. 4. 4. 4. 4. 4. 4. 5. 4. 4. 4. 4. 4. 4. 4. 4. 4. 5. 5. 4. 4.\n",
            " 5. 4. 4. 5. 4. 4. 3. 4. 3. 4. 4. 4. 5. 4. 4. 4. 4. 4. 4. 4. 4. 4. 4. 4.\n",
            " 4. 4. 4. 4. 4. 4. 4. 4. 4. 4. 4. 4. 4. 4. 4. 4. 4. 4. 4. 4. 4. 4. 4. 4.\n",
            " 4. 4. 4. 4. 4. 4. 4. 4. 4. 4. 4. 4. 4. 4. 4. 4. 5. 4. 4. 4. 2. 4. 4.]\n"
          ]
        }
      ]
    },
    {
      "cell_type": "code",
      "source": [
        "sample=pd.read_csv('/content/test_new.csv')\n",
        "id=sample['id']\n",
        "pred_df = pd.DataFrame(data={'id': np.asarray(id), 'rating': pred_test})\n",
        "\n",
        "pred_df.to_csv('pred_walkthrough_ABC_RF.csv', index=False)"
      ],
      "metadata": {
        "id": "cGHhJ1PO7Xdq"
      },
      "execution_count": 140,
      "outputs": []
    },
    {
      "cell_type": "markdown",
      "source": [
        "It gives public score = .78  and private score = .79"
      ],
      "metadata": {
        "id": "7-BKjAvw7xph"
      }
    },
    {
      "cell_type": "markdown",
      "source": [
        "# 6- QUESTIONS"
      ],
      "metadata": {
        "id": "6dlJwWT8ogOq"
      }
    },
    {
      "cell_type": "markdown",
      "source": [
        "##1- Why Data Mining is a misnomer? What is another preferred name?"
      ],
      "metadata": {
        "id": "mfnuUHhuot34"
      }
    },
    {
      "cell_type": "markdown",
      "source": [
        "* It's considered minsomer because we are not search for data itself because we already have it but it's dedicated to extract a knowldege and patterens from a huge amount of data.\n",
        "* Another preferred name is Knowledge discovery from databases (KDD)."
      ],
      "metadata": {
        "id": "VspSAkwpo1hy"
      }
    },
    {
      "cell_type": "markdown",
      "source": [
        "## 2- What is the general knowledge discovery process? What is the difference between a data engineer and data scientist/AI engineer?"
      ],
      "metadata": {
        "id": "l3DJWFNmo-2m"
      }
    },
    {
      "cell_type": "markdown",
      "source": [
        "it's the process that if we follow its steps we will discover meaningful knowledge and patterns from huge data, and emphasizes the \"high-level\" application of particular data mining methods.\n",
        "And its steps are:\n",
        "\n",
        " * Determine the domain.\n",
        "\n",
        "* Understanding the problem.\n",
        "\n",
        "* Get the task-relevant data from the data warehouse or databases.\n",
        "\n",
        "* Understanding the data.\n",
        "\n",
        "* Cleaning the data (remove noise, null values, duplicates, convert their features to the proper data type).\n",
        "\n",
        "* Choosing the data mining goal (classification, regression, clustring) and select the best model to reach this goal. (choose best hyperparameters, etc...)\n",
        "\n",
        "* Data mining\n",
        "\n",
        "* Pattern evaluation"
      ],
      "metadata": {
        "id": "jIPb3k9jpDph"
      }
    },
    {
      "cell_type": "markdown",
      "source": [
        "## 3-  In data mining, what is the difference between prediction and categorization?"
      ],
      "metadata": {
        "id": "ZuAfoJerpaEQ"
      }
    },
    {
      "cell_type": "markdown",
      "source": [
        "the main difference between prediction and categorization is that categorization (classification) is to determine the (categorical) labels (discrete value) of objects whose class label is unknown or classify these observations into their right categories like the type of fruit, on the other hand, prediction (regression) about predicts the unknown numerical value (continuous value) like predicting the price of a new house and it's mostly used to predict the value of something in the future."
      ],
      "metadata": {
        "id": "DqEwPhO3pcQ8"
      }
    },
    {
      "cell_type": "markdown",
      "source": [
        "## 4-  Why data science/machine learning is a bad idea in the context of information security?"
      ],
      "metadata": {
        "id": "8hFCb0iwpgx5"
      }
    },
    {
      "cell_type": "markdown",
      "source": [
        "because data science is a data-driven approach so it depends on the data to work and that may be increased risk of data breach and fine and by that you may build a bad model, or may be fed a wrong informaiton to your model, also you have to make sure that you're folllow data privacy guidlines."
      ],
      "metadata": {
        "id": "9vP_yGaep0k6"
      }
    },
    {
      "cell_type": "markdown",
      "source": [
        "## 5- What is CIA principle and how can we use it to access the security/privacy aspect of the AI system/pipelines?"
      ],
      "metadata": {
        "id": "901dLoWnp12g"
      }
    },
    {
      "cell_type": "markdown",
      "source": [
        "- The CIA triad is a concept for guiding information security policy within an organization and it named like that because it consists of three important key terms confidentiality (is a set of rules that restricts information access), integrity (make sure that the information in the organization is accurate and reliable), availability(is a guarantee that only authorized people will have dependable access to information). and we can use it in our AI pipelines to ensure that AI pipeline follow CIA guidlines or to check what is the type of attaks that we are under and fix the situation quickly.\n",
        "\n",
        "types of attacks:\n",
        "\n",
        "- Adversarial (front-end) - Confidentiality\n",
        "- Backdoor/data poisoning (data source) – Integrity\n",
        "- Training data reconstruction – Confidentiality (privacy)\n",
        "- Steeling the model - Confidentiality\n",
        "- Membership inference - Confidentiality (privacy)\n"
      ],
      "metadata": {
        "id": "BJ8iLdkPqCMy"
      }
    }
  ],
  "metadata": {
    "accelerator": "GPU",
    "colab": {
      "collapsed_sections": [
        "20ee0d9a",
        "3D7vqUMp42UR",
        "Sq-umSs7vJcu",
        "2NYqHurQ5HaC",
        "LfNmt5uFF4TS",
        "2ycjy6CFIHM5",
        "09IEN9dQ4N62",
        "tXHmf_0U4wSY",
        "KQWUEpsy7PNy",
        "Vj0t9wTL6oQs",
        "QytH1r2qzqZl",
        "Di1KdBWJoHUE",
        "kcfXyVPRztdO",
        "OPpkZ6XTdko7",
        "xVZZzCOa_L_d",
        "GGWd3T9L_VLu",
        "zsF3iig7mQAn",
        "qLuE7cYR_KYt",
        "mWAqXLZSoCBK",
        "lbz9c3IOdjk9",
        "9znVSJw8p1Q9",
        "A9UbqtbjNtO8",
        "iRW7I7DGN3zD",
        "yqb9VurEurWk",
        "D_ynRP6D1lqU",
        "DSxcOKERxjve",
        "Ngk8ND7JxkrO",
        "fAcFVT0O46Zq",
        "kAy6OS8XxjDl",
        "89hXmUJt7CAA",
        "6dlJwWT8ogOq",
        "mfnuUHhuot34",
        "l3DJWFNmo-2m",
        "ZuAfoJerpaEQ",
        "8hFCb0iwpgx5",
        "901dLoWnp12g"
      ],
      "name": "Product Rating Prediction-Kaggle-DM.ipynb",
      "provenance": []
    },
    "kernelspec": {
      "display_name": "Python 3",
      "name": "python3"
    },
    "language_info": {
      "name": "python"
    }
  },
  "nbformat": 4,
  "nbformat_minor": 0
}